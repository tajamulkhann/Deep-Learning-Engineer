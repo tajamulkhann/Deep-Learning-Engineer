{
 "cells": [
  {
   "cell_type": "markdown",
   "metadata": {},
   "source": [
    "# Binary classifier - mitigate overfitting\n",
    "\n",
    "Show some experiments about mitigating overfitting of the model described in chapter 3 (notebook 01)."
   ]
  },
  {
   "cell_type": "markdown",
   "metadata": {},
   "source": [
    "### Import libraries"
   ]
  },
  {
   "cell_type": "code",
   "execution_count": 1,
   "metadata": {},
   "outputs": [],
   "source": [
    "import numpy as np\n",
    "import matplotlib.pyplot as plt\n",
    "import tensorflow as tf\n",
    "\n",
    "from tensorflow.keras import models, layers, optimizers, losses, metrics\n",
    "from tensorflow.keras.datasets import imdb"
   ]
  },
  {
   "cell_type": "markdown",
   "metadata": {},
   "source": [
    "### Get datasets"
   ]
  },
  {
   "cell_type": "code",
   "execution_count": 2,
   "metadata": {},
   "outputs": [],
   "source": [
    "LIMIT_WORD = 10000\n",
    "\n",
    "(train_data, train_labels), (test_data, test_labels) = imdb.load_data(num_words=LIMIT_WORD)"
   ]
  },
  {
   "cell_type": "markdown",
   "metadata": {},
   "source": [
    "### Data exploring (convert sequences to original review)"
   ]
  },
  {
   "cell_type": "code",
   "execution_count": 3,
   "metadata": {},
   "outputs": [],
   "source": [
    "def convert_to_english(sequence):\n",
    "    word_index = imdb.get_word_index()\n",
    "    reverse_word_index = dict(\n",
    "        [(value, key) for (key, value) in word_index.items()]\n",
    "    )\n",
    "    decoded_review = \" \".join(\n",
    "        [reverse_word_index.get(i - 3, '?') for i in sequence]\n",
    "    )\n",
    "    \n",
    "    return decoded_review"
   ]
  },
  {
   "cell_type": "code",
   "execution_count": 4,
   "metadata": {},
   "outputs": [
    {
     "name": "stdout",
     "output_type": "stream",
     "text": [
      "? this film was just brilliant casting location scenery story direction everyone's really suited the part they played and you could just imagine being there robert ? is an amazing actor and now the same being director ? father came from the same scottish island as myself so i loved the fact there was a real connection with this film the witty remarks throughout the film were great it was just brilliant so much that i bought the film as soon as it was released for ? and would recommend it to everyone to watch and the fly fishing was amazing really cried at the end it was so sad and you know what they say if you cry at a film it must have been good and this definitely was also ? to the two little boy's that played the ? of norman and paul they were just brilliant children are often left out of the ? list i think because the stars that play them all grown up are such a big profile for the whole film but these children are amazing and should be praised for what they have done don't you think the whole story was so lovely because it was true and was someone's life after all that was shared with us all\n"
     ]
    }
   ],
   "source": [
    "print(convert_to_english(train_data[0]))"
   ]
  },
  {
   "cell_type": "markdown",
   "metadata": {},
   "source": [
    "### Prepare the data (convert sequences into tensors)"
   ]
  },
  {
   "cell_type": "code",
   "execution_count": 5,
   "metadata": {},
   "outputs": [],
   "source": [
    "def vectorize_sequences(sequences, dimension=LIMIT_WORD):\n",
    "    results = np.zeros((len(sequences), dimension))\n",
    "    for i, sequence in enumerate(sequences):\n",
    "        results[i, sequence] = 1\n",
    "    \n",
    "    return results"
   ]
  },
  {
   "cell_type": "markdown",
   "metadata": {},
   "source": [
    "#### Vectorize examples"
   ]
  },
  {
   "cell_type": "code",
   "execution_count": 6,
   "metadata": {},
   "outputs": [],
   "source": [
    "x_train = vectorize_sequences(train_data)\n",
    "x_test = vectorize_sequences(test_data)"
   ]
  },
  {
   "cell_type": "code",
   "execution_count": 7,
   "metadata": {},
   "outputs": [
    {
     "data": {
      "text/plain": [
       "array([0., 1., 1., ..., 0., 0., 0.])"
      ]
     },
     "execution_count": 7,
     "metadata": {},
     "output_type": "execute_result"
    }
   ],
   "source": [
    "x_train[0]"
   ]
  },
  {
   "cell_type": "markdown",
   "metadata": {},
   "source": [
    "#### Vectorize labels"
   ]
  },
  {
   "cell_type": "code",
   "execution_count": 8,
   "metadata": {},
   "outputs": [],
   "source": [
    "y_train = np.asarray(train_labels).astype('float32')\n",
    "y_test = np.asarray(test_labels).astype('float32')"
   ]
  },
  {
   "cell_type": "code",
   "execution_count": 9,
   "metadata": {},
   "outputs": [
    {
     "data": {
      "text/plain": [
       "1.0"
      ]
     },
     "execution_count": 9,
     "metadata": {},
     "output_type": "execute_result"
    }
   ],
   "source": [
    "y_train[0]"
   ]
  },
  {
   "cell_type": "markdown",
   "metadata": {},
   "source": [
    "## Helpers\n",
    "\n",
    "- compiler\n",
    "- trainer\n",
    "- plotter"
   ]
  },
  {
   "cell_type": "code",
   "execution_count": 36,
   "metadata": {},
   "outputs": [],
   "source": [
    "def compile_model(model):\n",
    "    model.compile(\n",
    "        optimizer=optimizers.RMSprop(lr=0.001),\n",
    "        loss=losses.binary_crossentropy,\n",
    "        metrics=[metrics.binary_accuracy]\n",
    "    )\n",
    "    \n",
    "    return model\n",
    "\n",
    "\n",
    "def fit_model(model):\n",
    "    x_val = x_train[:10000]\n",
    "    partial_x_train = x_train[10000:]\n",
    "    y_val = y_train[:10000]\n",
    "    partial_y_train = y_train[10000:]\n",
    "\n",
    "    history = model.fit(\n",
    "        partial_x_train,\n",
    "        partial_y_train,\n",
    "        epochs=20,\n",
    "        batch_size=512,\n",
    "        validation_data=(x_val, y_val)\n",
    "    )\n",
    "    \n",
    "    return history\n",
    "\n",
    "\n",
    "def plot_loss(history):\n",
    "    history_dict = history.history\n",
    "    loss_values = history_dict['loss']\n",
    "    val_loss_values = history_dict['val_loss']\n",
    "    acc = history_dict['binary_accuracy']\n",
    "\n",
    "    epochs = range(1, len(acc) + 1)\n",
    "    plt.plot(epochs, loss_values, 'bo', label='Validation loss')\n",
    "    plt.plot(epochs, val_loss_values, 'b', label='Validation loss')\n",
    "    plt.title('Training and validation loss')\n",
    "    plt.xlabel('Epochs')\n",
    "    plt.ylabel('Loss')\n",
    "    plt.legend()\n",
    "\n",
    "    plt.show"
   ]
  },
  {
   "cell_type": "markdown",
   "metadata": {},
   "source": [
    "### Building the network\n",
    "\n",
    "#### Original model\n",
    "\n",
    "- 2 intermediate Dense layers with 16 hidden unites per each (relu actovation function)\n",
    "- 1 output layer (with sigmoid activation function)"
   ]
  },
  {
   "cell_type": "code",
   "execution_count": 37,
   "metadata": {},
   "outputs": [],
   "source": [
    "model = models.Sequential()\n",
    "model.add(layers.Dense(16, activation='relu', input_shape=(LIMIT_WORD,)))\n",
    "model.add(layers.Dense(16, activation='relu'))\n",
    "model.add(layers.Dense(1, activation='sigmoid'))"
   ]
  },
  {
   "cell_type": "markdown",
   "metadata": {},
   "source": [
    "<img src=\"./resources/binary_class_model_validation_loss.png\">"
   ]
  },
  {
   "cell_type": "markdown",
   "metadata": {},
   "source": [
    "## Experiment 1\n",
    "\n",
    "- Replace with a smaller network"
   ]
  },
  {
   "cell_type": "code",
   "execution_count": 38,
   "metadata": {},
   "outputs": [
    {
     "name": "stdout",
     "output_type": "stream",
     "text": [
      "Train on 15000 samples, validate on 10000 samples\n",
      "Epoch 1/20\n",
      "15000/15000 [==============================] - 1s 91us/sample - loss: 0.5986 - binary_accuracy: 0.6721 - val_loss: 0.5440 - val_binary_accuracy: 0.7756\n",
      "Epoch 2/20\n",
      "15000/15000 [==============================] - 1s 59us/sample - loss: 0.4944 - binary_accuracy: 0.8292 - val_loss: 0.5102 - val_binary_accuracy: 0.7642\n",
      "Epoch 3/20\n",
      "15000/15000 [==============================] - 1s 61us/sample - loss: 0.4413 - binary_accuracy: 0.8839 - val_loss: 0.4710 - val_binary_accuracy: 0.8303\n",
      "Epoch 4/20\n",
      "15000/15000 [==============================] - 1s 67us/sample - loss: 0.4012 - binary_accuracy: 0.9153 - val_loss: 0.4447 - val_binary_accuracy: 0.8631\n",
      "Epoch 5/20\n",
      "15000/15000 [==============================] - 1s 59us/sample - loss: 0.3675 - binary_accuracy: 0.9341 - val_loss: 0.4297 - val_binary_accuracy: 0.8689\n",
      "Epoch 6/20\n",
      "15000/15000 [==============================] - 1s 70us/sample - loss: 0.3377 - binary_accuracy: 0.9480 - val_loss: 0.4134 - val_binary_accuracy: 0.8802\n",
      "Epoch 7/20\n",
      "15000/15000 [==============================] - 1s 66us/sample - loss: 0.3107 - binary_accuracy: 0.9556 - val_loss: 0.3984 - val_binary_accuracy: 0.8850\n",
      "Epoch 8/20\n",
      "15000/15000 [==============================] - 1s 72us/sample - loss: 0.2852 - binary_accuracy: 0.9641 - val_loss: 0.3898 - val_binary_accuracy: 0.8836\n",
      "Epoch 9/20\n",
      "15000/15000 [==============================] - 1s 62us/sample - loss: 0.2612 - binary_accuracy: 0.9709 - val_loss: 0.4306 - val_binary_accuracy: 0.8579\n",
      "Epoch 10/20\n",
      "15000/15000 [==============================] - 1s 61us/sample - loss: 0.2402 - binary_accuracy: 0.9747 - val_loss: 0.4170 - val_binary_accuracy: 0.8628\n",
      "Epoch 11/20\n",
      "15000/15000 [==============================] - 1s 58us/sample - loss: 0.2177 - binary_accuracy: 0.9781 - val_loss: 0.4067 - val_binary_accuracy: 0.8689\n",
      "Epoch 12/20\n",
      "15000/15000 [==============================] - 1s 60us/sample - loss: 0.1981 - binary_accuracy: 0.9814 - val_loss: 0.3860 - val_binary_accuracy: 0.8748\n",
      "Epoch 13/20\n",
      "15000/15000 [==============================] - 1s 61us/sample - loss: 0.1762 - binary_accuracy: 0.9847 - val_loss: 0.3649 - val_binary_accuracy: 0.8774\n",
      "Epoch 14/20\n",
      "15000/15000 [==============================] - 1s 57us/sample - loss: 0.1580 - binary_accuracy: 0.9862 - val_loss: 0.4054 - val_binary_accuracy: 0.8709\n",
      "Epoch 15/20\n",
      "15000/15000 [==============================] - 1s 73us/sample - loss: 0.1385 - binary_accuracy: 0.9878 - val_loss: 0.4042 - val_binary_accuracy: 0.8697\n",
      "Epoch 16/20\n",
      "15000/15000 [==============================] - 1s 59us/sample - loss: 0.1205 - binary_accuracy: 0.9885 - val_loss: 0.3817 - val_binary_accuracy: 0.8735\n",
      "Epoch 17/20\n",
      "15000/15000 [==============================] - 1s 59us/sample - loss: 0.1053 - binary_accuracy: 0.9896 - val_loss: 0.4003 - val_binary_accuracy: 0.8707\n",
      "Epoch 18/20\n",
      "15000/15000 [==============================] - 1s 60us/sample - loss: 0.0876 - binary_accuracy: 0.9910 - val_loss: 0.3822 - val_binary_accuracy: 0.8725\n",
      "Epoch 19/20\n",
      "15000/15000 [==============================] - 1s 69us/sample - loss: 0.0745 - binary_accuracy: 0.9914 - val_loss: 0.4468 - val_binary_accuracy: 0.8658\n",
      "Epoch 20/20\n",
      "15000/15000 [==============================] - 1s 58us/sample - loss: 0.0623 - binary_accuracy: 0.9920 - val_loss: 0.4557 - val_binary_accuracy: 0.8673\n"
     ]
    },
    {
     "data": {
      "image/png": "[encoded data removed]",
      "text/plain": [
       "<Figure size 432x288 with 1 Axes>"
      ]
     },
     "metadata": {
      "needs_background": "light"
     },
     "output_type": "display_data"
    }
   ],
   "source": [
    "model = models.Sequential()\n",
    "model.add(layers.Dense(4, activation='relu', input_shape=(LIMIT_WORD,)))\n",
    "model.add(layers.Dense(4, activation='relu'))\n",
    "model.add(layers.Dense(1, activation='sigmoid'))\n",
    "\n",
    "model = compile_model(model)\n",
    "history = fit_model(model)\n",
    "plot_loss(history)"
   ]
  },
  {
   "cell_type": "markdown",
   "metadata": {},
   "source": [
    "Note how the model starts overfitting **much later** than the original one."
   ]
  },
  {
   "cell_type": "markdown",
   "metadata": {},
   "source": [
    "## Experiment 2\n",
    "\n",
    "- Replace with a network with higher capacity"
   ]
  },
  {
   "cell_type": "code",
   "execution_count": 39,
   "metadata": {},
   "outputs": [
    {
     "name": "stdout",
     "output_type": "stream",
     "text": [
      "Train on 15000 samples, validate on 10000 samples\n",
      "Epoch 1/20\n",
      "15000/15000 [==============================] - 3s 233us/sample - loss: 0.5334 - binary_accuracy: 0.7633 - val_loss: 0.6334 - val_binary_accuracy: 0.7081\n",
      "Epoch 2/20\n",
      "15000/15000 [==============================] - 3s 200us/sample - loss: 0.2486 - binary_accuracy: 0.9004 - val_loss: 0.2721 - val_binary_accuracy: 0.8904\n",
      "Epoch 3/20\n",
      "15000/15000 [==============================] - 3s 202us/sample - loss: 0.1558 - binary_accuracy: 0.9447 - val_loss: 0.2974 - val_binary_accuracy: 0.8899\n",
      "Epoch 4/20\n",
      "15000/15000 [==============================] - 3s 210us/sample - loss: 0.0825 - binary_accuracy: 0.9709 - val_loss: 0.4623 - val_binary_accuracy: 0.8311\n",
      "Epoch 5/20\n",
      "15000/15000 [==============================] - 3s 207us/sample - loss: 0.0689 - binary_accuracy: 0.9819 - val_loss: 0.2877 - val_binary_accuracy: 0.8838\n",
      "Epoch 6/20\n",
      "15000/15000 [==============================] - 3s 215us/sample - loss: 0.0079 - binary_accuracy: 0.9995 - val_loss: 0.5056 - val_binary_accuracy: 0.8841\n",
      "Epoch 7/20\n",
      "15000/15000 [==============================] - 3s 219us/sample - loss: 6.6967e-04 - binary_accuracy: 0.9999 - val_loss: 0.5773 - val_binary_accuracy: 0.8888\n",
      "Epoch 8/20\n",
      "15000/15000 [==============================] - 3s 218us/sample - loss: 1.0660e-04 - binary_accuracy: 1.0000 - val_loss: 0.6821 - val_binary_accuracy: 0.8866\n",
      "Epoch 9/20\n",
      "15000/15000 [==============================] - 3s 217us/sample - loss: 1.8088e-05 - binary_accuracy: 1.0000 - val_loss: 0.7871 - val_binary_accuracy: 0.8874\n",
      "Epoch 10/20\n",
      "15000/15000 [==============================] - 3s 222us/sample - loss: 3.8122e-06 - binary_accuracy: 1.0000 - val_loss: 0.8688 - val_binary_accuracy: 0.8885\n",
      "Epoch 11/20\n",
      "15000/15000 [==============================] - 3s 216us/sample - loss: 9.9684e-07 - binary_accuracy: 1.0000 - val_loss: 0.9629 - val_binary_accuracy: 0.8878\n",
      "Epoch 12/20\n",
      "15000/15000 [==============================] - 4s 237us/sample - loss: 3.0880e-07 - binary_accuracy: 1.0000 - val_loss: 1.0285 - val_binary_accuracy: 0.8879\n",
      "Epoch 13/20\n",
      "15000/15000 [==============================] - 3s 214us/sample - loss: 1.0650e-07 - binary_accuracy: 1.0000 - val_loss: 1.0894 - val_binary_accuracy: 0.8884\n",
      "Epoch 14/20\n",
      "15000/15000 [==============================] - 3s 219us/sample - loss: 4.6384e-08 - binary_accuracy: 1.0000 - val_loss: 1.1347 - val_binary_accuracy: 0.8892\n",
      "Epoch 15/20\n",
      "15000/15000 [==============================] - 3s 223us/sample - loss: 2.6453e-08 - binary_accuracy: 1.0000 - val_loss: 1.1645 - val_binary_accuracy: 0.8894\n",
      "Epoch 16/20\n",
      "15000/15000 [==============================] - 3s 225us/sample - loss: 1.8114e-08 - binary_accuracy: 1.0000 - val_loss: 1.1849 - val_binary_accuracy: 0.8894\n",
      "Epoch 17/20\n",
      "15000/15000 [==============================] - 4s 236us/sample - loss: 1.3708e-08 - binary_accuracy: 1.0000 - val_loss: 1.2008 - val_binary_accuracy: 0.8886\n",
      "Epoch 18/20\n",
      "15000/15000 [==============================] - 4s 252us/sample - loss: 1.1107e-08 - binary_accuracy: 1.0000 - val_loss: 1.2133 - val_binary_accuracy: 0.8895\n",
      "Epoch 19/20\n",
      "15000/15000 [==============================] - 3s 217us/sample - loss: 9.3165e-09 - binary_accuracy: 1.0000 - val_loss: 1.2233 - val_binary_accuracy: 0.8895\n",
      "Epoch 20/20\n",
      "15000/15000 [==============================] - 3s 213us/sample - loss: 8.0959e-09 - binary_accuracy: 1.0000 - val_loss: 1.2313 - val_binary_accuracy: 0.8891\n"
     ]
    },
    {
     "data": {
      "image/png": "[encoded data removed]",
      "text/plain": [
       "<Figure size 432x288 with 1 Axes>"
      ]
     },
     "metadata": {
      "needs_background": "light"
     },
     "output_type": "display_data"
    }
   ],
   "source": [
    "model = models.Sequential()\n",
    "model.add(layers.Dense(512, activation='relu', input_shape=(LIMIT_WORD,)))\n",
    "model.add(layers.Dense(512, activation='relu'))\n",
    "model.add(layers.Dense(1, activation='sigmoid'))\n",
    "\n",
    "model = compile_model(model)\n",
    "history = fit_model(model)\n",
    "plot_loss(history)"
   ]
  },
  {
   "cell_type": "markdown",
   "metadata": {},
   "source": [
    "The model starts overfitting immediately and more severely then the original one (picture below) and has a noisy training loss.\n",
    "\n",
    "<img src=\"./resources/binary_class_model_validation_loss.png\">"
   ]
  },
  {
   "cell_type": "markdown",
   "metadata": {},
   "source": [
    "## Experiment 3\n",
    "\n",
    "- Add **_weight regularization_**:\n",
    "    - L1 regularizers make the added cost proportional to the _absolut_value_ of the weight coefficients;\n",
    "    - L2 regularizers (weight decay), make the added cost proportional to the _square of the value_value_ of the weight coefficients;"
   ]
  },
  {
   "cell_type": "markdown",
   "metadata": {},
   "source": [
    "#### Add L2 regularization to the original model\n",
    "\n",
    "- `l2(0.001)` means that every coefficient in the matrix of the layer will add `0.001 * weight_coefficient_value` to the loss of the network at training time "
   ]
  },
  {
   "cell_type": "code",
   "execution_count": 40,
   "metadata": {},
   "outputs": [
    {
     "name": "stdout",
     "output_type": "stream",
     "text": [
      "Train on 15000 samples, validate on 10000 samples\n",
      "Epoch 1/20\n",
      "15000/15000 [==============================] - 1s 94us/sample - loss: 0.5741 - binary_accuracy: 0.7795 - val_loss: 0.4537 - val_binary_accuracy: 0.8515\n",
      "Epoch 2/20\n",
      "15000/15000 [==============================] - 1s 67us/sample - loss: 0.3677 - binary_accuracy: 0.8966 - val_loss: 0.3569 - val_binary_accuracy: 0.8833\n",
      "Epoch 3/20\n",
      "15000/15000 [==============================] - 1s 60us/sample - loss: 0.2905 - binary_accuracy: 0.9172 - val_loss: 0.3468 - val_binary_accuracy: 0.8788\n",
      "Epoch 4/20\n",
      "15000/15000 [==============================] - 1s 60us/sample - loss: 0.2483 - binary_accuracy: 0.9348 - val_loss: 0.3367 - val_binary_accuracy: 0.8822\n",
      "Epoch 5/20\n",
      "15000/15000 [==============================] - 1s 60us/sample - loss: 0.2245 - binary_accuracy: 0.9405 - val_loss: 0.3257 - val_binary_accuracy: 0.8872\n",
      "Epoch 6/20\n",
      "15000/15000 [==============================] - 1s 60us/sample - loss: 0.2059 - binary_accuracy: 0.9477 - val_loss: 0.3334 - val_binary_accuracy: 0.8855\n",
      "Epoch 7/20\n",
      "15000/15000 [==============================] - 1s 61us/sample - loss: 0.1918 - binary_accuracy: 0.9549 - val_loss: 0.3390 - val_binary_accuracy: 0.8833\n",
      "Epoch 8/20\n",
      "15000/15000 [==============================] - 1s 60us/sample - loss: 0.1817 - binary_accuracy: 0.9587 - val_loss: 0.3529 - val_binary_accuracy: 0.8835\n",
      "Epoch 9/20\n",
      "15000/15000 [==============================] - 1s 61us/sample - loss: 0.1748 - binary_accuracy: 0.9618 - val_loss: 0.3724 - val_binary_accuracy: 0.8795\n",
      "Epoch 10/20\n",
      "15000/15000 [==============================] - 1s 59us/sample - loss: 0.1646 - binary_accuracy: 0.9662 - val_loss: 0.3979 - val_binary_accuracy: 0.8741\n",
      "Epoch 11/20\n",
      "15000/15000 [==============================] - 1s 59us/sample - loss: 0.1547 - binary_accuracy: 0.9719 - val_loss: 0.4063 - val_binary_accuracy: 0.8653\n",
      "Epoch 12/20\n",
      "15000/15000 [==============================] - 1s 61us/sample - loss: 0.1547 - binary_accuracy: 0.9701 - val_loss: 0.3804 - val_binary_accuracy: 0.8792\n",
      "Epoch 13/20\n",
      "15000/15000 [==============================] - 1s 79us/sample - loss: 0.1476 - binary_accuracy: 0.9747 - val_loss: 0.3907 - val_binary_accuracy: 0.8778\n",
      "Epoch 14/20\n",
      "15000/15000 [==============================] - 1s 76us/sample - loss: 0.1416 - binary_accuracy: 0.9760 - val_loss: 0.3985 - val_binary_accuracy: 0.8762\n",
      "Epoch 15/20\n",
      "15000/15000 [==============================] - 1s 65us/sample - loss: 0.1383 - binary_accuracy: 0.9775 - val_loss: 0.4131 - val_binary_accuracy: 0.8742\n",
      "Epoch 16/20\n",
      "15000/15000 [==============================] - 1s 68us/sample - loss: 0.1338 - binary_accuracy: 0.9791 - val_loss: 0.5105 - val_binary_accuracy: 0.8572\n",
      "Epoch 17/20\n",
      "15000/15000 [==============================] - 1s 71us/sample - loss: 0.1298 - binary_accuracy: 0.9807 - val_loss: 0.4250 - val_binary_accuracy: 0.8711\n",
      "Epoch 18/20\n",
      "15000/15000 [==============================] - 1s 62us/sample - loss: 0.1284 - binary_accuracy: 0.9815 - val_loss: 0.4294 - val_binary_accuracy: 0.8747\n",
      "Epoch 19/20\n",
      "15000/15000 [==============================] - 1s 62us/sample - loss: 0.1224 - binary_accuracy: 0.9839 - val_loss: 0.4375 - val_binary_accuracy: 0.8738\n",
      "Epoch 20/20\n",
      "15000/15000 [==============================] - 1s 62us/sample - loss: 0.1204 - binary_accuracy: 0.9851 - val_loss: 0.4854 - val_binary_accuracy: 0.8565\n"
     ]
    },
    {
     "data": {
      "image/png": "[encoded data removed]",
      "text/plain": [
       "<Figure size 432x288 with 1 Axes>"
      ]
     },
     "metadata": {
      "needs_background": "light"
     },
     "output_type": "display_data"
    }
   ],
   "source": [
    "from tensorflow.keras import regularizers\n",
    "\n",
    "model = models.Sequential()\n",
    "model.add(layers.Dense(16, kernel_regularizer=regularizers.l2(0.001), activation='relu', input_shape=(LIMIT_WORD,)))\n",
    "model.add(layers.Dense(16, kernel_regularizer=regularizers.l2(0.001), activation='relu'))\n",
    "model.add(layers.Dense(1, activation='sigmoid'))\n",
    "\n",
    "model = compile_model(model)\n",
    "history = fit_model(model)\n",
    "plot_loss(history)"
   ]
  },
  {
   "cell_type": "markdown",
   "metadata": {},
   "source": [
    "The model has become much more resistant to overfitting than the original one (picture below). The experiment could be repeated using other _Keras_ regularizers like `l1(value)` or `l1_l2(l1=value, l2=value)`, to perform both simultaneously.\n",
    "<img src=\"./resources/binary_class_model_validation_loss.png\">"
   ]
  },
  {
   "cell_type": "markdown",
   "metadata": {},
   "source": [
    "## Experiment 4\n",
    "\n",
    "- Adding _dropout_. This technique consists in setting to 0 a random ratio of fetures of an activation matrix at training time. Adding noise can cotnribute to break up the learning of irrelevant patterns."
   ]
  },
  {
   "cell_type": "code",
   "execution_count": 41,
   "metadata": {},
   "outputs": [
    {
     "name": "stdout",
     "output_type": "stream",
     "text": [
      "Train on 15000 samples, validate on 10000 samples\n",
      "Epoch 1/20\n",
      "15000/15000 [==============================] - 3s 185us/sample - loss: 0.6525 - binary_accuracy: 0.5931 - val_loss: 0.5817 - val_binary_accuracy: 0.7592\n",
      "Epoch 2/20\n",
      "15000/15000 [==============================] - 1s 54us/sample - loss: 0.5565 - binary_accuracy: 0.7310 - val_loss: 0.5001 - val_binary_accuracy: 0.7962\n",
      "Epoch 3/20\n",
      "15000/15000 [==============================] - 1s 53us/sample - loss: 0.4842 - binary_accuracy: 0.7995 - val_loss: 0.4206 - val_binary_accuracy: 0.8593\n",
      "Epoch 4/20\n",
      "15000/15000 [==============================] - 1s 54us/sample - loss: 0.4236 - binary_accuracy: 0.8437 - val_loss: 0.3550 - val_binary_accuracy: 0.8823\n",
      "Epoch 5/20\n",
      "15000/15000 [==============================] - 1s 55us/sample - loss: 0.3730 - binary_accuracy: 0.8739 - val_loss: 0.3308 - val_binary_accuracy: 0.8864\n",
      "Epoch 6/20\n",
      "15000/15000 [==============================] - 1s 54us/sample - loss: 0.3203 - binary_accuracy: 0.8953 - val_loss: 0.3211 - val_binary_accuracy: 0.8831\n",
      "Epoch 7/20\n",
      "15000/15000 [==============================] - 1s 55us/sample - loss: 0.2902 - binary_accuracy: 0.9092 - val_loss: 0.2928 - val_binary_accuracy: 0.8828\n",
      "Epoch 8/20\n",
      "15000/15000 [==============================] - 1s 55us/sample - loss: 0.2604 - binary_accuracy: 0.9229 - val_loss: 0.3087 - val_binary_accuracy: 0.8841\n",
      "Epoch 9/20\n",
      "15000/15000 [==============================] - 1s 55us/sample - loss: 0.2252 - binary_accuracy: 0.9348 - val_loss: 0.2862 - val_binary_accuracy: 0.8887\n",
      "Epoch 10/20\n",
      "15000/15000 [==============================] - 1s 56us/sample - loss: 0.2051 - binary_accuracy: 0.9401 - val_loss: 0.3169 - val_binary_accuracy: 0.8866\n",
      "Epoch 11/20\n",
      "15000/15000 [==============================] - 1s 56us/sample - loss: 0.1804 - binary_accuracy: 0.9478 - val_loss: 0.3106 - val_binary_accuracy: 0.8874\n",
      "Epoch 12/20\n",
      "15000/15000 [==============================] - 1s 55us/sample - loss: 0.1638 - binary_accuracy: 0.9530 - val_loss: 0.3178 - val_binary_accuracy: 0.8855\n",
      "Epoch 13/20\n",
      "15000/15000 [==============================] - 1s 55us/sample - loss: 0.1442 - binary_accuracy: 0.9577 - val_loss: 0.3674 - val_binary_accuracy: 0.8857\n",
      "Epoch 14/20\n",
      "15000/15000 [==============================] - 1s 55us/sample - loss: 0.1379 - binary_accuracy: 0.9623 - val_loss: 0.3664 - val_binary_accuracy: 0.8872\n",
      "Epoch 15/20\n",
      "15000/15000 [==============================] - 1s 55us/sample - loss: 0.1256 - binary_accuracy: 0.9641 - val_loss: 0.4086 - val_binary_accuracy: 0.8826\n",
      "Epoch 16/20\n",
      "15000/15000 [==============================] - 1s 55us/sample - loss: 0.1180 - binary_accuracy: 0.9669 - val_loss: 0.4083 - val_binary_accuracy: 0.8845\n",
      "Epoch 17/20\n",
      "15000/15000 [==============================] - 1s 55us/sample - loss: 0.1066 - binary_accuracy: 0.9716 - val_loss: 0.4835 - val_binary_accuracy: 0.8822\n",
      "Epoch 18/20\n",
      "15000/15000 [==============================] - 1s 54us/sample - loss: 0.1003 - binary_accuracy: 0.9710 - val_loss: 0.5091 - val_binary_accuracy: 0.8820\n",
      "Epoch 19/20\n",
      "15000/15000 [==============================] - 1s 55us/sample - loss: 0.0936 - binary_accuracy: 0.9727 - val_loss: 0.5499 - val_binary_accuracy: 0.8822\n",
      "Epoch 20/20\n",
      "15000/15000 [==============================] - 1s 55us/sample - loss: 0.0882 - binary_accuracy: 0.9759 - val_loss: 0.5224 - val_binary_accuracy: 0.8845\n"
     ]
    },
    {
     "data": {
      "image/png": "[encoded data removed]",
      "text/plain": [
       "<Figure size 432x288 with 1 Axes>"
      ]
     },
     "metadata": {
      "needs_background": "light"
     },
     "output_type": "display_data"
    }
   ],
   "source": [
    "model = models.Sequential()\n",
    "model.add(layers.Dense(16, activation='relu', input_shape=(LIMIT_WORD,)))\n",
    "model.add(layers.Dropout(0.5))\n",
    "model.add(layers.Dense(16, activation='relu'))\n",
    "model.add(layers.Dropout(0.5))\n",
    "model.add(layers.Dense(1, activation='sigmoid'))\n",
    "\n",
    "model = compile_model(model)\n",
    "history = fit_model(model)\n",
    "plot_loss(history)"
   ]
  },
  {
   "cell_type": "markdown",
   "metadata": {},
   "source": [
    "Dropout shows a clear improvement over the original model (see picture below)\n",
    "<img src=\"./resources/binary_class_model_validation_loss.png\">"
   ]
  },
  {
   "cell_type": "markdown",
   "metadata": {},
   "source": [
    "## Conclusions\n",
    "#### What to do in case of overfitting?\n",
    "- Get more training data\n",
    "- Reduce the capacity of the network\n",
    "- Add weight regularization\n",
    "- Add dropout"
   ]
  },
  {
   "cell_type": "code",
   "execution_count": null,
   "metadata": {},
   "outputs": [],
   "source": []
  }
 ],
 "metadata": {
  "kernelspec": {
   "display_name": "Python 3",
   "language": "python",
   "name": "python3"
  },
  "language_info": {
   "codemirror_mode": {
    "name": "ipython",
    "version": 3
   },
   "file_extension": ".py",
   "mimetype": "text/x-python",
   "name": "python",
   "nbconvert_exporter": "python",
   "pygments_lexer": "ipython3",
   "version": "3.6.10"
  }
 },
 "nbformat": 4,
 "nbformat_minor": 4
}
