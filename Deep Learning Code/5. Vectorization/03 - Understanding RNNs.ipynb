{
 "cells": [
  {
   "cell_type": "markdown",
   "metadata": {},
   "source": [
    "# Understanding RNNs\n",
    "\n",
    "<img src=\"./resources/RNN-basic-schema.png\"/>\n",
    "\n",
    "The process described on the picture above corresponds to an actual Keras layer: the `SimpleRNN` layer:"
   ]
  },
  {
   "cell_type": "code",
   "execution_count": 1,
   "metadata": {},
   "outputs": [],
   "source": [
    "from tensorflow.keras.layers import SimpleRNN"
   ]
  },
  {
   "cell_type": "markdown",
   "metadata": {},
   "source": [
    "`SimpleRNN` processes batches of sequences, like all other Keras layers, not just a single sequence. This means that it takes inputs of shape (`batch_size, timesteps, input_features`), rather than (`timesteps, input_features`).\n",
    "\n",
    "Like all recurrent layers in Keras, **`SimpleRNN` can be run in two different modes**: \n",
    "- it can return either the full sequences of successive outputs for each timestep (a 3D tensor of shape (`batch_size, timesteps, output_features`));\n",
    "- it can return only the last output for each input sequence (a 2D tensor of shape (`batch_size, output_features`)). These two modes are controlled by the return_sequences constructor argument. \n",
    "\n",
    "Let's take a look at an example per each type. This one returns only the last output for each input sequence:"
   ]
  },
  {
   "cell_type": "code",
   "execution_count": 2,
   "metadata": {},
   "outputs": [
    {
     "name": "stdout",
     "output_type": "stream",
     "text": [
      "Model: \"sequential\"\n",
      "_________________________________________________________________\n",
      "Layer (type)                 Output Shape              Param #   \n",
      "=================================================================\n",
      "embedding (Embedding)        (None, None, 32)          320000    \n",
      "_________________________________________________________________\n",
      "simple_rnn (SimpleRNN)       (None, 32)                2080      \n",
      "=================================================================\n",
      "Total params: 322,080\n",
      "Trainable params: 322,080\n",
      "Non-trainable params: 0\n",
      "_________________________________________________________________\n"
     ]
    }
   ],
   "source": [
    "from tensorflow.keras.models import Sequential\n",
    "from tensorflow.keras.layers import Embedding, SimpleRNN\n",
    "\n",
    "model = Sequential()\n",
    "model.add(Embedding(10000, 32))\n",
    "model.add(SimpleRNN(32))\n",
    "\n",
    "model.summary()"
   ]
  },
  {
   "cell_type": "markdown",
   "metadata": {},
   "source": [
    "while this returns the full sequences of successive outputs for each timestep:"
   ]
  },
  {
   "cell_type": "code",
   "execution_count": 3,
   "metadata": {},
   "outputs": [
    {
     "name": "stdout",
     "output_type": "stream",
     "text": [
      "Model: \"sequential_1\"\n",
      "_________________________________________________________________\n",
      "Layer (type)                 Output Shape              Param #   \n",
      "=================================================================\n",
      "embedding_1 (Embedding)      (None, None, 32)          320000    \n",
      "_________________________________________________________________\n",
      "simple_rnn_1 (SimpleRNN)     (None, None, 32)          2080      \n",
      "=================================================================\n",
      "Total params: 322,080\n",
      "Trainable params: 322,080\n",
      "Non-trainable params: 0\n",
      "_________________________________________________________________\n"
     ]
    }
   ],
   "source": [
    "model = Sequential()\n",
    "model.add(Embedding(10000, 32))\n",
    "model.add(SimpleRNN(32, return_sequences=True))\n",
    "model.summary()"
   ]
  },
  {
   "cell_type": "markdown",
   "metadata": {},
   "source": [
    "It is sometimes useful to **stack several recurrent layers one after the other in order to increase the representational power of a network**. In such a setup, **you have to get all intermediate layers to return full sequences**:"
   ]
  },
  {
   "cell_type": "code",
   "execution_count": 4,
   "metadata": {},
   "outputs": [
    {
     "name": "stdout",
     "output_type": "stream",
     "text": [
      "Model: \"sequential_2\"\n",
      "_________________________________________________________________\n",
      "Layer (type)                 Output Shape              Param #   \n",
      "=================================================================\n",
      "embedding_2 (Embedding)      (None, None, 32)          320000    \n",
      "_________________________________________________________________\n",
      "simple_rnn_2 (SimpleRNN)     (None, None, 32)          2080      \n",
      "_________________________________________________________________\n",
      "simple_rnn_3 (SimpleRNN)     (None, None, 32)          2080      \n",
      "_________________________________________________________________\n",
      "simple_rnn_4 (SimpleRNN)     (None, None, 32)          2080      \n",
      "_________________________________________________________________\n",
      "simple_rnn_5 (SimpleRNN)     (None, 32)                2080      \n",
      "=================================================================\n",
      "Total params: 328,320\n",
      "Trainable params: 328,320\n",
      "Non-trainable params: 0\n",
      "_________________________________________________________________\n"
     ]
    }
   ],
   "source": [
    "model = Sequential()\n",
    "model.add(Embedding(10000, 32))\n",
    "model.add(SimpleRNN(32, return_sequences=True))\n",
    "model.add(SimpleRNN(32, return_sequences=True))\n",
    "model.add(SimpleRNN(32, return_sequences=True))\n",
    "model.add(SimpleRNN(32))  # This last layer only returns the last outputs.\n",
    "\n",
    "model.summary()"
   ]
  },
  {
   "cell_type": "markdown",
   "metadata": {},
   "source": [
    "Now let's try to use such a model on the IMDB movie review classification problem. First, let's preprocess the data:"
   ]
  },
  {
   "cell_type": "code",
   "execution_count": 5,
   "metadata": {},
   "outputs": [
    {
     "name": "stdout",
     "output_type": "stream",
     "text": [
      "Loading data...\n",
      "25000 train sequences\n",
      "25000 test sequences\n",
      "Pad sequences (samples x time)\n",
      "input_train shape: (25000, 500)\n",
      "input_test shape: (25000, 500)\n"
     ]
    }
   ],
   "source": [
    "from tensorflow.keras.datasets import imdb\n",
    "from tensorflow.keras.preprocessing import sequence\n",
    "\n",
    "max_features = 10000  # number of words to consider as features\n",
    "maxlen = 500  # cut texts after this number of words (among top max_features most common words)\n",
    "batch_size = 32\n",
    "\n",
    "print('Loading data...')\n",
    "(input_train, y_train), (input_test, y_test) = imdb.load_data(num_words=max_features)\n",
    "print(len(input_train), 'train sequences')\n",
    "print(len(input_test), 'test sequences')\n",
    "\n",
    "print('Pad sequences (samples x time)')\n",
    "input_train = sequence.pad_sequences(input_train, maxlen=maxlen)\n",
    "input_test = sequence.pad_sequences(input_test, maxlen=maxlen)\n",
    "\n",
    "print('input_train shape:', input_train.shape)\n",
    "print('input_test shape:', input_test.shape)"
   ]
  },
  {
   "cell_type": "markdown",
   "metadata": {},
   "source": [
    "Let's train a simple recurrent network using an `Embedding` layer and a `SimpleRNN` layer:"
   ]
  },
  {
   "cell_type": "code",
   "execution_count": 6,
   "metadata": {},
   "outputs": [
    {
     "name": "stdout",
     "output_type": "stream",
     "text": [
      "Train on 20000 samples, validate on 5000 samples\n",
      "Epoch 1/10\n",
      "20000/20000 [==============================] - 23s 1ms/sample - loss: 0.5769 - acc: 0.6947 - val_loss: 0.4358 - val_acc: 0.8156\n",
      "Epoch 2/10\n",
      "20000/20000 [==============================] - 20s 1ms/sample - loss: 0.3838 - acc: 0.8374 - val_loss: 0.3560 - val_acc: 0.8530\n",
      "Epoch 3/10\n",
      "20000/20000 [==============================] - 20s 1ms/sample - loss: 0.3201 - acc: 0.8745 - val_loss: 0.4200 - val_acc: 0.8200\n",
      "Epoch 4/10\n",
      "20000/20000 [==============================] - 21s 1ms/sample - loss: 0.2582 - acc: 0.9011 - val_loss: 0.4250 - val_acc: 0.8048\n",
      "Epoch 5/10\n",
      "20000/20000 [==============================] - 21s 1ms/sample - loss: 0.2313 - acc: 0.9112 - val_loss: 0.4024 - val_acc: 0.8184\n",
      "Epoch 6/10\n",
      "20000/20000 [==============================] - 21s 1ms/sample - loss: 0.1845 - acc: 0.9304 - val_loss: 0.4059 - val_acc: 0.8424\n",
      "Epoch 7/10\n",
      "20000/20000 [==============================] - 21s 1ms/sample - loss: 0.1484 - acc: 0.9474 - val_loss: 0.4462 - val_acc: 0.8474\n",
      "Epoch 8/10\n",
      "20000/20000 [==============================] - 20s 1ms/sample - loss: 0.1164 - acc: 0.9590 - val_loss: 0.4925 - val_acc: 0.8078\n",
      "Epoch 9/10\n",
      "20000/20000 [==============================] - 21s 1ms/sample - loss: 0.0823 - acc: 0.9718 - val_loss: 0.5286 - val_acc: 0.8180\n",
      "Epoch 10/10\n",
      "20000/20000 [==============================] - 22s 1ms/sample - loss: 0.0581 - acc: 0.9819 - val_loss: 0.6901 - val_acc: 0.8186\n"
     ]
    }
   ],
   "source": [
    "from tensorflow.keras.layers import Dense\n",
    "\n",
    "model = Sequential()\n",
    "model.add(Embedding(max_features, 32))\n",
    "model.add(SimpleRNN(32))\n",
    "model.add(Dense(1, activation='sigmoid'))\n",
    "\n",
    "model.compile(optimizer='rmsprop', loss='binary_crossentropy', metrics=['acc'])\n",
    "history = model.fit(input_train, y_train,\n",
    "                    epochs=10,\n",
    "                    batch_size=128,\n",
    "                    validation_split=0.2)"
   ]
  },
  {
   "cell_type": "markdown",
   "metadata": {},
   "source": [
    "Let's plot the validation loss and accuracy:"
   ]
  },
  {
   "cell_type": "code",
   "execution_count": 7,
   "metadata": {},
   "outputs": [],
   "source": [
    "import matplotlib.pyplot as plt\n",
    "\n",
    "def plot_loss_accuracy(history):\n",
    "    acc = history.history['acc']\n",
    "    val_acc = history.history['val_acc']\n",
    "    loss = history.history['loss']\n",
    "    val_loss = history.history['val_loss']\n",
    "\n",
    "    epochs = range(len(acc))\n",
    "\n",
    "    plt.plot(epochs, acc, 'bo', label='Training acc')\n",
    "    plt.plot(epochs, val_acc, 'b', label='Validation acc')\n",
    "    plt.title('Training and validation accuracy')\n",
    "    plt.legend()\n",
    "\n",
    "    plt.figure()\n",
    "\n",
    "    plt.plot(epochs, loss, 'bo', label='Training loss')\n",
    "    plt.plot(epochs, val_loss, 'b', label='Validation loss')\n",
    "    plt.title('Training and validation loss')\n",
    "    plt.legend()\n",
    "\n",
    "    plt.show()"
   ]
  },
  {
   "cell_type": "code",
   "execution_count": 8,
   "metadata": {},
   "outputs": [
    {
     "data": {
      "image/png": "[encoded data removed]",
      "text/plain": [
       "<Figure size 432x288 with 1 Axes>"
      ]
     },
     "metadata": {
      "needs_background": "light"
     },
     "output_type": "display_data"
    },
    {
     "data": {
      "image/png": "[encoded data removed]",
      "text/plain": [
       "<Figure size 432x288 with 1 Axes>"
      ]
     },
     "metadata": {
      "needs_background": "light"
     },
     "output_type": "display_data"
    }
   ],
   "source": [
    "plot_loss_accuracy(history)"
   ]
  },
  {
   "cell_type": "markdown",
   "metadata": {},
   "source": [
    "As a reminder, in chapter 3, **our very first naive approach to this very dataset got us to 88% test accuracy**. Unfortunately, our small recurrent network doesn't perform very well at all compared to this baseline (only up to 85% validation accuracy). Part of the problem is that **our inputs only consider the first 500 words rather the full sequences** -- hence **our RNN has access to less information than our earlier baseline model**. The remainder of the problem is simply that **`SimpleRNN` isn't very good at processing long sequences, like text**. Other types of recurrent layers perform much better. \n",
    "\n",
    "Let's take a look at some more advanced layers."
   ]
  },
  {
   "cell_type": "markdown",
   "metadata": {},
   "source": [
    "### LSTM: a concrete example in Keras\n",
    "\n",
    "Now let's switch to more practical concerns: we will set up a model using a `LSTM` layer and train it on the IMDB data. The network is similar to the one with `SimpleRNN`, and we only specify the output dimensionality of the LSTM layer, and leave every other argument (there are lots) to the Keras defaults."
   ]
  },
  {
   "cell_type": "code",
   "execution_count": 9,
   "metadata": {},
   "outputs": [
    {
     "name": "stdout",
     "output_type": "stream",
     "text": [
      "Train on 20000 samples, validate on 5000 samples\n",
      "Epoch 1/10\n",
      "20000/20000 [==============================] - 43s 2ms/sample - loss: 0.5148 - acc: 0.7533 - val_loss: 0.4401 - val_acc: 0.8216\n",
      "Epoch 2/10\n",
      "20000/20000 [==============================] - 42s 2ms/sample - loss: 0.2999 - acc: 0.8850 - val_loss: 0.2912 - val_acc: 0.8860\n",
      "Epoch 3/10\n",
      "20000/20000 [==============================] - 42s 2ms/sample - loss: 0.2401 - acc: 0.9110 - val_loss: 0.3538 - val_acc: 0.8680\n",
      "Epoch 4/10\n",
      "20000/20000 [==============================] - 41s 2ms/sample - loss: 0.2005 - acc: 0.9279 - val_loss: 0.3004 - val_acc: 0.8730\n",
      "Epoch 5/10\n",
      "20000/20000 [==============================] - 41s 2ms/sample - loss: 0.1756 - acc: 0.9362 - val_loss: 0.4632 - val_acc: 0.8200\n",
      "Epoch 6/10\n",
      "20000/20000 [==============================] - 42s 2ms/sample - loss: 0.1565 - acc: 0.9419 - val_loss: 0.3028 - val_acc: 0.8800\n",
      "Epoch 7/10\n",
      "20000/20000 [==============================] - 42s 2ms/sample - loss: 0.1420 - acc: 0.9488 - val_loss: 0.3468 - val_acc: 0.8878\n",
      "Epoch 8/10\n",
      "20000/20000 [==============================] - 42s 2ms/sample - loss: 0.1284 - acc: 0.9543 - val_loss: 0.3340 - val_acc: 0.8818\n",
      "Epoch 9/10\n",
      "20000/20000 [==============================] - 42s 2ms/sample - loss: 0.1147 - acc: 0.9609 - val_loss: 0.5918 - val_acc: 0.8526\n",
      "Epoch 10/10\n",
      "20000/20000 [==============================] - 44s 2ms/sample - loss: 0.1102 - acc: 0.9622 - val_loss: 0.3854 - val_acc: 0.8814\n"
     ]
    }
   ],
   "source": [
    "from tensorflow.keras.layers import LSTM\n",
    "\n",
    "model = Sequential()\n",
    "model.add(Embedding(max_features, 32))\n",
    "model.add(LSTM(32))\n",
    "model.add(Dense(1, activation='sigmoid'))\n",
    "\n",
    "model.compile(optimizer='rmsprop',\n",
    "              loss='binary_crossentropy',\n",
    "              metrics=['acc'])\n",
    "history = model.fit(input_train, y_train,\n",
    "                    epochs=10,\n",
    "                    batch_size=128,\n",
    "                    validation_split=0.2)"
   ]
  },
  {
   "cell_type": "code",
   "execution_count": 10,
   "metadata": {},
   "outputs": [
    {
     "data": {
      "image/png": "[encoded data removed]",
      "text/plain": [
       "<Figure size 432x288 with 1 Axes>"
      ]
     },
     "metadata": {
      "needs_background": "light"
     },
     "output_type": "display_data"
    },
    {
     "data": {
      "image/png": "[encoded data removed]",
      "text/plain": [
       "<Figure size 432x288 with 1 Axes>"
      ]
     },
     "metadata": {
      "needs_background": "light"
     },
     "output_type": "display_data"
    }
   ],
   "source": [
    "plot_loss_accuracy(history)"
   ]
  },
  {
   "cell_type": "markdown",
   "metadata": {},
   "source": [
    "With this approach we achieved up to 89% accuracy, which is not bad. It's certainly much better than the previous `SimpleRNN` approach, but only slightly better than the fully connected network used in chapter 3 (even though this time we are looking at less data). Some considerations:\n",
    "\n",
    "- LSTM suffers much less from the _gradient vanishing_ problem;\n",
    "- We made no effort in tuning hyperparameters such embedding dimensionality or LSTM output dimensionality;\n",
    "- LSTM isn't really helpful for a sentiment analysis problem. Such a basic problem is well solved by looking at what words occurs in each review (and at what frequency), and that's what the fully connected approach looked at;"
   ]
  },
  {
   "cell_type": "code",
   "execution_count": null,
   "metadata": {},
   "outputs": [],
   "source": []
  }
 ],
 "metadata": {
  "kernelspec": {
   "display_name": "Python 3",
   "language": "python",
   "name": "python3"
  },
  "language_info": {
   "codemirror_mode": {
    "name": "ipython",
    "version": 3
   },
   "file_extension": ".py",
   "mimetype": "text/x-python",
   "name": "python",
   "nbconvert_exporter": "python",
   "pygments_lexer": "ipython3",
   "version": "3.6.10"
  }
 },
 "nbformat": 4,
 "nbformat_minor": 4
}
