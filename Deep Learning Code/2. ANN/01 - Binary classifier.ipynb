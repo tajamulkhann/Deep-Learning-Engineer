{
 "cells": [
  {
   "cell_type": "markdown",
   "metadata": {},
   "source": [
    "# Binary classifier\n",
    "\n",
    "Predict the sentiment of IMDB reviews (negative or positive)"
   ]
  },
  {
   "cell_type": "markdown",
   "metadata": {},
   "source": [
    "### Import libraries"
   ]
  },
  {
   "cell_type": "code",
   "execution_count": 44,
   "metadata": {},
   "outputs": [],
   "source": [
    "import numpy as np\n",
    "import matplotlib.pyplot as plt\n",
    "import tensorflow as tf\n",
    "\n",
    "from tensorflow.keras import models, layers, optimizers, losses, metrics\n",
    "from tensorflow.keras.datasets import imdb"
   ]
  },
  {
   "cell_type": "markdown",
   "metadata": {},
   "source": [
    "### Get datasets"
   ]
  },
  {
   "cell_type": "code",
   "execution_count": 14,
   "metadata": {},
   "outputs": [],
   "source": [
    "LIMIT_WORD = 10000\n",
    "\n",
    "(train_data, train_labels), (test_data, test_labels) = imdb.load_data(num_words=LIMIT_WORD)"
   ]
  },
  {
   "cell_type": "markdown",
   "metadata": {},
   "source": [
    "### Data exploring (convert sequences to original review)"
   ]
  },
  {
   "cell_type": "code",
   "execution_count": 15,
   "metadata": {},
   "outputs": [],
   "source": [
    "def convert_to_english(sequence):\n",
    "    word_index = imdb.get_word_index()\n",
    "    reverse_word_index = dict(\n",
    "        [(value, key) for (key, value) in word_index.items()]\n",
    "    )\n",
    "    decoded_review = \" \".join(\n",
    "        [reverse_word_index.get(i - 3, '?') for i in sequence]\n",
    "    )\n",
    "    \n",
    "    return decoded_review"
   ]
  },
  {
   "cell_type": "code",
   "execution_count": 16,
   "metadata": {},
   "outputs": [
    {
     "name": "stdout",
     "output_type": "stream",
     "text": [
      "? this film was just brilliant casting location scenery story direction everyone's really suited the part they played and you could just imagine being there robert ? is an amazing actor and now the same being director ? father came from the same scottish island as myself so i loved the fact there was a real connection with this film the witty remarks throughout the film were great it was just brilliant so much that i bought the film as soon as it was released for ? and would recommend it to everyone to watch and the fly fishing was amazing really cried at the end it was so sad and you know what they say if you cry at a film it must have been good and this definitely was also ? to the two little boy's that played the ? of norman and paul they were just brilliant children are often left out of the ? list i think because the stars that play them all grown up are such a big profile for the whole film but these children are amazing and should be praised for what they have done don't you think the whole story was so lovely because it was true and was someone's life after all that was shared with us all\n"
     ]
    }
   ],
   "source": [
    "print(convert_to_english(train_data[0]))"
   ]
  },
  {
   "cell_type": "markdown",
   "metadata": {},
   "source": [
    "### Prepare the data (convert sequences into tensors)"
   ]
  },
  {
   "cell_type": "code",
   "execution_count": 26,
   "metadata": {},
   "outputs": [],
   "source": [
    "def vectorize_sequences(sequences, dimension=LIMIT_WORD):\n",
    "    results = np.zeros((len(sequences), dimension))\n",
    "    for i, sequence in enumerate(sequences):\n",
    "        results[i, sequence] = 1\n",
    "    \n",
    "    return results"
   ]
  },
  {
   "cell_type": "markdown",
   "metadata": {},
   "source": [
    "#### Vectorize examples"
   ]
  },
  {
   "cell_type": "code",
   "execution_count": 27,
   "metadata": {},
   "outputs": [],
   "source": [
    "x_train = vectorize_sequences(train_data)\n",
    "x_test = vectorize_sequences(test_data)"
   ]
  },
  {
   "cell_type": "code",
   "execution_count": 28,
   "metadata": {},
   "outputs": [
    {
     "data": {
      "text/plain": [
       "array([0., 1., 1., ..., 0., 0., 0.])"
      ]
     },
     "execution_count": 28,
     "metadata": {},
     "output_type": "execute_result"
    }
   ],
   "source": [
    "x_train[0]"
   ]
  },
  {
   "cell_type": "markdown",
   "metadata": {},
   "source": [
    "#### Vectorize labels"
   ]
  },
  {
   "cell_type": "code",
   "execution_count": 29,
   "metadata": {},
   "outputs": [],
   "source": [
    "y_train = np.asarray(train_labels).astype('float32')\n",
    "y_test = np.asarray(test_labels).astype('float32')"
   ]
  },
  {
   "cell_type": "code",
   "execution_count": 30,
   "metadata": {},
   "outputs": [
    {
     "data": {
      "text/plain": [
       "1.0"
      ]
     },
     "execution_count": 30,
     "metadata": {},
     "output_type": "execute_result"
    }
   ],
   "source": [
    "y_train[0]"
   ]
  },
  {
   "cell_type": "markdown",
   "metadata": {},
   "source": [
    "### Building the network\n",
    "\n",
    "#### Architecture\n",
    "\n",
    "- 2 intermediate Dense layers with 16 hidden unites per each (relu actovation function)\n",
    "- 1 output layer (with sigmoid activation function)"
   ]
  },
  {
   "cell_type": "code",
   "execution_count": 33,
   "metadata": {},
   "outputs": [],
   "source": [
    "model = models.Sequential()\n",
    "model.add(layers.Dense(16, activation='relu', input_shape=(LIMIT_WORD,)))\n",
    "model.add(layers.Dense(16, activation='relu'))\n",
    "model.add(layers.Dense(1, activation='sigmoid'))"
   ]
  },
  {
   "cell_type": "markdown",
   "metadata": {},
   "source": [
    "#### Compile\n",
    "\n",
    "**Loss function:** _binary crossentropy_\n",
    "**Optimizer**: _rmsprop_"
   ]
  },
  {
   "cell_type": "code",
   "execution_count": 36,
   "metadata": {},
   "outputs": [],
   "source": [
    "model.compile(\n",
    "    optimizer=optimizers.RMSprop(lr=0.001),\n",
    "    loss=losses.binary_crossentropy,\n",
    "    metrics=[metrics.binary_accuracy]\n",
    ")"
   ]
  },
  {
   "cell_type": "markdown",
   "metadata": {},
   "source": [
    "#### Training\n",
    "- Define validation data\n",
    "- Define epochs and batch size\n",
    "- Fit the model"
   ]
  },
  {
   "cell_type": "code",
   "execution_count": 40,
   "metadata": {},
   "outputs": [],
   "source": [
    "x_val = x_train[:10000]\n",
    "partial_x_train = x_train[10000:]\n",
    "y_val = y_train[:10000]\n",
    "partial_y_train = y_train[10000:]"
   ]
  },
  {
   "cell_type": "code",
   "execution_count": 43,
   "metadata": {},
   "outputs": [
    {
     "name": "stdout",
     "output_type": "stream",
     "text": [
      "Train on 15000 samples, validate on 10000 samples\n",
      "Epoch 1/20\n",
      "15000/15000 [==============================] - 2s 106us/sample - loss: 0.6099 - binary_accuracy: 0.6743 - val_loss: 0.5174 - val_binary_accuracy: 0.8515\n",
      "Epoch 2/20\n",
      "15000/15000 [==============================] - 1s 58us/sample - loss: 0.4140 - binary_accuracy: 0.8814 - val_loss: 0.3721 - val_binary_accuracy: 0.8688\n",
      "Epoch 3/20\n",
      "15000/15000 [==============================] - 1s 58us/sample - loss: 0.2725 - binary_accuracy: 0.9173 - val_loss: 0.3542 - val_binary_accuracy: 0.8551\n",
      "Epoch 4/20\n",
      "15000/15000 [==============================] - 1s 59us/sample - loss: 0.2088 - binary_accuracy: 0.9312 - val_loss: 0.2839 - val_binary_accuracy: 0.8891\n",
      "Epoch 5/20\n",
      "15000/15000 [==============================] - 1s 58us/sample - loss: 0.1662 - binary_accuracy: 0.9479 - val_loss: 0.2803 - val_binary_accuracy: 0.8885\n",
      "Epoch 6/20\n",
      "15000/15000 [==============================] - 1s 58us/sample - loss: 0.1377 - binary_accuracy: 0.9583 - val_loss: 0.2842 - val_binary_accuracy: 0.8865\n",
      "Epoch 7/20\n",
      "15000/15000 [==============================] - 1s 59us/sample - loss: 0.1125 - binary_accuracy: 0.9665 - val_loss: 0.2967 - val_binary_accuracy: 0.8864\n",
      "Epoch 8/20\n",
      "15000/15000 [==============================] - 1s 59us/sample - loss: 0.0961 - binary_accuracy: 0.9723 - val_loss: 0.3176 - val_binary_accuracy: 0.8802\n",
      "Epoch 9/20\n",
      "15000/15000 [==============================] - 1s 59us/sample - loss: 0.0797 - binary_accuracy: 0.9769 - val_loss: 0.3578 - val_binary_accuracy: 0.8774\n",
      "Epoch 10/20\n",
      "15000/15000 [==============================] - 1s 60us/sample - loss: 0.0648 - binary_accuracy: 0.9835 - val_loss: 0.3560 - val_binary_accuracy: 0.8774\n",
      "Epoch 11/20\n",
      "15000/15000 [==============================] - 1s 60us/sample - loss: 0.0552 - binary_accuracy: 0.9866 - val_loss: 0.3812 - val_binary_accuracy: 0.8778\n",
      "Epoch 12/20\n",
      "15000/15000 [==============================] - 1s 65us/sample - loss: 0.0429 - binary_accuracy: 0.9895 - val_loss: 0.4058 - val_binary_accuracy: 0.8768\n",
      "Epoch 13/20\n",
      "15000/15000 [==============================] - 1s 60us/sample - loss: 0.0361 - binary_accuracy: 0.9919 - val_loss: 0.4353 - val_binary_accuracy: 0.8757\n",
      "Epoch 14/20\n",
      "15000/15000 [==============================] - 1s 59us/sample - loss: 0.0277 - binary_accuracy: 0.9945 - val_loss: 0.4614 - val_binary_accuracy: 0.8735\n",
      "Epoch 15/20\n",
      "15000/15000 [==============================] - 1s 63us/sample - loss: 0.0215 - binary_accuracy: 0.9965 - val_loss: 0.5187 - val_binary_accuracy: 0.8631\n",
      "Epoch 16/20\n",
      "15000/15000 [==============================] - 1s 60us/sample - loss: 0.0190 - binary_accuracy: 0.9963 - val_loss: 0.5243 - val_binary_accuracy: 0.8718\n",
      "Epoch 17/20\n",
      "15000/15000 [==============================] - 1s 63us/sample - loss: 0.0139 - binary_accuracy: 0.9979 - val_loss: 0.5610 - val_binary_accuracy: 0.8717\n",
      "Epoch 18/20\n",
      "15000/15000 [==============================] - 1s 59us/sample - loss: 0.0085 - binary_accuracy: 0.9993 - val_loss: 0.5964 - val_binary_accuracy: 0.8709\n",
      "Epoch 19/20\n",
      "15000/15000 [==============================] - 1s 59us/sample - loss: 0.0092 - binary_accuracy: 0.9985 - val_loss: 0.6347 - val_binary_accuracy: 0.8693\n",
      "Epoch 20/20\n",
      "15000/15000 [==============================] - 1s 61us/sample - loss: 0.0074 - binary_accuracy: 0.9987 - val_loss: 0.6637 - val_binary_accuracy: 0.8679\n"
     ]
    }
   ],
   "source": [
    "history = model.fit(\n",
    "    partial_x_train,\n",
    "    partial_y_train,\n",
    "    epochs=20,\n",
    "    batch_size=512,\n",
    "    validation_data=(x_val, y_val)\n",
    ")"
   ]
  },
  {
   "cell_type": "markdown",
   "metadata": {},
   "source": [
    "### Plot results\n",
    "\n",
    "#### Training and validation loss"
   ]
  },
  {
   "cell_type": "code",
   "execution_count": 49,
   "metadata": {},
   "outputs": [
    {
     "data": {
      "text/plain": [
       "<function matplotlib.pyplot.show(*args, **kw)>"
      ]
     },
     "execution_count": 49,
     "metadata": {},
     "output_type": "execute_result"
    },
    {
     "data": {
      "image/png": "[encoded data removed]",
      "text/plain": [
       "<Figure size 432x288 with 1 Axes>"
      ]
     },
     "metadata": {
      "needs_background": "light"
     },
     "output_type": "display_data"
    }
   ],
   "source": [
    "history_dict = history.history\n",
    "loss_values = history_dict['loss']\n",
    "val_loss_values = history_dict['val_loss']\n",
    "acc = history_dict['binary_accuracy']\n",
    "\n",
    "epochs = range(1, len(acc) + 1)\n",
    "plt.plot(epochs, loss_values, 'bo', label='Training loss')\n",
    "plt.plot(epochs, val_loss_values, 'b', label='Validation loss')\n",
    "plt.title('Training and validation loss')\n",
    "plt.xlabel('Epochs')\n",
    "plt.ylabel('Loss')\n",
    "plt.legend()\n",
    "\n",
    "plt.show"
   ]
  },
  {
   "cell_type": "code",
   "execution_count": 46,
   "metadata": {},
   "outputs": [
    {
     "data": {
      "text/plain": [
       "dict_keys(['loss', 'binary_accuracy', 'val_loss', 'val_binary_accuracy'])"
      ]
     },
     "execution_count": 46,
     "metadata": {},
     "output_type": "execute_result"
    }
   ],
   "source": [
    "history_dict.keys()"
   ]
  },
  {
   "cell_type": "markdown",
   "metadata": {},
   "source": [
    "#### Training and validation accuracy"
   ]
  },
  {
   "cell_type": "code",
   "execution_count": 50,
   "metadata": {
    "scrolled": true
   },
   "outputs": [
    {
     "data": {
      "text/plain": [
       "<function matplotlib.pyplot.show(*args, **kw)>"
      ]
     },
     "execution_count": 50,
     "metadata": {},
     "output_type": "execute_result"
    },
    {
     "data": {
      "image/png": "[encoded data removed]",
      "text/plain": [
       "<Figure size 432x288 with 1 Axes>"
      ]
     },
     "metadata": {
      "needs_background": "light"
     },
     "output_type": "display_data"
    }
   ],
   "source": [
    "plt.clf()\n",
    "\n",
    "acc_values = history_dict['binary_accuracy']\n",
    "val_acc_values = history_dict['val_binary_accuracy']\n",
    "\n",
    "plt.plot(epochs, acc_values, 'bo', label='Training accuracy')\n",
    "plt.plot(epochs, val_acc_values, 'b', label='Validation accuracy')\n",
    "plt.title('Training and validation accuracy')\n",
    "plt.xlabel('Epochs')\n",
    "plt.ylabel('Accuracy')\n",
    "plt.legend()\n",
    "\n",
    "plt.show"
   ]
  },
  {
   "cell_type": "markdown",
   "metadata": {},
   "source": [
    "Displayed above we have an example of **overfitting**. To prevent it, in this case could be sufficient to train the network for 4 epochs only"
   ]
  },
  {
   "cell_type": "code",
   "execution_count": 64,
   "metadata": {},
   "outputs": [
    {
     "name": "stdout",
     "output_type": "stream",
     "text": [
      "Train on 25000 samples\n",
      "Epoch 1/4\n",
      "25000/25000 [==============================] - 1s 52us/sample - loss: 0.4445 - binary_accuracy: 0.8198\n",
      "Epoch 2/4\n",
      "25000/25000 [==============================] - 1s 36us/sample - loss: 0.2498 - binary_accuracy: 0.9104\n",
      "Epoch 3/4\n",
      "25000/25000 [==============================] - 1s 36us/sample - loss: 0.1956 - binary_accuracy: 0.9283\n",
      "Epoch 4/4\n",
      "25000/25000 [==============================] - 1s 35us/sample - loss: 0.1625 - binary_accuracy: 0.9419\n",
      "25000/25000 [==============================] - 1s 39us/sample - loss: 0.2992 - binary_accuracy: 0.8828\n"
     ]
    }
   ],
   "source": [
    "model = models.Sequential()\n",
    "model.add(layers.Dense(16, activation='relu', input_shape=(LIMIT_WORD,)))\n",
    "model.add(layers.Dense(16, activation='relu'))\n",
    "model.add(layers.Dense(1, activation='sigmoid'))\n",
    "\n",
    "model.compile(\n",
    "    optimizer=optimizers.RMSprop(lr=0.001),\n",
    "    loss=losses.binary_crossentropy,\n",
    "    metrics=[metrics.binary_accuracy]\n",
    ")\n",
    "model.fit(\n",
    "    x_train,\n",
    "    y_train,\n",
    "    epochs=4,\n",
    "    batch_size=512\n",
    ")\n",
    "results = model.evaluate(x_test, y_test)"
   ]
  },
  {
   "cell_type": "code",
   "execution_count": 65,
   "metadata": {},
   "outputs": [
    {
     "name": "stdout",
     "output_type": "stream",
     "text": [
      "[0.2991836279296875, 0.88284]\n"
     ]
    }
   ],
   "source": [
    "print(results)"
   ]
  },
  {
   "cell_type": "code",
   "execution_count": 66,
   "metadata": {},
   "outputs": [
    {
     "data": {
      "text/plain": [
       "array([[0.22048058],\n",
       "       [0.99993706],\n",
       "       [0.8645351 ],\n",
       "       ...,\n",
       "       [0.08931651],\n",
       "       [0.11073526],\n",
       "       [0.7006499 ]], dtype=float32)"
      ]
     },
     "execution_count": 66,
     "metadata": {},
     "output_type": "execute_result"
    }
   ],
   "source": [
    "model.predict(x_test)"
   ]
  },
  {
   "cell_type": "markdown",
   "metadata": {},
   "source": [
    "With this fairly naive approach we obtained an accuracy of 88%."
   ]
  },
  {
   "cell_type": "code",
   "execution_count": null,
   "metadata": {},
   "outputs": [],
   "source": []
  }
 ],
 "metadata": {
  "kernelspec": {
   "display_name": "Python 3",
   "language": "python",
   "name": "python3"
  },
  "language_info": {
   "codemirror_mode": {
    "name": "ipython",
    "version": 3
   },
   "file_extension": ".py",
   "mimetype": "text/x-python",
   "name": "python",
   "nbconvert_exporter": "python",
   "pygments_lexer": "ipython3",
   "version": "3.6.10"
  }
 },
 "nbformat": 4,
 "nbformat_minor": 4
}
