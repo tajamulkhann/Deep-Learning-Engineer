{
 "cells": [
  {
   "cell_type": "markdown",
   "metadata": {},
   "source": [
    "# Multiclass classifier\n",
    "\n",
    "Classify articles from a Reuters dataset having 46 different categories"
   ]
  },
  {
   "cell_type": "markdown",
   "metadata": {},
   "source": [
    "### Import libraries"
   ]
  },
  {
   "cell_type": "code",
   "execution_count": 1,
   "metadata": {},
   "outputs": [],
   "source": [
    "import numpy as np\n",
    "import matplotlib.pyplot as plt\n",
    "import tensorflow as tf\n",
    "\n",
    "from tensorflow.keras import models, layers, optimizers, losses, metrics\n",
    "from tensorflow.keras.datasets import reuters\n",
    "from tensorflow.keras.utils import to_categorical"
   ]
  },
  {
   "cell_type": "markdown",
   "metadata": {},
   "source": [
    "### Get datasets"
   ]
  },
  {
   "cell_type": "code",
   "execution_count": 2,
   "metadata": {},
   "outputs": [],
   "source": [
    "LIMIT_WORD = 10000\n",
    "\n",
    "(train_data, train_labels), (test_data, test_labels) = reuters.load_data(num_words=LIMIT_WORD)"
   ]
  },
  {
   "cell_type": "markdown",
   "metadata": {},
   "source": [
    "### Data exploring (convert sequences to original review)"
   ]
  },
  {
   "cell_type": "code",
   "execution_count": 3,
   "metadata": {},
   "outputs": [],
   "source": [
    "def convert_to_english(sequence):\n",
    "    word_index = reuters.get_word_index()\n",
    "    reverse_word_index = dict(\n",
    "        [(value, key) for (key, value) in word_index.items()]\n",
    "    )\n",
    "    decoded_review = \" \".join(\n",
    "        [reverse_word_index.get(i - 3, '?') for i in sequence]\n",
    "    )\n",
    "    \n",
    "    return decoded_review"
   ]
  },
  {
   "cell_type": "code",
   "execution_count": 4,
   "metadata": {},
   "outputs": [
    {
     "name": "stdout",
     "output_type": "stream",
     "text": [
      "? ? ? said as a result of its december acquisition of space co it expects earnings per share in 1987 of 1 15 to 1 30 dlrs per share up from 70 cts in 1986 the company said pretax net should rise to nine to 10 mln dlrs from six mln dlrs in 1986 and rental operation revenues to 19 to 22 mln dlrs from 12 5 mln dlrs it said cash flow per share this year should be 2 50 to three dlrs reuter 3\n"
     ]
    }
   ],
   "source": [
    "print(convert_to_english(train_data[0]))"
   ]
  },
  {
   "cell_type": "markdown",
   "metadata": {},
   "source": [
    "### Pre-process the data (convert sequences into tensors)"
   ]
  },
  {
   "cell_type": "code",
   "execution_count": 5,
   "metadata": {},
   "outputs": [],
   "source": [
    "def vectorize_sequences(sequences, dimension=LIMIT_WORD):\n",
    "    results = np.zeros((len(sequences), dimension))\n",
    "    for i, sequence in enumerate(sequences):\n",
    "        results[i, sequence] = 1\n",
    "    \n",
    "    return results"
   ]
  },
  {
   "cell_type": "markdown",
   "metadata": {},
   "source": [
    "#### Vectorize examples"
   ]
  },
  {
   "cell_type": "code",
   "execution_count": 6,
   "metadata": {},
   "outputs": [],
   "source": [
    "x_train = vectorize_sequences(train_data)\n",
    "x_test = vectorize_sequences(test_data)"
   ]
  },
  {
   "cell_type": "code",
   "execution_count": 7,
   "metadata": {},
   "outputs": [
    {
     "data": {
      "text/plain": [
       "array([0., 1., 1., ..., 0., 0., 0.])"
      ]
     },
     "execution_count": 7,
     "metadata": {},
     "output_type": "execute_result"
    }
   ],
   "source": [
    "x_train[0]"
   ]
  },
  {
   "cell_type": "markdown",
   "metadata": {},
   "source": [
    "#### One-hot encoding of labels (categorical encoding)"
   ]
  },
  {
   "cell_type": "code",
   "execution_count": 8,
   "metadata": {},
   "outputs": [],
   "source": [
    "one_hot_train_labels = to_categorical(train_labels)\n",
    "one_hot_test_labels = to_categorical(test_labels)"
   ]
  },
  {
   "cell_type": "code",
   "execution_count": 9,
   "metadata": {},
   "outputs": [
    {
     "data": {
      "text/plain": [
       "array([0., 0., 0., 1., 0., 0., 0., 0., 0., 0., 0., 0., 0., 0., 0., 0., 0.,\n",
       "       0., 0., 0., 0., 0., 0., 0., 0., 0., 0., 0., 0., 0., 0., 0., 0., 0.,\n",
       "       0., 0., 0., 0., 0., 0., 0., 0., 0., 0., 0., 0.], dtype=float32)"
      ]
     },
     "execution_count": 9,
     "metadata": {},
     "output_type": "execute_result"
    }
   ],
   "source": [
    "one_hot_train_labels[0]"
   ]
  },
  {
   "cell_type": "markdown",
   "metadata": {},
   "source": [
    "### Building the network\n",
    "\n",
    "#### Architecture\n",
    "\n",
    "- 2 intermediate Dense layers with 16 hidden unites per each (relu actovation function)\n",
    "- 1 output layer (with sigmoid activation function)"
   ]
  },
  {
   "cell_type": "code",
   "execution_count": 10,
   "metadata": {},
   "outputs": [],
   "source": [
    "model = models.Sequential()\n",
    "model.add(layers.Dense(64, activation='relu', input_shape=(LIMIT_WORD,)))\n",
    "model.add(layers.Dense(64, activation='relu'))\n",
    "model.add(layers.Dense(46, activation='softmax'))"
   ]
  },
  {
   "cell_type": "markdown",
   "metadata": {},
   "source": [
    "#### Compile\n",
    "\n",
    "**Loss function:** _binary crossentropy_\n",
    "**Optimizer:** _rmsprop_"
   ]
  },
  {
   "cell_type": "code",
   "execution_count": 11,
   "metadata": {},
   "outputs": [],
   "source": [
    "model.compile(\n",
    "    optimizer=optimizers.RMSprop(lr=0.001),\n",
    "    loss=losses.categorical_crossentropy,\n",
    "    metrics=[metrics.categorical_accuracy]\n",
    ")"
   ]
  },
  {
   "cell_type": "markdown",
   "metadata": {},
   "source": [
    "#### Training\n",
    "- Define validation data\n",
    "- Define epochs and batch size\n",
    "- Fit the model"
   ]
  },
  {
   "cell_type": "code",
   "execution_count": 12,
   "metadata": {},
   "outputs": [],
   "source": [
    "x_val = x_train[:1000]\n",
    "partial_x_train = x_train[1000:]\n",
    "y_val = one_hot_train_labels[:1000]\n",
    "partial_y_train = one_hot_train_labels[1000:]"
   ]
  },
  {
   "cell_type": "code",
   "execution_count": 13,
   "metadata": {},
   "outputs": [
    {
     "name": "stdout",
     "output_type": "stream",
     "text": [
      "Train on 7982 samples, validate on 1000 samples\n",
      "Epoch 1/20\n",
      "7982/7982 [==============================] - 1s 116us/sample - loss: 2.5877 - categorical_accuracy: 0.4866 - val_loss: 1.7296 - val_categorical_accuracy: 0.6190\n",
      "Epoch 2/20\n",
      "7982/7982 [==============================] - 1s 67us/sample - loss: 1.3991 - categorical_accuracy: 0.7038 - val_loss: 1.3148 - val_categorical_accuracy: 0.7090\n",
      "Epoch 3/20\n",
      "7982/7982 [==============================] - 1s 65us/sample - loss: 1.0326 - categorical_accuracy: 0.7841 - val_loss: 1.1677 - val_categorical_accuracy: 0.7300\n",
      "Epoch 4/20\n",
      "7982/7982 [==============================] - 0s 61us/sample - loss: 0.8048 - categorical_accuracy: 0.8334 - val_loss: 1.0171 - val_categorical_accuracy: 0.7800\n",
      "Epoch 5/20\n",
      "7982/7982 [==============================] - 1s 65us/sample - loss: 0.6392 - categorical_accuracy: 0.8678 - val_loss: 0.9491 - val_categorical_accuracy: 0.8020\n",
      "Epoch 6/20\n",
      "7982/7982 [==============================] - 0s 61us/sample - loss: 0.5050 - categorical_accuracy: 0.8958 - val_loss: 0.9167 - val_categorical_accuracy: 0.7980\n",
      "Epoch 7/20\n",
      "7982/7982 [==============================] - 0s 59us/sample - loss: 0.4044 - categorical_accuracy: 0.9154 - val_loss: 0.8861 - val_categorical_accuracy: 0.8130\n",
      "Epoch 8/20\n",
      "7982/7982 [==============================] - 1s 64us/sample - loss: 0.3292 - categorical_accuracy: 0.9301 - val_loss: 0.8768 - val_categorical_accuracy: 0.8130\n",
      "Epoch 9/20\n",
      "7982/7982 [==============================] - 1s 69us/sample - loss: 0.2738 - categorical_accuracy: 0.9390 - val_loss: 0.8838 - val_categorical_accuracy: 0.8140\n",
      "Epoch 10/20\n",
      "7982/7982 [==============================] - 0s 63us/sample - loss: 0.2331 - categorical_accuracy: 0.9448 - val_loss: 0.9033 - val_categorical_accuracy: 0.8150\n",
      "Epoch 11/20\n",
      "7982/7982 [==============================] - 1s 64us/sample - loss: 0.2009 - categorical_accuracy: 0.9500 - val_loss: 0.8862 - val_categorical_accuracy: 0.8150\n",
      "Epoch 12/20\n",
      "7982/7982 [==============================] - 0s 61us/sample - loss: 0.1801 - categorical_accuracy: 0.9516 - val_loss: 0.9070 - val_categorical_accuracy: 0.8090\n",
      "Epoch 13/20\n",
      "7982/7982 [==============================] - 0s 60us/sample - loss: 0.1626 - categorical_accuracy: 0.9520 - val_loss: 0.9447 - val_categorical_accuracy: 0.8050\n",
      "Epoch 14/20\n",
      "7982/7982 [==============================] - 1s 68us/sample - loss: 0.1490 - categorical_accuracy: 0.9549 - val_loss: 0.9549 - val_categorical_accuracy: 0.8060\n",
      "Epoch 15/20\n",
      "7982/7982 [==============================] - 1s 69us/sample - loss: 0.1421 - categorical_accuracy: 0.9539 - val_loss: 0.9170 - val_categorical_accuracy: 0.8140\n",
      "Epoch 16/20\n",
      "7982/7982 [==============================] - 1s 63us/sample - loss: 0.1286 - categorical_accuracy: 0.9568 - val_loss: 0.9971 - val_categorical_accuracy: 0.8050\n",
      "Epoch 17/20\n",
      "7982/7982 [==============================] - 1s 68us/sample - loss: 0.1250 - categorical_accuracy: 0.9560 - val_loss: 1.0387 - val_categorical_accuracy: 0.8000\n",
      "Epoch 18/20\n",
      "7982/7982 [==============================] - 1s 65us/sample - loss: 0.1236 - categorical_accuracy: 0.9563 - val_loss: 0.9871 - val_categorical_accuracy: 0.8170\n",
      "Epoch 19/20\n",
      "7982/7982 [==============================] - 1s 66us/sample - loss: 0.1178 - categorical_accuracy: 0.9558 - val_loss: 1.0047 - val_categorical_accuracy: 0.8130\n",
      "Epoch 20/20\n",
      "7982/7982 [==============================] - 1s 77us/sample - loss: 0.1135 - categorical_accuracy: 0.9565 - val_loss: 1.0720 - val_categorical_accuracy: 0.7960\n"
     ]
    }
   ],
   "source": [
    "history = model.fit(\n",
    "    partial_x_train,\n",
    "    partial_y_train,\n",
    "    epochs=20,\n",
    "    batch_size=512,\n",
    "    validation_data=(x_val, y_val)\n",
    ")"
   ]
  },
  {
   "cell_type": "markdown",
   "metadata": {},
   "source": [
    "### Plot results\n",
    "\n",
    "#### Training and validation loss"
   ]
  },
  {
   "cell_type": "code",
   "execution_count": 14,
   "metadata": {},
   "outputs": [
    {
     "data": {
      "text/plain": [
       "<function matplotlib.pyplot.show(*args, **kw)>"
      ]
     },
     "execution_count": 14,
     "metadata": {},
     "output_type": "execute_result"
    },
    {
     "data": {
      "image/png": "[encoded data removed]",
      "text/plain": [
       "<Figure size 432x288 with 1 Axes>"
      ]
     },
     "metadata": {
      "needs_background": "light"
     },
     "output_type": "display_data"
    }
   ],
   "source": [
    "history_dict = history.history\n",
    "loss_values = history_dict['loss']\n",
    "val_loss_values = history_dict['val_loss']\n",
    "acc = history_dict['categorical_accuracy']\n",
    "\n",
    "epochs = range(1, len(acc) + 1)\n",
    "plt.plot(epochs, loss_values, 'bo', label='Training loss')\n",
    "plt.plot(epochs, val_loss_values, 'b', label='Validation loss')\n",
    "plt.title('Training and validation loss')\n",
    "plt.xlabel('Epochs')\n",
    "plt.ylabel('Loss')\n",
    "plt.legend()\n",
    "\n",
    "plt.show"
   ]
  },
  {
   "cell_type": "code",
   "execution_count": 15,
   "metadata": {},
   "outputs": [
    {
     "data": {
      "text/plain": [
       "dict_keys(['loss', 'categorical_accuracy', 'val_loss', 'val_categorical_accuracy'])"
      ]
     },
     "execution_count": 15,
     "metadata": {},
     "output_type": "execute_result"
    }
   ],
   "source": [
    "history_dict.keys()"
   ]
  },
  {
   "cell_type": "markdown",
   "metadata": {},
   "source": [
    "#### Training and validation accuracy"
   ]
  },
  {
   "cell_type": "code",
   "execution_count": 16,
   "metadata": {
    "scrolled": true
   },
   "outputs": [
    {
     "data": {
      "text/plain": [
       "<function matplotlib.pyplot.show(*args, **kw)>"
      ]
     },
     "execution_count": 16,
     "metadata": {},
     "output_type": "execute_result"
    },
    {
     "data": {
      "image/png": "[encoded data removed]",
      "text/plain": [
       "<Figure size 432x288 with 1 Axes>"
      ]
     },
     "metadata": {
      "needs_background": "light"
     },
     "output_type": "display_data"
    }
   ],
   "source": [
    "plt.clf()\n",
    "\n",
    "acc_values = history_dict['categorical_accuracy']\n",
    "val_acc_values = history_dict['val_categorical_accuracy']\n",
    "\n",
    "plt.plot(epochs, acc_values, 'bo', label='Training accuracy')\n",
    "plt.plot(epochs, val_acc_values, 'b', label='Validation accuracy')\n",
    "plt.title('Training and validation accuracy')\n",
    "plt.xlabel('Epochs')\n",
    "plt.ylabel('Accuracy')\n",
    "plt.legend()\n",
    "\n",
    "plt.show"
   ]
  },
  {
   "cell_type": "markdown",
   "metadata": {},
   "source": [
    "The graphs show that the model starts overfitting after ~10 epochs. Let's train it again with better hyperparameters"
   ]
  },
  {
   "cell_type": "code",
   "execution_count": 32,
   "metadata": {},
   "outputs": [
    {
     "name": "stdout",
     "output_type": "stream",
     "text": [
      "Train on 7982 samples, validate on 1000 samples\n",
      "Epoch 1/10\n",
      "7982/7982 [==============================] - 1s 110us/sample - loss: 2.5890 - categorical_accuracy: 0.5153 - val_loss: 1.6957 - val_categorical_accuracy: 0.6260\n",
      "Epoch 2/10\n",
      "7982/7982 [==============================] - 1s 70us/sample - loss: 1.4276 - categorical_accuracy: 0.7008 - val_loss: 1.3144 - val_categorical_accuracy: 0.6970\n",
      "Epoch 3/10\n",
      "7982/7982 [==============================] - 1s 65us/sample - loss: 1.0681 - categorical_accuracy: 0.7681 - val_loss: 1.1524 - val_categorical_accuracy: 0.7470\n",
      "Epoch 4/10\n",
      "7982/7982 [==============================] - 1s 67us/sample - loss: 0.8389 - categorical_accuracy: 0.8191 - val_loss: 1.0426 - val_categorical_accuracy: 0.7780\n",
      "Epoch 5/10\n",
      "7982/7982 [==============================] - 1s 69us/sample - loss: 0.6735 - categorical_accuracy: 0.8577 - val_loss: 0.9675 - val_categorical_accuracy: 0.8000\n",
      "Epoch 6/10\n",
      "7982/7982 [==============================] - 1s 67us/sample - loss: 0.5400 - categorical_accuracy: 0.8865 - val_loss: 0.9544 - val_categorical_accuracy: 0.8130\n",
      "Epoch 7/10\n",
      "7982/7982 [==============================] - 1s 68us/sample - loss: 0.4338 - categorical_accuracy: 0.9098 - val_loss: 0.9292 - val_categorical_accuracy: 0.8030\n",
      "Epoch 8/10\n",
      "7982/7982 [==============================] - 1s 68us/sample - loss: 0.3550 - categorical_accuracy: 0.9266 - val_loss: 0.8958 - val_categorical_accuracy: 0.8180\n",
      "Epoch 9/10\n",
      "7982/7982 [==============================] - 1s 68us/sample - loss: 0.2919 - categorical_accuracy: 0.9385 - val_loss: 0.9145 - val_categorical_accuracy: 0.8030\n",
      "Epoch 10/10\n",
      "7982/7982 [==============================] - 1s 64us/sample - loss: 0.2514 - categorical_accuracy: 0.9444 - val_loss: 0.9362 - val_categorical_accuracy: 0.8040\n",
      "2246/2246 [==============================] - 0s 55us/sample - loss: 1.0099 - categorical_accuracy: 0.7903\n"
     ]
    }
   ],
   "source": [
    "model = models.Sequential()\n",
    "model.add(layers.Dense(64, activation='relu', input_shape=(LIMIT_WORD,)))\n",
    "model.add(layers.Dense(64, activation='relu'))\n",
    "model.add(layers.Dense(46, activation='softmax'))\n",
    "\n",
    "model.compile(\n",
    "    optimizer=optimizers.RMSprop(lr=0.001),\n",
    "    loss=losses.categorical_crossentropy,\n",
    "    metrics=[metrics.categorical_accuracy]\n",
    ")\n",
    "model.fit(\n",
    "    partial_x_train,\n",
    "    partial_y_train,\n",
    "    epochs=10,\n",
    "    batch_size=512,\n",
    "    validation_data=(x_val, y_val)\n",
    ")\n",
    "results = model.evaluate(x_test, one_hot_test_labels)"
   ]
  },
  {
   "cell_type": "code",
   "execution_count": 33,
   "metadata": {},
   "outputs": [
    {
     "name": "stdout",
     "output_type": "stream",
     "text": [
      "[1.009892533957056, 0.7902939]\n"
     ]
    }
   ],
   "source": [
    "print(results)"
   ]
  },
  {
   "cell_type": "code",
   "execution_count": 34,
   "metadata": {},
   "outputs": [
    {
     "data": {
      "text/plain": [
       "array([[9.5555675e-05, 4.1223677e-05, 5.9732270e-06, ..., 8.4474605e-06,\n",
       "        2.8842246e-06, 3.9834860e-05],\n",
       "       [5.2923879e-05, 4.8729219e-03, 3.6130776e-04, ..., 2.7193574e-03,\n",
       "        7.5042913e-06, 1.2056468e-06],\n",
       "       [1.4567733e-04, 8.8359046e-01, 4.8508430e-03, ..., 3.2348607e-03,\n",
       "        7.0754027e-06, 3.8999908e-05],\n",
       "       ...,\n",
       "       [6.5655986e-05, 1.3337305e-04, 2.7083925e-05, ..., 3.2714066e-05,\n",
       "        8.6744922e-06, 6.2861247e-05],\n",
       "       [1.5852891e-03, 9.2632450e-02, 2.5552192e-03, ..., 6.8909382e-03,\n",
       "        6.1394251e-04, 9.0326834e-04],\n",
       "       [1.1718799e-04, 7.2575665e-01, 1.6222894e-02, ..., 1.9016492e-03,\n",
       "        7.5688044e-06, 3.5573521e-05]], dtype=float32)"
      ]
     },
     "execution_count": 34,
     "metadata": {},
     "output_type": "execute_result"
    }
   ],
   "source": [
    "model.predict(x_test)"
   ]
  },
  {
   "cell_type": "markdown",
   "metadata": {},
   "source": [
    "With this approach we obtained an accuracy of ~80%."
   ]
  },
  {
   "cell_type": "code",
   "execution_count": null,
   "metadata": {},
   "outputs": [],
   "source": []
  }
 ],
 "metadata": {
  "kernelspec": {
   "display_name": "Python 3",
   "language": "python",
   "name": "python3"
  },
  "language_info": {
   "codemirror_mode": {
    "name": "ipython",
    "version": 3
   },
   "file_extension": ".py",
   "mimetype": "text/x-python",
   "name": "python",
   "nbconvert_exporter": "python",
   "pygments_lexer": "ipython3",
   "version": "3.6.10"
  }
 },
 "nbformat": 4,
 "nbformat_minor": 4
}
