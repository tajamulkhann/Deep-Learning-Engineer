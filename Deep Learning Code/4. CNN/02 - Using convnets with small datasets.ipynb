{
 "cells": [
  {
   "cell_type": "markdown",
   "metadata": {},
   "source": [
    "# Using convnets with small datasets\n",
    "\n",
    "Perform an image classification task (Dogs vs Cats) using a small dataset of images."
   ]
  },
  {
   "cell_type": "code",
   "execution_count": 1,
   "metadata": {},
   "outputs": [],
   "source": [
    "import numpy as np\n",
    "import matplotlib.pyplot as plt\n",
    "import tensorflow as tf\n",
    "\n",
    "from tensorflow.keras import models, layers, optimizers, losses, metrics\n",
    "from tensorflow.keras.datasets import mnist\n",
    "from tensorflow.keras import optimizers\n",
    "from tensorflow.keras.utils import to_categorical"
   ]
  },
  {
   "cell_type": "markdown",
   "metadata": {},
   "source": [
    "## Create dataset\n",
    "\n",
    "After having downloaded the dataset from https://www.kaggle.com/c/dogs-vs-cats/data, let's create train, validation and test datasets for each category. The intention is to have a train dataset of 1000 images per each category and validation and test datasets made of 500 images per category."
   ]
  },
  {
   "cell_type": "code",
   "execution_count": 18,
   "metadata": {},
   "outputs": [
    {
     "name": "stdout",
     "output_type": "stream",
     "text": [
      "total training cat images: 1000\n",
      "total training dog images: 1000\n",
      "total validation cat images: 500\n",
      "total validation dog images: 500\n",
      "total test cat images: 500\n",
      "total test dog images: 500\n"
     ]
    }
   ],
   "source": [
    "%run ./datasets/create_cats_dogs_datasets.py"
   ]
  },
  {
   "cell_type": "markdown",
   "metadata": {},
   "source": [
    "## Building the network\n",
    "\n",
    "The structure will be another stack of `Conv2D` and `MaxPooling2D` layers. Being the problem more difficult than a classic MNIST toy-problem, the network will be larger, accordingly."
   ]
  },
  {
   "cell_type": "code",
   "execution_count": 3,
   "metadata": {},
   "outputs": [
    {
     "name": "stdout",
     "output_type": "stream",
     "text": [
      "Model: \"sequential\"\n",
      "_________________________________________________________________\n",
      "Layer (type)                 Output Shape              Param #   \n",
      "=================================================================\n",
      "conv2d (Conv2D)              (None, 148, 148, 32)      896       \n",
      "_________________________________________________________________\n",
      "max_pooling2d (MaxPooling2D) (None, 74, 74, 32)        0         \n",
      "_________________________________________________________________\n",
      "conv2d_1 (Conv2D)            (None, 72, 72, 64)        18496     \n",
      "_________________________________________________________________\n",
      "max_pooling2d_1 (MaxPooling2 (None, 36, 36, 64)        0         \n",
      "_________________________________________________________________\n",
      "conv2d_2 (Conv2D)            (None, 34, 34, 128)       73856     \n",
      "_________________________________________________________________\n",
      "max_pooling2d_2 (MaxPooling2 (None, 17, 17, 128)       0         \n",
      "_________________________________________________________________\n",
      "conv2d_3 (Conv2D)            (None, 15, 15, 128)       147584    \n",
      "_________________________________________________________________\n",
      "max_pooling2d_3 (MaxPooling2 (None, 7, 7, 128)         0         \n",
      "_________________________________________________________________\n",
      "flatten (Flatten)            (None, 6272)              0         \n",
      "_________________________________________________________________\n",
      "dense (Dense)                (None, 512)               3211776   \n",
      "_________________________________________________________________\n",
      "dense_1 (Dense)              (None, 1)                 513       \n",
      "=================================================================\n",
      "Total params: 3,453,121\n",
      "Trainable params: 3,453,121\n",
      "Non-trainable params: 0\n",
      "_________________________________________________________________\n"
     ]
    }
   ],
   "source": [
    "model = models.Sequential()\n",
    "model.add(layers.Conv2D(32, (3, 3), activation='relu', input_shape=(150, 150, 3)))\n",
    "model.add(layers.MaxPooling2D((2, 2)))\n",
    "model.add(layers.Conv2D(64, (3, 3), activation='relu'))\n",
    "model.add(layers.MaxPooling2D((2, 2)))\n",
    "model.add(layers.Conv2D(128, (3, 3), activation='relu'))\n",
    "model.add(layers.MaxPooling2D((2, 2)))\n",
    "model.add(layers.Conv2D(128, (3, 3), activation='relu'))\n",
    "model.add(layers.MaxPooling2D((2, 2)))\n",
    "model.add(layers.Flatten())\n",
    "model.add(layers.Dense(512, activation='relu'))\n",
    "model.add(layers.Dense(1, activation='sigmoid'))\n",
    "\n",
    "model.summary()"
   ]
  },
  {
   "cell_type": "markdown",
   "metadata": {},
   "source": [
    "#### Compile the model"
   ]
  },
  {
   "cell_type": "code",
   "execution_count": 4,
   "metadata": {},
   "outputs": [],
   "source": [
    "model.compile(\n",
    "    optimizer='rmsprop',\n",
    "    loss='binary_crossentropy',\n",
    "    metrics=['accuracy']\n",
    ")"
   ]
  },
  {
   "cell_type": "markdown",
   "metadata": {},
   "source": [
    "## Data preprocessing\n",
    "\n",
    "The data is still in JPEG format, so we need to process it in order in an appropriate format that can be used to feed the model. We need to:\n",
    "- read the files;\n",
    "- decode the JPEG content to a RGB grod of pixels;\n",
    "- transform the grids into floating-point tensors;\n",
    "- rescape the pixel values into values included in the interval `[0, 1]`\n",
    "\n",
    "Keras has libraries that allows to automatize those operations, returning generators that do the wanted tasks."
   ]
  },
  {
   "cell_type": "code",
   "execution_count": 5,
   "metadata": {},
   "outputs": [
    {
     "name": "stdout",
     "output_type": "stream",
     "text": [
      "Found 2000 images belonging to 2 classes.\n",
      "Found 1000 images belonging to 2 classes.\n"
     ]
    }
   ],
   "source": [
    "from tensorflow.keras.preprocessing.image import ImageDataGenerator\n",
    "\n",
    "TRAIN_DIR = \"./datasets/cats_and_dogs_small/train\"\n",
    "VALIDATION_DIR = \"./datasets/cats_and_dogs_small/validation\"\n",
    "\n",
    "# rescale all images by 1/255\n",
    "train_datagen = ImageDataGenerator(rescale=1./255)\n",
    "validation_datagen = ImageDataGenerator(rescale=1./255)\n",
    "\n",
    "train_generator = train_datagen.flow_from_directory(\n",
    "    TRAIN_DIR,              # target dir\n",
    "    target_size=(150, 150), # resizes all images to 150x150\n",
    "    batch_size=20,\n",
    "    class_mode='binary'     # Binary labels needed with binary_crossentropy loss\n",
    ")\n",
    "\n",
    "validation_generator = validation_datagen.flow_from_directory(\n",
    "    VALIDATION_DIR,\n",
    "    target_size=(150, 150),\n",
    "    batch_size=20,\n",
    "    class_mode='binary'\n",
    ")"
   ]
  },
  {
   "cell_type": "markdown",
   "metadata": {},
   "source": [
    "Sanity check for the shape of data and labels batches:"
   ]
  },
  {
   "cell_type": "code",
   "execution_count": 8,
   "metadata": {},
   "outputs": [
    {
     "name": "stdout",
     "output_type": "stream",
     "text": [
      "Data batch shape: (20, 150, 150, 3)\n",
      "Labels batch shape: (20,)\n"
     ]
    }
   ],
   "source": [
    "for data_batch, labels_batch in train_generator:\n",
    "    print(f\"Data batch shape: {data_batch.shape}\")\n",
    "    print(f\"Labels batch shape: {labels_batch.shape}\")\n",
    "    break # Necessary because the generator yields batches indefinitely"
   ]
  },
  {
   "cell_type": "markdown",
   "metadata": {},
   "source": [
    "## Training\n",
    "\n",
    "Fit the model using the generators. The new version of Keras still supports `fit_generator`, but it's about to be deprecated. Better use `fit`, which now has the support for generators. \n",
    "The first argument is the Python generator that will yield training batches of inputs and targets indefinitely (`train_generator`). Because the data is being generated endlessly, the generator needs to know example how many samples to draw from the generator before declaring an epoch over. This is the role of the `steps_per_epoch` argument: after having drawn `steps_per_epoch` batches from the generator, i.e. after having run for steps_per_epoch gradient descent steps, the fitting process will go to the next epoch. In our case, batches are 20-sample large, so it will take 100 batches until we see our target of 2000 samples.\n",
    "\n",
    "When using fit_generator, one may pass a `validation_data` argument, much like with the fit method. Importantly, this argument is allowed to be a data generator itself, but it could be a tuple of Numpy arrays as well. If you pass a generator as validation_data, then this generator is expected to yield batches of validation data endlessly, and thus you should also specify the validation_steps argument, which tells the process how many batches to draw from the validation generator for evaluation."
   ]
  },
  {
   "cell_type": "code",
   "execution_count": 10,
   "metadata": {},
   "outputs": [
    {
     "name": "stdout",
     "output_type": "stream",
     "text": [
      "WARNING:tensorflow:sample_weight modes were coerced from\n",
      "  ...\n",
      "    to  \n",
      "  ['...']\n",
      "WARNING:tensorflow:sample_weight modes were coerced from\n",
      "  ...\n",
      "    to  \n",
      "  ['...']\n",
      "Train for 100 steps, validate for 50 steps\n",
      "Epoch 1/30\n",
      "100/100 [==============================] - 33s 327ms/step - loss: 0.5735 - accuracy: 0.7120 - val_loss: 0.5910 - val_accuracy: 0.6640\n",
      "Epoch 2/30\n",
      "100/100 [==============================] - 35s 351ms/step - loss: 0.5173 - accuracy: 0.7440 - val_loss: 0.5439 - val_accuracy: 0.7300\n",
      "Epoch 3/30\n",
      "100/100 [==============================] - 35s 352ms/step - loss: 0.4639 - accuracy: 0.7810 - val_loss: 0.5719 - val_accuracy: 0.7060\n",
      "Epoch 4/30\n",
      "100/100 [==============================] - 35s 350ms/step - loss: 0.4139 - accuracy: 0.8115 - val_loss: 0.5684 - val_accuracy: 0.7250\n",
      "Epoch 5/30\n",
      "100/100 [==============================] - 36s 365ms/step - loss: 0.3616 - accuracy: 0.8410 - val_loss: 0.6718 - val_accuracy: 0.7150\n",
      "Epoch 6/30\n",
      "100/100 [==============================] - 35s 354ms/step - loss: 0.3198 - accuracy: 0.8625 - val_loss: 0.6575 - val_accuracy: 0.7570\n",
      "Epoch 7/30\n",
      "100/100 [==============================] - 38s 383ms/step - loss: 0.2721 - accuracy: 0.8900 - val_loss: 1.2068 - val_accuracy: 0.7130\n",
      "Epoch 8/30\n",
      "100/100 [==============================] - 36s 359ms/step - loss: 0.2075 - accuracy: 0.9230 - val_loss: 0.8048 - val_accuracy: 0.7410\n",
      "Epoch 9/30\n",
      "100/100 [==============================] - 35s 354ms/step - loss: 0.1620 - accuracy: 0.9365 - val_loss: 1.0639 - val_accuracy: 0.7210\n",
      "Epoch 10/30\n",
      "100/100 [==============================] - 35s 353ms/step - loss: 0.1466 - accuracy: 0.9460 - val_loss: 0.8252 - val_accuracy: 0.7210\n",
      "Epoch 11/30\n",
      "100/100 [==============================] - 35s 353ms/step - loss: 0.1026 - accuracy: 0.9625 - val_loss: 1.2448 - val_accuracy: 0.7540\n",
      "Epoch 12/30\n",
      "100/100 [==============================] - 36s 355ms/step - loss: 0.1013 - accuracy: 0.9625 - val_loss: 1.3874 - val_accuracy: 0.7380\n",
      "Epoch 13/30\n",
      "100/100 [==============================] - 35s 355ms/step - loss: 0.1077 - accuracy: 0.9660 - val_loss: 1.3822 - val_accuracy: 0.7440\n",
      "Epoch 14/30\n",
      "100/100 [==============================] - 36s 357ms/step - loss: 0.0854 - accuracy: 0.9740 - val_loss: 1.8207 - val_accuracy: 0.7330\n",
      "Epoch 15/30\n",
      "100/100 [==============================] - 36s 364ms/step - loss: 0.0945 - accuracy: 0.9695 - val_loss: 2.9563 - val_accuracy: 0.6910\n",
      "Epoch 16/30\n",
      "100/100 [==============================] - 36s 359ms/step - loss: 0.0605 - accuracy: 0.9795 - val_loss: 1.4759 - val_accuracy: 0.7410\n",
      "Epoch 17/30\n",
      "100/100 [==============================] - 37s 366ms/step - loss: 0.0621 - accuracy: 0.9800 - val_loss: 2.1038 - val_accuracy: 0.7530\n",
      "Epoch 18/30\n",
      "100/100 [==============================] - 36s 360ms/step - loss: 0.0656 - accuracy: 0.9825 - val_loss: 1.4894 - val_accuracy: 0.7500\n",
      "Epoch 19/30\n",
      "100/100 [==============================] - 36s 360ms/step - loss: 0.0529 - accuracy: 0.9810 - val_loss: 2.3087 - val_accuracy: 0.7160\n",
      "Epoch 20/30\n",
      "100/100 [==============================] - 36s 356ms/step - loss: 0.0712 - accuracy: 0.9820 - val_loss: 2.1644 - val_accuracy: 0.7560\n",
      "Epoch 21/30\n",
      "100/100 [==============================] - 36s 358ms/step - loss: 0.0304 - accuracy: 0.9885 - val_loss: 2.5557 - val_accuracy: 0.7250\n",
      "Epoch 22/30\n",
      "100/100 [==============================] - 37s 369ms/step - loss: 0.0696 - accuracy: 0.9795 - val_loss: 2.1256 - val_accuracy: 0.7560\n",
      "Epoch 23/30\n",
      "100/100 [==============================] - 36s 357ms/step - loss: 0.0562 - accuracy: 0.9830 - val_loss: 2.6017 - val_accuracy: 0.7190\n",
      "Epoch 24/30\n",
      "100/100 [==============================] - 37s 367ms/step - loss: 0.0589 - accuracy: 0.9835 - val_loss: 2.2403 - val_accuracy: 0.7330\n",
      "Epoch 25/30\n",
      "100/100 [==============================] - 38s 384ms/step - loss: 0.0721 - accuracy: 0.9880 - val_loss: 1.8744 - val_accuracy: 0.6810\n",
      "Epoch 26/30\n",
      "100/100 [==============================] - 37s 371ms/step - loss: 0.0470 - accuracy: 0.9870 - val_loss: 2.6437 - val_accuracy: 0.7400\n",
      "Epoch 27/30\n",
      "100/100 [==============================] - 36s 359ms/step - loss: 0.0886 - accuracy: 0.9875 - val_loss: 2.5220 - val_accuracy: 0.7260\n",
      "Epoch 28/30\n",
      "100/100 [==============================] - 36s 359ms/step - loss: 0.0341 - accuracy: 0.9935 - val_loss: 3.1716 - val_accuracy: 0.7240\n",
      "Epoch 29/30\n",
      "100/100 [==============================] - 36s 363ms/step - loss: 0.0572 - accuracy: 0.9925 - val_loss: 2.9391 - val_accuracy: 0.7420\n",
      "Epoch 30/30\n",
      "100/100 [==============================] - 37s 375ms/step - loss: 0.0695 - accuracy: 0.9900 - val_loss: 3.3805 - val_accuracy: 0.7260\n"
     ]
    }
   ],
   "source": [
    "history = model.fit(\n",
    "    train_generator,\n",
    "    steps_per_epoch=100,\n",
    "    epochs=30,\n",
    "    validation_data=validation_generator,\n",
    "    validation_steps=50\n",
    ")"
   ]
  },
  {
   "cell_type": "markdown",
   "metadata": {},
   "source": [
    "#### Save the model"
   ]
  },
  {
   "cell_type": "code",
   "execution_count": 11,
   "metadata": {},
   "outputs": [],
   "source": [
    "model.save('models/cats_and_dogs_small.h5')"
   ]
  },
  {
   "cell_type": "markdown",
   "metadata": {},
   "source": [
    "#### Plot loss and accuracy\n",
    "\n",
    "The graphs below shows the characteristics of overfitting. The training accuracy increases linearly over time, until it reaches 100%, whereas the validation accuracy stalls around 72%. Interesting also to see how noisy are noth the validation loss and accuracy curves."
   ]
  },
  {
   "cell_type": "code",
   "execution_count": 17,
   "metadata": {},
   "outputs": [
    {
     "data": {
      "image/png": "[encoded data removed]",
      "text/plain": [
       "<Figure size 432x288 with 1 Axes>"
      ]
     },
     "metadata": {
      "needs_background": "light"
     },
     "output_type": "display_data"
    },
    {
     "data": {
      "image/png": "[encoded data removed]",
      "text/plain": [
       "<Figure size 432x288 with 1 Axes>"
      ]
     },
     "metadata": {
      "needs_background": "light"
     },
     "output_type": "display_data"
    }
   ],
   "source": [
    "import matplotlib.pyplot as plt\n",
    "\n",
    "acc = history.history['accuracy']\n",
    "val_acc = history.history['val_accuracy']\n",
    "loss = history.history['loss']\n",
    "val_loss = history.history['val_loss']\n",
    "\n",
    "epochs = range(len(acc))\n",
    "\n",
    "plt.plot(epochs, acc, 'bo', label='Training acc')\n",
    "plt.plot(epochs, val_acc, 'b', label='Validation acc')\n",
    "plt.title('Training and validation accuracy')\n",
    "plt.legend()\n",
    "\n",
    "plt.figure()\n",
    "\n",
    "plt.plot(epochs, loss, 'bo', label='Training loss')\n",
    "plt.plot(epochs, val_loss, 'b', label='Validation loss')\n",
    "plt.title('Training and validation loss')\n",
    "plt.legend()\n",
    "\n",
    "plt.show()\n"
   ]
  },
  {
   "cell_type": "markdown",
   "metadata": {},
   "source": [
    "## Tackling overfitting\n",
    "\n",
    "Having relatively few training examples (2000) could be a possible main cause for overfitting. Let's tackle it with a new technique than the ones previously analyzed (regularizations and dropout)."
   ]
  },
  {
   "cell_type": "markdown",
   "metadata": {},
   "source": [
    "### Using data augmentation\n",
    "\n",
    "Data augmentation takes the approach of generating new data from the existing samples, by _augmenting_ the samples via a number of random transformations that yield believable-looking images. In Keras, this can be done by configuring a number of random transformations to be performed on the images read by the `ImageDataGenerator` instance. More info about possible transformations could be found [in the related Keras docs](https://keras.io/preprocessing/image/)."
   ]
  },
  {
   "cell_type": "markdown",
   "metadata": {},
   "source": [
    "#### Create generators configured for data augmentation\n",
    "\n",
    "So, let's start by redefining the `train_generator` by adding some data augmentation transformations. Note that validation data **will not be augmented**. In particular:\n",
    "\n",
    "- `rotation_range` is a value in degrees (0-180), a range within which to randomly rotate pictures;\n",
    "- `width_shift` and `height_shift` are ranges (as a fraction of total width or height) within which to randomly translate pictures vertically or horizontally;\n",
    "- `shear_range` is for randomly applying shearing transformations;\n",
    "- `zoom_range` is for randomly zooming inside pictures;\n",
    "- `horizontal_flip` is for randomly flipping half of the images horizontally -- relevant when there are no assumptions of horizontal asymmetry (e.g. real-world pictures).\n",
    "- `fill_mode` is the strategy used for filling in newly created pixels, which can appear after a rotation or a width/height shift."
   ]
  },
  {
   "cell_type": "code",
   "execution_count": 64,
   "metadata": {},
   "outputs": [
    {
     "name": "stdout",
     "output_type": "stream",
     "text": [
      "Found 2000 images belonging to 2 classes.\n",
      "Found 1000 images belonging to 2 classes.\n"
     ]
    }
   ],
   "source": [
    "train_datagen = ImageDataGenerator(\n",
    "    rescale=1./255,\n",
    "    rotation_range=40,\n",
    "    width_shift_range=0.2,\n",
    "    height_shift_range=0.2,\n",
    "    shear_range=0.2,\n",
    "    zoom_range=0.2,\n",
    "    horizontal_flip=True\n",
    ")\n",
    "validation_datagen = ImageDataGenerator(rescale=1./255)\n",
    "\n",
    "train_generator = train_datagen.flow_from_directory(\n",
    "    TRAIN_DIR, \n",
    "    target_size=(150, 150),\n",
    "    batch_size=20,\n",
    "    class_mode='binary'\n",
    ")\n",
    "validation_generator = validation_datagen.flow_from_directory(\n",
    "    VALIDATION_DIR,\n",
    "    target_size=(150, 150),\n",
    "    batch_size=20,\n",
    "    class_mode='binary'\n",
    ")"
   ]
  },
  {
   "cell_type": "markdown",
   "metadata": {},
   "source": [
    "#### Edit network architecture\n",
    "\n",
    "With data augmentation, we can be sure that the model will not get the same input twice. But, it's also true that we are not properly generating new data but it's just a remix of existing information. It means that certain patterns could be learned multiple times, which could be a factor acting against us trying to get rid of overfitting. To address this problem we will try to add a `Dropout` layer, right before the classifier part."
   ]
  },
  {
   "cell_type": "code",
   "execution_count": 65,
   "metadata": {},
   "outputs": [
    {
     "name": "stdout",
     "output_type": "stream",
     "text": [
      "Model: \"sequential_9\"\n",
      "_________________________________________________________________\n",
      "Layer (type)                 Output Shape              Param #   \n",
      "=================================================================\n",
      "conv2d_36 (Conv2D)           (None, 148, 148, 32)      896       \n",
      "_________________________________________________________________\n",
      "max_pooling2d_36 (MaxPooling (None, 74, 74, 32)        0         \n",
      "_________________________________________________________________\n",
      "conv2d_37 (Conv2D)           (None, 72, 72, 64)        18496     \n",
      "_________________________________________________________________\n",
      "max_pooling2d_37 (MaxPooling (None, 36, 36, 64)        0         \n",
      "_________________________________________________________________\n",
      "conv2d_38 (Conv2D)           (None, 34, 34, 128)       73856     \n",
      "_________________________________________________________________\n",
      "max_pooling2d_38 (MaxPooling (None, 17, 17, 128)       0         \n",
      "_________________________________________________________________\n",
      "conv2d_39 (Conv2D)           (None, 15, 15, 128)       147584    \n",
      "_________________________________________________________________\n",
      "max_pooling2d_39 (MaxPooling (None, 7, 7, 128)         0         \n",
      "_________________________________________________________________\n",
      "flatten_9 (Flatten)          (None, 6272)              0         \n",
      "_________________________________________________________________\n",
      "dropout_8 (Dropout)          (None, 6272)              0         \n",
      "_________________________________________________________________\n",
      "dense_18 (Dense)             (None, 512)               3211776   \n",
      "_________________________________________________________________\n",
      "dense_19 (Dense)             (None, 1)                 513       \n",
      "=================================================================\n",
      "Total params: 3,453,121\n",
      "Trainable params: 3,453,121\n",
      "Non-trainable params: 0\n",
      "_________________________________________________________________\n"
     ]
    }
   ],
   "source": [
    "model = models.Sequential()\n",
    "model.add(layers.Conv2D(32, (3, 3), activation='relu', input_shape=(150, 150, 3)))\n",
    "model.add(layers.MaxPooling2D((2, 2)))\n",
    "model.add(layers.Conv2D(64, (3, 3), activation='relu'))\n",
    "model.add(layers.MaxPooling2D((2, 2)))\n",
    "model.add(layers.Conv2D(128, (3, 3), activation='relu'))\n",
    "model.add(layers.MaxPooling2D((2, 2)))\n",
    "model.add(layers.Conv2D(128, (3, 3), activation='relu'))\n",
    "model.add(layers.MaxPooling2D((2, 2)))\n",
    "model.add(layers.Flatten())\n",
    "model.add(layers.Dropout(0.5))\n",
    "model.add(layers.Dense(512, activation='relu'))\n",
    "model.add(layers.Dense(1, activation='sigmoid'))\n",
    "\n",
    "model.summary()"
   ]
  },
  {
   "cell_type": "code",
   "execution_count": 66,
   "metadata": {},
   "outputs": [],
   "source": [
    "model.compile(\n",
    "    optimizer=optimizers.RMSprop(lr=1e-4),\n",
    "    loss='binary_crossentropy',\n",
    "    metrics=['accuracy']\n",
    ")"
   ]
  },
  {
   "cell_type": "markdown",
   "metadata": {},
   "source": [
    "#### Train the new model"
   ]
  },
  {
   "cell_type": "code",
   "execution_count": 67,
   "metadata": {},
   "outputs": [
    {
     "name": "stdout",
     "output_type": "stream",
     "text": [
      "WARNING:tensorflow:sample_weight modes were coerced from\n",
      "  ...\n",
      "    to  \n",
      "  ['...']\n",
      "WARNING:tensorflow:sample_weight modes were coerced from\n",
      "  ...\n",
      "    to  \n",
      "  ['...']\n",
      "Train for 100 steps, validate for 50 steps\n",
      "Epoch 1/150\n",
      "100/100 [==============================] - 36s 359ms/step - loss: 0.6931 - accuracy: 0.5155 - val_loss: 0.6824 - val_accuracy: 0.5920\n",
      "Epoch 2/150\n",
      "100/100 [==============================] - 37s 372ms/step - loss: 0.6826 - accuracy: 0.5480 - val_loss: 0.7154 - val_accuracy: 0.5040\n",
      "Epoch 3/150\n",
      "100/100 [==============================] - 39s 386ms/step - loss: 0.6751 - accuracy: 0.5665 - val_loss: 0.6550 - val_accuracy: 0.5980\n",
      "Epoch 4/150\n",
      "100/100 [==============================] - 38s 379ms/step - loss: 0.6627 - accuracy: 0.5885 - val_loss: 0.6462 - val_accuracy: 0.6110\n",
      "Epoch 5/150\n",
      "100/100 [==============================] - 38s 382ms/step - loss: 0.6386 - accuracy: 0.6305 - val_loss: 0.6212 - val_accuracy: 0.6490\n",
      "Epoch 6/150\n",
      "100/100 [==============================] - 38s 383ms/step - loss: 0.6329 - accuracy: 0.6400 - val_loss: 0.6578 - val_accuracy: 0.5880\n",
      "Epoch 7/150\n",
      "100/100 [==============================] - 37s 373ms/step - loss: 0.6236 - accuracy: 0.6405 - val_loss: 0.6012 - val_accuracy: 0.6710\n",
      "Epoch 8/150\n",
      "100/100 [==============================] - 37s 370ms/step - loss: 0.6105 - accuracy: 0.6730 - val_loss: 0.5829 - val_accuracy: 0.6760\n",
      "Epoch 9/150\n",
      "100/100 [==============================] - 37s 371ms/step - loss: 0.5976 - accuracy: 0.6830 - val_loss: 0.5886 - val_accuracy: 0.6670\n",
      "Epoch 10/150\n",
      "100/100 [==============================] - 37s 370ms/step - loss: 0.5988 - accuracy: 0.6720 - val_loss: 0.5817 - val_accuracy: 0.6760\n",
      "Epoch 11/150\n",
      "100/100 [==============================] - 37s 370ms/step - loss: 0.5932 - accuracy: 0.6815 - val_loss: 0.5870 - val_accuracy: 0.6830\n",
      "Epoch 12/150\n",
      "100/100 [==============================] - 37s 374ms/step - loss: 0.5868 - accuracy: 0.6880 - val_loss: 0.5607 - val_accuracy: 0.7070\n",
      "Epoch 13/150\n",
      "100/100 [==============================] - 38s 379ms/step - loss: 0.5645 - accuracy: 0.7110 - val_loss: 0.6473 - val_accuracy: 0.6640\n",
      "Epoch 14/150\n",
      "100/100 [==============================] - 38s 375ms/step - loss: 0.5890 - accuracy: 0.6855 - val_loss: 0.5432 - val_accuracy: 0.7130\n",
      "Epoch 15/150\n",
      "100/100 [==============================] - 38s 379ms/step - loss: 0.5665 - accuracy: 0.7120 - val_loss: 0.6298 - val_accuracy: 0.6670\n",
      "Epoch 16/150\n",
      "100/100 [==============================] - 38s 376ms/step - loss: 0.5565 - accuracy: 0.7155 - val_loss: 0.5793 - val_accuracy: 0.7060\n",
      "Epoch 17/150\n",
      "100/100 [==============================] - 38s 380ms/step - loss: 0.5501 - accuracy: 0.7080 - val_loss: 0.5718 - val_accuracy: 0.7090\n",
      "Epoch 18/150\n",
      "100/100 [==============================] - 38s 378ms/step - loss: 0.5587 - accuracy: 0.7170 - val_loss: 0.5418 - val_accuracy: 0.7240\n",
      "Epoch 19/150\n",
      "100/100 [==============================] - 38s 375ms/step - loss: 0.5424 - accuracy: 0.7335 - val_loss: 0.5762 - val_accuracy: 0.7010\n",
      "Epoch 20/150\n",
      "100/100 [==============================] - 38s 378ms/step - loss: 0.5509 - accuracy: 0.7175 - val_loss: 0.5586 - val_accuracy: 0.7130\n",
      "Epoch 21/150\n",
      "100/100 [==============================] - 38s 376ms/step - loss: 0.5493 - accuracy: 0.7175 - val_loss: 0.6256 - val_accuracy: 0.6690\n",
      "Epoch 22/150\n",
      "100/100 [==============================] - 38s 378ms/step - loss: 0.5476 - accuracy: 0.7080 - val_loss: 0.5752 - val_accuracy: 0.7090\n",
      "Epoch 23/150\n",
      "100/100 [==============================] - 38s 384ms/step - loss: 0.5383 - accuracy: 0.7240 - val_loss: 0.5045 - val_accuracy: 0.7520\n",
      "Epoch 24/150\n",
      "100/100 [==============================] - 39s 386ms/step - loss: 0.5367 - accuracy: 0.7280 - val_loss: 0.5367 - val_accuracy: 0.7170\n",
      "Epoch 25/150\n",
      "100/100 [==============================] - 38s 377ms/step - loss: 0.5309 - accuracy: 0.7345 - val_loss: 0.5521 - val_accuracy: 0.7190\n",
      "Epoch 26/150\n",
      "100/100 [==============================] - 38s 380ms/step - loss: 0.5213 - accuracy: 0.7330 - val_loss: 0.5746 - val_accuracy: 0.7300\n",
      "Epoch 27/150\n",
      "100/100 [==============================] - 38s 378ms/step - loss: 0.5262 - accuracy: 0.7245 - val_loss: 0.5081 - val_accuracy: 0.7350\n",
      "Epoch 28/150\n",
      "100/100 [==============================] - 38s 377ms/step - loss: 0.5196 - accuracy: 0.7415 - val_loss: 0.5143 - val_accuracy: 0.7430\n",
      "Epoch 29/150\n",
      "100/100 [==============================] - 38s 377ms/step - loss: 0.5087 - accuracy: 0.7430 - val_loss: 0.4881 - val_accuracy: 0.7520\n",
      "Epoch 30/150\n",
      "100/100 [==============================] - 38s 378ms/step - loss: 0.5201 - accuracy: 0.7505 - val_loss: 0.5411 - val_accuracy: 0.7140\n",
      "Epoch 31/150\n",
      "100/100 [==============================] - 38s 379ms/step - loss: 0.5095 - accuracy: 0.7475 - val_loss: 0.5112 - val_accuracy: 0.7360\n",
      "Epoch 32/150\n",
      "100/100 [==============================] - 38s 380ms/step - loss: 0.5083 - accuracy: 0.7520 - val_loss: 0.4831 - val_accuracy: 0.7550\n",
      "Epoch 33/150\n",
      "100/100 [==============================] - 38s 380ms/step - loss: 0.5010 - accuracy: 0.7525 - val_loss: 0.4929 - val_accuracy: 0.7480\n",
      "Epoch 34/150\n",
      "100/100 [==============================] - 38s 379ms/step - loss: 0.5111 - accuracy: 0.7440 - val_loss: 0.5063 - val_accuracy: 0.7420\n",
      "Epoch 35/150\n",
      "100/100 [==============================] - 38s 381ms/step - loss: 0.5114 - accuracy: 0.7445 - val_loss: 0.5067 - val_accuracy: 0.7520\n",
      "Epoch 36/150\n",
      "100/100 [==============================] - 38s 378ms/step - loss: 0.4984 - accuracy: 0.7565 - val_loss: 0.4679 - val_accuracy: 0.7690\n",
      "Epoch 37/150\n",
      "100/100 [==============================] - 38s 379ms/step - loss: 0.4930 - accuracy: 0.7595 - val_loss: 0.5453 - val_accuracy: 0.7150\n",
      "Epoch 38/150\n",
      "100/100 [==============================] - 38s 378ms/step - loss: 0.5034 - accuracy: 0.7555 - val_loss: 0.5377 - val_accuracy: 0.7190\n",
      "Epoch 39/150\n",
      "100/100 [==============================] - 38s 380ms/step - loss: 0.5069 - accuracy: 0.7505 - val_loss: 0.4948 - val_accuracy: 0.7620\n",
      "Epoch 40/150\n",
      "100/100 [==============================] - 38s 378ms/step - loss: 0.4834 - accuracy: 0.7785 - val_loss: 0.4831 - val_accuracy: 0.7560\n",
      "Epoch 41/150\n",
      "100/100 [==============================] - 38s 377ms/step - loss: 0.4861 - accuracy: 0.7685 - val_loss: 0.4925 - val_accuracy: 0.7430\n",
      "Epoch 42/150\n",
      "100/100 [==============================] - 38s 380ms/step - loss: 0.4951 - accuracy: 0.7555 - val_loss: 0.5357 - val_accuracy: 0.7310\n",
      "Epoch 43/150\n",
      "100/100 [==============================] - 38s 378ms/step - loss: 0.4849 - accuracy: 0.7720 - val_loss: 0.4942 - val_accuracy: 0.7590\n",
      "Epoch 44/150\n",
      "100/100 [==============================] - 38s 385ms/step - loss: 0.4781 - accuracy: 0.7745 - val_loss: 0.4627 - val_accuracy: 0.7830\n",
      "Epoch 45/150\n",
      "100/100 [==============================] - 39s 386ms/step - loss: 0.4773 - accuracy: 0.7745 - val_loss: 0.5270 - val_accuracy: 0.7450\n",
      "Epoch 46/150\n",
      "100/100 [==============================] - 38s 380ms/step - loss: 0.4783 - accuracy: 0.7735 - val_loss: 0.4803 - val_accuracy: 0.7740\n",
      "Epoch 47/150\n",
      "100/100 [==============================] - 38s 382ms/step - loss: 0.4703 - accuracy: 0.7820 - val_loss: 0.4983 - val_accuracy: 0.7530\n",
      "Epoch 48/150\n",
      "100/100 [==============================] - 38s 378ms/step - loss: 0.4741 - accuracy: 0.7820 - val_loss: 0.4978 - val_accuracy: 0.7540\n",
      "Epoch 49/150\n",
      "100/100 [==============================] - 38s 379ms/step - loss: 0.4602 - accuracy: 0.7755 - val_loss: 0.5656 - val_accuracy: 0.7330\n",
      "Epoch 50/150\n",
      "100/100 [==============================] - 38s 380ms/step - loss: 0.4637 - accuracy: 0.7720 - val_loss: 0.4838 - val_accuracy: 0.7710\n",
      "Epoch 51/150\n",
      "100/100 [==============================] - 38s 379ms/step - loss: 0.4613 - accuracy: 0.7810 - val_loss: 0.4771 - val_accuracy: 0.7760\n",
      "Epoch 52/150\n",
      "100/100 [==============================] - 38s 383ms/step - loss: 0.4550 - accuracy: 0.7920 - val_loss: 0.5285 - val_accuracy: 0.7540\n",
      "Epoch 53/150\n",
      "100/100 [==============================] - 40s 398ms/step - loss: 0.4513 - accuracy: 0.7845 - val_loss: 0.4475 - val_accuracy: 0.7950\n",
      "Epoch 54/150\n",
      "100/100 [==============================] - 37s 375ms/step - loss: 0.4484 - accuracy: 0.7855 - val_loss: 0.4783 - val_accuracy: 0.7680\n",
      "Epoch 55/150\n"
     ]
    },
    {
     "name": "stdout",
     "output_type": "stream",
     "text": [
      "100/100 [==============================] - 38s 376ms/step - loss: 0.4606 - accuracy: 0.7870 - val_loss: 0.4665 - val_accuracy: 0.7860\n",
      "Epoch 56/150\n",
      "100/100 [==============================] - 38s 376ms/step - loss: 0.4503 - accuracy: 0.7895 - val_loss: 0.5632 - val_accuracy: 0.7290\n",
      "Epoch 57/150\n",
      "100/100 [==============================] - 37s 375ms/step - loss: 0.4532 - accuracy: 0.7800 - val_loss: 0.5956 - val_accuracy: 0.7230\n",
      "Epoch 58/150\n",
      "100/100 [==============================] - 37s 374ms/step - loss: 0.4577 - accuracy: 0.7845 - val_loss: 0.5802 - val_accuracy: 0.7130\n",
      "Epoch 59/150\n",
      "100/100 [==============================] - 37s 373ms/step - loss: 0.4481 - accuracy: 0.7795 - val_loss: 0.4534 - val_accuracy: 0.7880\n",
      "Epoch 60/150\n",
      "100/100 [==============================] - 37s 373ms/step - loss: 0.4352 - accuracy: 0.7965 - val_loss: 0.4802 - val_accuracy: 0.7840\n",
      "Epoch 61/150\n",
      "100/100 [==============================] - 37s 374ms/step - loss: 0.4532 - accuracy: 0.7945 - val_loss: 0.4231 - val_accuracy: 0.8010\n",
      "Epoch 62/150\n",
      "100/100 [==============================] - 37s 372ms/step - loss: 0.4455 - accuracy: 0.7845 - val_loss: 0.4328 - val_accuracy: 0.7930\n",
      "Epoch 63/150\n",
      "100/100 [==============================] - 37s 375ms/step - loss: 0.4330 - accuracy: 0.7985 - val_loss: 0.4541 - val_accuracy: 0.7880\n",
      "Epoch 64/150\n",
      "100/100 [==============================] - 37s 374ms/step - loss: 0.4502 - accuracy: 0.7885 - val_loss: 0.4595 - val_accuracy: 0.7760\n",
      "Epoch 65/150\n",
      "100/100 [==============================] - 38s 375ms/step - loss: 0.4464 - accuracy: 0.7880 - val_loss: 0.4670 - val_accuracy: 0.7910\n",
      "Epoch 66/150\n",
      "100/100 [==============================] - 38s 375ms/step - loss: 0.4422 - accuracy: 0.7915 - val_loss: 0.4480 - val_accuracy: 0.7840\n",
      "Epoch 67/150\n",
      "100/100 [==============================] - 37s 373ms/step - loss: 0.4322 - accuracy: 0.8090 - val_loss: 0.4685 - val_accuracy: 0.7880\n",
      "Epoch 68/150\n",
      "100/100 [==============================] - 37s 374ms/step - loss: 0.4086 - accuracy: 0.8070 - val_loss: 0.4365 - val_accuracy: 0.7970\n",
      "Epoch 69/150\n",
      "100/100 [==============================] - 37s 375ms/step - loss: 0.4414 - accuracy: 0.7905 - val_loss: 0.4630 - val_accuracy: 0.7810\n",
      "Epoch 70/150\n",
      "100/100 [==============================] - 38s 376ms/step - loss: 0.4177 - accuracy: 0.8175 - val_loss: 0.4655 - val_accuracy: 0.7990\n",
      "Epoch 71/150\n",
      "100/100 [==============================] - 38s 384ms/step - loss: 0.4405 - accuracy: 0.7980 - val_loss: 0.4597 - val_accuracy: 0.8040\n",
      "Epoch 72/150\n",
      "100/100 [==============================] - 37s 373ms/step - loss: 0.4251 - accuracy: 0.8075 - val_loss: 0.4824 - val_accuracy: 0.7790\n",
      "Epoch 73/150\n",
      "100/100 [==============================] - 37s 375ms/step - loss: 0.4096 - accuracy: 0.8135 - val_loss: 0.4751 - val_accuracy: 0.7820\n",
      "Epoch 74/150\n",
      "100/100 [==============================] - 37s 374ms/step - loss: 0.4266 - accuracy: 0.8030 - val_loss: 0.4695 - val_accuracy: 0.7920\n",
      "Epoch 75/150\n",
      "100/100 [==============================] - 37s 373ms/step - loss: 0.4197 - accuracy: 0.8065 - val_loss: 0.4770 - val_accuracy: 0.7870\n",
      "Epoch 76/150\n",
      "100/100 [==============================] - 37s 373ms/step - loss: 0.4178 - accuracy: 0.8085 - val_loss: 0.4967 - val_accuracy: 0.7740\n",
      "Epoch 77/150\n",
      "100/100 [==============================] - 37s 373ms/step - loss: 0.4372 - accuracy: 0.7940 - val_loss: 0.4147 - val_accuracy: 0.8130\n",
      "Epoch 78/150\n",
      "100/100 [==============================] - 38s 376ms/step - loss: 0.4212 - accuracy: 0.8070 - val_loss: 0.4262 - val_accuracy: 0.8070\n",
      "Epoch 79/150\n",
      "100/100 [==============================] - 37s 374ms/step - loss: 0.4142 - accuracy: 0.8150 - val_loss: 0.4631 - val_accuracy: 0.8070\n",
      "Epoch 80/150\n",
      "100/100 [==============================] - 38s 377ms/step - loss: 0.4142 - accuracy: 0.8105 - val_loss: 0.5030 - val_accuracy: 0.7610\n",
      "Epoch 81/150\n",
      "100/100 [==============================] - 37s 375ms/step - loss: 0.4025 - accuracy: 0.8135 - val_loss: 0.4499 - val_accuracy: 0.7930\n",
      "Epoch 82/150\n",
      "100/100 [==============================] - 38s 382ms/step - loss: 0.4107 - accuracy: 0.8120 - val_loss: 0.4846 - val_accuracy: 0.8050\n",
      "Epoch 83/150\n",
      "100/100 [==============================] - 39s 394ms/step - loss: 0.4117 - accuracy: 0.8145 - val_loss: 0.4527 - val_accuracy: 0.7970\n",
      "Epoch 84/150\n",
      "100/100 [==============================] - 38s 381ms/step - loss: 0.4115 - accuracy: 0.8140 - val_loss: 0.4504 - val_accuracy: 0.8030\n",
      "Epoch 85/150\n",
      "100/100 [==============================] - 38s 380ms/step - loss: 0.4071 - accuracy: 0.8070 - val_loss: 0.4918 - val_accuracy: 0.7920\n",
      "Epoch 86/150\n",
      "100/100 [==============================] - 38s 381ms/step - loss: 0.4037 - accuracy: 0.8235 - val_loss: 0.4701 - val_accuracy: 0.7920\n",
      "Epoch 87/150\n",
      "100/100 [==============================] - 38s 382ms/step - loss: 0.4059 - accuracy: 0.8115 - val_loss: 0.4513 - val_accuracy: 0.8060\n",
      "Epoch 88/150\n",
      "100/100 [==============================] - 38s 380ms/step - loss: 0.3921 - accuracy: 0.8215 - val_loss: 0.4287 - val_accuracy: 0.7890\n",
      "Epoch 89/150\n",
      "100/100 [==============================] - 38s 380ms/step - loss: 0.4051 - accuracy: 0.8050 - val_loss: 0.4391 - val_accuracy: 0.8050\n",
      "Epoch 90/150\n",
      "100/100 [==============================] - 38s 382ms/step - loss: 0.4100 - accuracy: 0.8120 - val_loss: 0.4769 - val_accuracy: 0.7910\n",
      "Epoch 91/150\n",
      "100/100 [==============================] - 38s 380ms/step - loss: 0.3993 - accuracy: 0.8155 - val_loss: 0.4060 - val_accuracy: 0.8220\n",
      "Epoch 92/150\n",
      "100/100 [==============================] - 38s 381ms/step - loss: 0.3914 - accuracy: 0.8205 - val_loss: 0.4286 - val_accuracy: 0.8150\n",
      "Epoch 93/150\n",
      "100/100 [==============================] - 38s 380ms/step - loss: 0.3901 - accuracy: 0.8215 - val_loss: 0.5285 - val_accuracy: 0.7570\n",
      "Epoch 94/150\n",
      "100/100 [==============================] - 38s 384ms/step - loss: 0.3947 - accuracy: 0.8310 - val_loss: 0.4506 - val_accuracy: 0.8020\n",
      "Epoch 95/150\n",
      "100/100 [==============================] - 38s 380ms/step - loss: 0.3948 - accuracy: 0.8165 - val_loss: 0.4315 - val_accuracy: 0.8060\n",
      "Epoch 96/150\n",
      "100/100 [==============================] - 38s 383ms/step - loss: 0.3854 - accuracy: 0.8230 - val_loss: 0.4194 - val_accuracy: 0.8310\n",
      "Epoch 97/150\n",
      "100/100 [==============================] - 39s 386ms/step - loss: 0.3652 - accuracy: 0.8285 - val_loss: 0.4293 - val_accuracy: 0.8220\n",
      "Epoch 98/150\n",
      "100/100 [==============================] - 38s 377ms/step - loss: 0.3731 - accuracy: 0.8395 - val_loss: 0.4368 - val_accuracy: 0.8280\n",
      "Epoch 99/150\n",
      "100/100 [==============================] - 38s 378ms/step - loss: 0.3766 - accuracy: 0.8345 - val_loss: 0.4071 - val_accuracy: 0.8290\n",
      "Epoch 100/150\n",
      "100/100 [==============================] - 38s 379ms/step - loss: 0.3752 - accuracy: 0.8275 - val_loss: 0.4023 - val_accuracy: 0.8310\n",
      "Epoch 101/150\n",
      "100/100 [==============================] - 38s 378ms/step - loss: 0.3813 - accuracy: 0.8260 - val_loss: 0.3967 - val_accuracy: 0.8320\n",
      "Epoch 102/150\n",
      "100/100 [==============================] - 38s 378ms/step - loss: 0.3939 - accuracy: 0.8130 - val_loss: 0.4838 - val_accuracy: 0.7910\n",
      "Epoch 103/150\n",
      "100/100 [==============================] - 38s 379ms/step - loss: 0.3796 - accuracy: 0.8310 - val_loss: 0.4574 - val_accuracy: 0.8060\n",
      "Epoch 104/150\n",
      "100/100 [==============================] - 38s 379ms/step - loss: 0.3755 - accuracy: 0.8210 - val_loss: 0.4290 - val_accuracy: 0.8140\n",
      "Epoch 105/150\n",
      "100/100 [==============================] - 38s 378ms/step - loss: 0.3706 - accuracy: 0.8340 - val_loss: 0.6272 - val_accuracy: 0.7220\n",
      "Epoch 106/150\n",
      "100/100 [==============================] - 38s 378ms/step - loss: 0.3549 - accuracy: 0.8345 - val_loss: 0.4773 - val_accuracy: 0.7970\n",
      "Epoch 107/150\n",
      "100/100 [==============================] - 38s 377ms/step - loss: 0.3663 - accuracy: 0.8405 - val_loss: 0.4206 - val_accuracy: 0.8280\n",
      "Epoch 108/150\n",
      "100/100 [==============================] - 38s 378ms/step - loss: 0.3769 - accuracy: 0.8365 - val_loss: 0.5162 - val_accuracy: 0.7960\n",
      "Epoch 109/150\n",
      "100/100 [==============================] - 38s 379ms/step - loss: 0.3776 - accuracy: 0.8300 - val_loss: 0.4178 - val_accuracy: 0.8080\n",
      "Epoch 110/150\n",
      "100/100 [==============================] - 38s 380ms/step - loss: 0.3683 - accuracy: 0.8355 - val_loss: 0.5731 - val_accuracy: 0.7710\n"
     ]
    },
    {
     "name": "stdout",
     "output_type": "stream",
     "text": [
      "Epoch 111/150\n",
      "100/100 [==============================] - 38s 380ms/step - loss: 0.3706 - accuracy: 0.8375 - val_loss: 0.4074 - val_accuracy: 0.8220\n",
      "Epoch 112/150\n",
      "100/100 [==============================] - 38s 384ms/step - loss: 0.3640 - accuracy: 0.8375 - val_loss: 0.4811 - val_accuracy: 0.7950\n",
      "Epoch 113/150\n",
      "100/100 [==============================] - 41s 406ms/step - loss: 0.3618 - accuracy: 0.8360 - val_loss: 0.4291 - val_accuracy: 0.8070\n",
      "Epoch 114/150\n",
      "100/100 [==============================] - 39s 387ms/step - loss: 0.3565 - accuracy: 0.8425 - val_loss: 0.4522 - val_accuracy: 0.8050\n",
      "Epoch 115/150\n",
      "100/100 [==============================] - 39s 385ms/step - loss: 0.3616 - accuracy: 0.8395 - val_loss: 0.4339 - val_accuracy: 0.8280\n",
      "Epoch 116/150\n",
      "100/100 [==============================] - 39s 388ms/step - loss: 0.3515 - accuracy: 0.8430 - val_loss: 0.4497 - val_accuracy: 0.8030\n",
      "Epoch 117/150\n",
      "100/100 [==============================] - 39s 391ms/step - loss: 0.3563 - accuracy: 0.8470 - val_loss: 0.4704 - val_accuracy: 0.7960\n",
      "Epoch 118/150\n",
      "100/100 [==============================] - 39s 387ms/step - loss: 0.3547 - accuracy: 0.8465 - val_loss: 0.4623 - val_accuracy: 0.7750\n",
      "Epoch 119/150\n",
      "100/100 [==============================] - 39s 392ms/step - loss: 0.3535 - accuracy: 0.8460 - val_loss: 0.4205 - val_accuracy: 0.8120\n",
      "Epoch 120/150\n",
      "100/100 [==============================] - 39s 390ms/step - loss: 0.3612 - accuracy: 0.8370 - val_loss: 0.4045 - val_accuracy: 0.8230\n",
      "Epoch 121/150\n",
      "100/100 [==============================] - 39s 390ms/step - loss: 0.3525 - accuracy: 0.8455 - val_loss: 0.4483 - val_accuracy: 0.8250\n",
      "Epoch 122/150\n",
      "100/100 [==============================] - 39s 390ms/step - loss: 0.3501 - accuracy: 0.8395 - val_loss: 0.4559 - val_accuracy: 0.8170\n",
      "Epoch 123/150\n",
      "100/100 [==============================] - 39s 389ms/step - loss: 0.3714 - accuracy: 0.8325 - val_loss: 0.5357 - val_accuracy: 0.7740\n",
      "Epoch 124/150\n",
      "100/100 [==============================] - 40s 399ms/step - loss: 0.3553 - accuracy: 0.8370 - val_loss: 0.4932 - val_accuracy: 0.8160\n",
      "Epoch 125/150\n",
      "100/100 [==============================] - 39s 390ms/step - loss: 0.3478 - accuracy: 0.8465 - val_loss: 0.4419 - val_accuracy: 0.8220\n",
      "Epoch 126/150\n",
      "100/100 [==============================] - 39s 389ms/step - loss: 0.3679 - accuracy: 0.8385 - val_loss: 0.5079 - val_accuracy: 0.8020\n",
      "Epoch 127/150\n",
      "100/100 [==============================] - 39s 386ms/step - loss: 0.3499 - accuracy: 0.8475 - val_loss: 0.6383 - val_accuracy: 0.7310\n",
      "Epoch 128/150\n",
      "100/100 [==============================] - 39s 385ms/step - loss: 0.3586 - accuracy: 0.8390 - val_loss: 0.3873 - val_accuracy: 0.8430\n",
      "Epoch 129/150\n",
      "100/100 [==============================] - 38s 384ms/step - loss: 0.3451 - accuracy: 0.8530 - val_loss: 0.5152 - val_accuracy: 0.7630\n",
      "Epoch 130/150\n",
      "100/100 [==============================] - 39s 386ms/step - loss: 0.3541 - accuracy: 0.8440 - val_loss: 0.4574 - val_accuracy: 0.8190\n",
      "Epoch 131/150\n",
      "100/100 [==============================] - 38s 384ms/step - loss: 0.3581 - accuracy: 0.8415 - val_loss: 0.3992 - val_accuracy: 0.8300\n",
      "Epoch 132/150\n",
      "100/100 [==============================] - 38s 384ms/step - loss: 0.3414 - accuracy: 0.8565 - val_loss: 0.4462 - val_accuracy: 0.8180\n",
      "Epoch 133/150\n",
      "100/100 [==============================] - 39s 385ms/step - loss: 0.3316 - accuracy: 0.8570 - val_loss: 0.5027 - val_accuracy: 0.7810\n",
      "Epoch 134/150\n",
      "100/100 [==============================] - 39s 386ms/step - loss: 0.3338 - accuracy: 0.8540 - val_loss: 0.5618 - val_accuracy: 0.7800\n",
      "Epoch 135/150\n",
      "100/100 [==============================] - 38s 384ms/step - loss: 0.3247 - accuracy: 0.8610 - val_loss: 0.4027 - val_accuracy: 0.8420\n",
      "Epoch 136/150\n",
      "100/100 [==============================] - 38s 383ms/step - loss: 0.3370 - accuracy: 0.8575 - val_loss: 0.5262 - val_accuracy: 0.7990\n",
      "Epoch 137/150\n",
      "100/100 [==============================] - 38s 383ms/step - loss: 0.3647 - accuracy: 0.8360 - val_loss: 0.3924 - val_accuracy: 0.8490\n",
      "Epoch 138/150\n",
      "100/100 [==============================] - 38s 382ms/step - loss: 0.3294 - accuracy: 0.8640 - val_loss: 0.4235 - val_accuracy: 0.8230\n",
      "Epoch 139/150\n",
      "100/100 [==============================] - 38s 384ms/step - loss: 0.3215 - accuracy: 0.8645 - val_loss: 0.4975 - val_accuracy: 0.8050\n",
      "Epoch 140/150\n",
      "100/100 [==============================] - 40s 401ms/step - loss: 0.3516 - accuracy: 0.8455 - val_loss: 0.3987 - val_accuracy: 0.8410\n",
      "Epoch 141/150\n",
      "100/100 [==============================] - 39s 390ms/step - loss: 0.3300 - accuracy: 0.8535 - val_loss: 0.4125 - val_accuracy: 0.8440\n",
      "Epoch 142/150\n",
      "100/100 [==============================] - 38s 385ms/step - loss: 0.3253 - accuracy: 0.8620 - val_loss: 0.3993 - val_accuracy: 0.8420\n",
      "Epoch 143/150\n",
      "100/100 [==============================] - 38s 385ms/step - loss: 0.3441 - accuracy: 0.8510 - val_loss: 0.3853 - val_accuracy: 0.8360\n",
      "Epoch 144/150\n",
      "100/100 [==============================] - 38s 384ms/step - loss: 0.3144 - accuracy: 0.8595 - val_loss: 0.4224 - val_accuracy: 0.8400\n",
      "Epoch 145/150\n",
      "100/100 [==============================] - 38s 385ms/step - loss: 0.3168 - accuracy: 0.8620 - val_loss: 0.4384 - val_accuracy: 0.8230\n",
      "Epoch 146/150\n",
      "100/100 [==============================] - 39s 386ms/step - loss: 0.3269 - accuracy: 0.8525 - val_loss: 0.4563 - val_accuracy: 0.8100\n",
      "Epoch 147/150\n",
      "100/100 [==============================] - 38s 383ms/step - loss: 0.3199 - accuracy: 0.8635 - val_loss: 0.3776 - val_accuracy: 0.8390\n",
      "Epoch 148/150\n",
      "100/100 [==============================] - 43s 434ms/step - loss: 0.3264 - accuracy: 0.8550 - val_loss: 0.3928 - val_accuracy: 0.8290\n",
      "Epoch 149/150\n",
      "100/100 [==============================] - 45s 453ms/step - loss: 0.3169 - accuracy: 0.8580 - val_loss: 0.4352 - val_accuracy: 0.8200\n",
      "Epoch 150/150\n",
      "100/100 [==============================] - 42s 419ms/step - loss: 0.3146 - accuracy: 0.8555 - val_loss: 0.3984 - val_accuracy: 0.8310\n"
     ]
    }
   ],
   "source": [
    "history = model.fit(\n",
    "    train_generator,\n",
    "    steps_per_epoch=100,\n",
    "    epochs=150,\n",
    "    validation_data=validation_generator,\n",
    "    validation_steps=50,\n",
    ")"
   ]
  },
  {
   "cell_type": "markdown",
   "metadata": {},
   "source": [
    "#### Save the new model"
   ]
  },
  {
   "cell_type": "code",
   "execution_count": 68,
   "metadata": {},
   "outputs": [],
   "source": [
    "model.save('models/cats_and_dogs_small_2.h5')"
   ]
  },
  {
   "cell_type": "markdown",
   "metadata": {},
   "source": [
    "## Plot the results (again)\n",
    "\n",
    "Thanks to data augmentation and dropout, we are no longer overfitting. Even though the validation loss has very high variance it follows the trend of the training loss. We are now able to reach an accuracy of 82%, a 15% relative improvement over the non-regularized model.\n",
    "\n",
    "By leveraging regularization techniques even further and by tuning the network's parameters (such as the number of filters per convolution layer, or the number of layers in the network), we may be able to get an even better accuracy, likely up to 86-87%. However, it would prove very difficult to go any higher just by training our own convnet from scratch, simply because we have so little data to work with."
   ]
  },
  {
   "cell_type": "code",
   "execution_count": 69,
   "metadata": {},
   "outputs": [
    {
     "data": {
      "image/png": "[encoded data removed]",
      "text/plain": [
       "<Figure size 432x288 with 1 Axes>"
      ]
     },
     "metadata": {
      "needs_background": "light"
     },
     "output_type": "display_data"
    },
    {
     "data": {
      "image/png": "[encoded data removed]",
      "text/plain": [
       "<Figure size 432x288 with 1 Axes>"
      ]
     },
     "metadata": {
      "needs_background": "light"
     },
     "output_type": "display_data"
    }
   ],
   "source": [
    "acc = history.history['accuracy']\n",
    "val_acc = history.history['val_accuracy']\n",
    "loss = history.history['loss']\n",
    "val_loss = history.history['val_loss']\n",
    "\n",
    "epochs = range(len(acc))\n",
    "\n",
    "plt.plot(epochs, acc, 'bo', label='Training acc')\n",
    "plt.plot(epochs, val_acc, 'b', label='Validation acc')\n",
    "plt.title('Training and validation accuracy')\n",
    "plt.legend()\n",
    "\n",
    "plt.figure()\n",
    "\n",
    "plt.plot(epochs, loss, 'bo', label='Training loss')\n",
    "plt.plot(epochs, val_loss, 'b', label='Validation loss')\n",
    "plt.title('Training and validation loss')\n",
    "plt.legend()\n",
    "\n",
    "plt.show()"
   ]
  },
  {
   "cell_type": "code",
   "execution_count": null,
   "metadata": {},
   "outputs": [],
   "source": []
  }
 ],
 "metadata": {
  "kernelspec": {
   "display_name": "Python 3",
   "language": "python",
   "name": "python3"
  },
  "language_info": {
   "codemirror_mode": {
    "name": "ipython",
    "version": 3
   },
   "file_extension": ".py",
   "mimetype": "text/x-python",
   "name": "python",
   "nbconvert_exporter": "python",
   "pygments_lexer": "ipython3",
   "version": "3.6.10"
  }
 },
 "nbformat": 4,
 "nbformat_minor": 4
}
