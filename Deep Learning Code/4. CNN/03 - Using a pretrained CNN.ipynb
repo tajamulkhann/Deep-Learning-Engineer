{
 "cells": [
  {
   "cell_type": "markdown",
   "metadata": {},
   "source": [
    "# Using a pretrained CNN\n",
    "\n",
    "A common and highly effective approach to deep learning on small image datasets is to leverage a pre-trained network. A pre-trained network is simply a saved network previously trained on a large dataset, typically on a large-scale image classification task.\n",
    "\n",
    "There are two ways to use a pretrained network: _feature extraction_ and _fine-tuning_."
   ]
  },
  {
   "cell_type": "markdown",
   "metadata": {},
   "source": [
    "## Feature extraction\n",
    "\n",
    "Feature extraction consists of using the representations learned by a previous network to extract interesting features from new samples. These features are then run through a new classifier, trained from scratch.\n",
    "\n",
    "Even if it's not the state-of-the-art, and is also quite cumbersome, `VGG16` is a good example because it has a structure similar to the CNN built in the previous exercises."
   ]
  },
  {
   "cell_type": "code",
   "execution_count": 3,
   "metadata": {},
   "outputs": [],
   "source": [
    "from tensorflow.keras.applications import VGG16"
   ]
  },
  {
   "cell_type": "markdown",
   "metadata": {},
   "source": [
    "#### Define convolutional base"
   ]
  },
  {
   "cell_type": "code",
   "execution_count": 4,
   "metadata": {},
   "outputs": [
    {
     "name": "stdout",
     "output_type": "stream",
     "text": [
      "Downloading data from https://github.com/fchollet/deep-learning-models/releases/download/v0.1/vgg16_weights_tf_dim_ordering_tf_kernels_notop.h5\n",
      "58892288/58889256 [==============================] - 5s 0us/step\n",
      "Model: \"vgg16\"\n",
      "_________________________________________________________________\n",
      "Layer (type)                 Output Shape              Param #   \n",
      "=================================================================\n",
      "input_2 (InputLayer)         [(None, 150, 150, 3)]     0         \n",
      "_________________________________________________________________\n",
      "block1_conv1 (Conv2D)        (None, 150, 150, 64)      1792      \n",
      "_________________________________________________________________\n",
      "block1_conv2 (Conv2D)        (None, 150, 150, 64)      36928     \n",
      "_________________________________________________________________\n",
      "block1_pool (MaxPooling2D)   (None, 75, 75, 64)        0         \n",
      "_________________________________________________________________\n",
      "block2_conv1 (Conv2D)        (None, 75, 75, 128)       73856     \n",
      "_________________________________________________________________\n",
      "block2_conv2 (Conv2D)        (None, 75, 75, 128)       147584    \n",
      "_________________________________________________________________\n",
      "block2_pool (MaxPooling2D)   (None, 37, 37, 128)       0         \n",
      "_________________________________________________________________\n",
      "block3_conv1 (Conv2D)        (None, 37, 37, 256)       295168    \n",
      "_________________________________________________________________\n",
      "block3_conv2 (Conv2D)        (None, 37, 37, 256)       590080    \n",
      "_________________________________________________________________\n",
      "block3_conv3 (Conv2D)        (None, 37, 37, 256)       590080    \n",
      "_________________________________________________________________\n",
      "block3_pool (MaxPooling2D)   (None, 18, 18, 256)       0         \n",
      "_________________________________________________________________\n",
      "block4_conv1 (Conv2D)        (None, 18, 18, 512)       1180160   \n",
      "_________________________________________________________________\n",
      "block4_conv2 (Conv2D)        (None, 18, 18, 512)       2359808   \n",
      "_________________________________________________________________\n",
      "block4_conv3 (Conv2D)        (None, 18, 18, 512)       2359808   \n",
      "_________________________________________________________________\n",
      "block4_pool (MaxPooling2D)   (None, 9, 9, 512)         0         \n",
      "_________________________________________________________________\n",
      "block5_conv1 (Conv2D)        (None, 9, 9, 512)         2359808   \n",
      "_________________________________________________________________\n",
      "block5_conv2 (Conv2D)        (None, 9, 9, 512)         2359808   \n",
      "_________________________________________________________________\n",
      "block5_conv3 (Conv2D)        (None, 9, 9, 512)         2359808   \n",
      "_________________________________________________________________\n",
      "block5_pool (MaxPooling2D)   (None, 4, 4, 512)         0         \n",
      "=================================================================\n",
      "Total params: 14,714,688\n",
      "Trainable params: 14,714,688\n",
      "Non-trainable params: 0\n",
      "_________________________________________________________________\n"
     ]
    }
   ],
   "source": [
    "conv_base = VGG16(\n",
    "    weights='imagenet',        # checkpoints from when to initialize the model\n",
    "    include_top=False,         # when True, includes the fully connected classifier network\n",
    "    input_shape=(150, 150, 3)  # shape of the image tensors to feed the network with\n",
    ")\n",
    "conv_base.summary()"
   ]
  },
  {
   "cell_type": "markdown",
   "metadata": {},
   "source": [
    "At this point there are **two alternatives** to perform feature extraction:\n",
    "- Running the convolutional base of the network over the dataset, record the outputs in a Numpy array on disk and then use it to feed a densely connected classifier. Cheap, but impossible to use _data augmentation_\n",
    "- Extending the model by adding `Dense` layers on top and run the whole network end to end on the inpit data. Data augmentation is possible, but the solution is far more expensive than the previous one"
   ]
  },
  {
   "cell_type": "markdown",
   "metadata": {},
   "source": [
    "### Fast feature extraction _without_ data augmentation"
   ]
  },
  {
   "cell_type": "code",
   "execution_count": 5,
   "metadata": {},
   "outputs": [],
   "source": [
    "import os\n",
    "import numpy as np\n",
    "\n",
    "from tensorflow.keras.preprocessing.image import ImageDataGenerator"
   ]
  },
  {
   "cell_type": "code",
   "execution_count": 6,
   "metadata": {},
   "outputs": [],
   "source": [
    "TRAIN_DIR = \"./datasets/cats_and_dogs_small/train\"\n",
    "VALIDATION_DIR = \"./datasets/cats_and_dogs_small/validation\"\n",
    "TEST_DIR = \"./datasets/cats_and_dogs_small/test\"\n",
    "\n",
    "datagen = ImageDataGenerator(rescale=1./255)\n",
    "batch_size=20"
   ]
  },
  {
   "cell_type": "markdown",
   "metadata": {},
   "source": [
    "#### Extract features from convolution base"
   ]
  },
  {
   "cell_type": "code",
   "execution_count": 9,
   "metadata": {},
   "outputs": [
    {
     "name": "stdout",
     "output_type": "stream",
     "text": [
      "Found 2000 images belonging to 2 classes.\n",
      "Found 1000 images belonging to 2 classes.\n",
      "Found 1000 images belonging to 2 classes.\n"
     ]
    }
   ],
   "source": [
    "def extract_features(directory, sample_count):\n",
    "    features = np.zeros(shape=(sample_count, 4, 4, 512)) # shape of the output of the last layer of the conv_base\n",
    "    labels = np.zeros(shape=(sample_count))\n",
    "    generator = datagen.flow_from_directory(\n",
    "        directory,\n",
    "        target_size=(150, 150),\n",
    "        batch_size=batch_size,\n",
    "        class_mode='binary'\n",
    "    )\n",
    "    \n",
    "    i = 0\n",
    "    for inputs_batch, labels_batch in generator:\n",
    "        features_batch = conv_base.predict(inputs_batch)\n",
    "        features[i * batch_size : (i + 1) * batch_size] = features_batch\n",
    "        labels[i * batch_size : (i + 1) * batch_size] = labels_batch\n",
    "        i += 1\n",
    "        if i * batch_size >= sample_count:\n",
    "        # Since generators yield data indefinitely in a loop, we must `break` after every image has been seen once.\n",
    "            break\n",
    "    return features, labels\n",
    "    \n",
    "train_features, train_labels = extract_features(TRAIN_DIR, 2000)\n",
    "validation_features, validation_labels = extract_features(VALIDATION_DIR, 1000)\n",
    "test_features, test_labels = extract_features(TEST_DIR, 1000)"
   ]
  },
  {
   "cell_type": "markdown",
   "metadata": {},
   "source": [
    "At this point we need to flatten the feature array in order to feed the classifier, exactly as a `Flatted` layer would do. Currently, the features have shape (`samples, 4, 4, 512`), so new array will have a shape equal to (`samples, (4 * 4 * 512)`)."
   ]
  },
  {
   "cell_type": "code",
   "execution_count": 11,
   "metadata": {},
   "outputs": [],
   "source": [
    "train_features = np.reshape(train_features, (2000, 4*4*512))\n",
    "validation_features = np.reshape(validation_features, (1000, 4*4*512))\n",
    "test_features = np.reshape(test_features, (1000, 4*4*512))"
   ]
  },
  {
   "cell_type": "markdown",
   "metadata": {},
   "source": [
    "#### Define and train the densely connected classifier\n",
    "\n",
    "The training should be very fast, since we have to do with a small network."
   ]
  },
  {
   "cell_type": "code",
   "execution_count": 12,
   "metadata": {},
   "outputs": [
    {
     "name": "stdout",
     "output_type": "stream",
     "text": [
      "Train on 2000 samples, validate on 1000 samples\n",
      "Epoch 1/30\n",
      "2000/2000 [==============================] - 1s 656us/sample - loss: 0.6067 - accuracy: 0.6615 - val_loss: 0.4451 - val_accuracy: 0.8250\n",
      "Epoch 2/30\n",
      "2000/2000 [==============================] - 1s 471us/sample - loss: 0.4309 - accuracy: 0.7965 - val_loss: 0.3564 - val_accuracy: 0.8670\n",
      "Epoch 3/30\n",
      "2000/2000 [==============================] - 1s 475us/sample - loss: 0.3643 - accuracy: 0.8460 - val_loss: 0.3227 - val_accuracy: 0.8690\n",
      "Epoch 4/30\n",
      "2000/2000 [==============================] - 1s 488us/sample - loss: 0.3081 - accuracy: 0.8730 - val_loss: 0.2936 - val_accuracy: 0.8860\n",
      "Epoch 5/30\n",
      "2000/2000 [==============================] - 1s 498us/sample - loss: 0.2901 - accuracy: 0.8835 - val_loss: 0.2827 - val_accuracy: 0.8890\n",
      "Epoch 6/30\n",
      "2000/2000 [==============================] - 1s 477us/sample - loss: 0.2674 - accuracy: 0.8920 - val_loss: 0.3033 - val_accuracy: 0.8580\n",
      "Epoch 7/30\n",
      "2000/2000 [==============================] - 1s 506us/sample - loss: 0.2480 - accuracy: 0.9020 - val_loss: 0.2610 - val_accuracy: 0.8970\n",
      "Epoch 8/30\n",
      "2000/2000 [==============================] - 1s 494us/sample - loss: 0.2348 - accuracy: 0.9055 - val_loss: 0.2540 - val_accuracy: 0.8980\n",
      "Epoch 9/30\n",
      "2000/2000 [==============================] - 1s 475us/sample - loss: 0.2207 - accuracy: 0.9215 - val_loss: 0.2497 - val_accuracy: 0.8990\n",
      "Epoch 10/30\n",
      "2000/2000 [==============================] - 1s 472us/sample - loss: 0.2048 - accuracy: 0.9200 - val_loss: 0.2495 - val_accuracy: 0.8980\n",
      "Epoch 11/30\n",
      "2000/2000 [==============================] - 1s 485us/sample - loss: 0.1940 - accuracy: 0.9300 - val_loss: 0.2427 - val_accuracy: 0.8990\n",
      "Epoch 12/30\n",
      "2000/2000 [==============================] - 1s 467us/sample - loss: 0.1893 - accuracy: 0.9325 - val_loss: 0.2414 - val_accuracy: 0.9000\n",
      "Epoch 13/30\n",
      "2000/2000 [==============================] - 1s 476us/sample - loss: 0.1831 - accuracy: 0.9305 - val_loss: 0.2407 - val_accuracy: 0.9030\n",
      "Epoch 14/30\n",
      "2000/2000 [==============================] - 1s 469us/sample - loss: 0.1721 - accuracy: 0.9350 - val_loss: 0.2367 - val_accuracy: 0.9040\n",
      "Epoch 15/30\n",
      "2000/2000 [==============================] - 1s 465us/sample - loss: 0.1604 - accuracy: 0.9460 - val_loss: 0.2378 - val_accuracy: 0.9000\n",
      "Epoch 16/30\n",
      "2000/2000 [==============================] - 1s 469us/sample - loss: 0.1612 - accuracy: 0.9435 - val_loss: 0.2356 - val_accuracy: 0.9040\n",
      "Epoch 17/30\n",
      "2000/2000 [==============================] - 1s 470us/sample - loss: 0.1529 - accuracy: 0.9460 - val_loss: 0.2329 - val_accuracy: 0.9080\n",
      "Epoch 18/30\n",
      "2000/2000 [==============================] - 1s 466us/sample - loss: 0.1443 - accuracy: 0.9535 - val_loss: 0.2317 - val_accuracy: 0.9080\n",
      "Epoch 19/30\n",
      "2000/2000 [==============================] - 1s 466us/sample - loss: 0.1348 - accuracy: 0.9530 - val_loss: 0.2303 - val_accuracy: 0.9040\n",
      "Epoch 20/30\n",
      "2000/2000 [==============================] - 1s 479us/sample - loss: 0.1299 - accuracy: 0.9585 - val_loss: 0.2318 - val_accuracy: 0.9030\n",
      "Epoch 21/30\n",
      "2000/2000 [==============================] - 1s 462us/sample - loss: 0.1244 - accuracy: 0.9580 - val_loss: 0.2296 - val_accuracy: 0.9030\n",
      "Epoch 22/30\n",
      "2000/2000 [==============================] - 1s 468us/sample - loss: 0.1262 - accuracy: 0.9590 - val_loss: 0.2316 - val_accuracy: 0.9070\n",
      "Epoch 23/30\n",
      "2000/2000 [==============================] - 1s 485us/sample - loss: 0.1113 - accuracy: 0.9595 - val_loss: 0.2328 - val_accuracy: 0.9080\n",
      "Epoch 24/30\n",
      "2000/2000 [==============================] - 1s 476us/sample - loss: 0.1103 - accuracy: 0.9640 - val_loss: 0.2297 - val_accuracy: 0.9050\n",
      "Epoch 25/30\n",
      "2000/2000 [==============================] - 1s 488us/sample - loss: 0.1158 - accuracy: 0.9640 - val_loss: 0.2304 - val_accuracy: 0.9030\n",
      "Epoch 26/30\n",
      "2000/2000 [==============================] - 1s 481us/sample - loss: 0.0994 - accuracy: 0.9670 - val_loss: 0.2350 - val_accuracy: 0.9040\n",
      "Epoch 27/30\n",
      "2000/2000 [==============================] - 1s 476us/sample - loss: 0.0986 - accuracy: 0.9665 - val_loss: 0.2345 - val_accuracy: 0.9050\n",
      "Epoch 28/30\n",
      "2000/2000 [==============================] - 1s 487us/sample - loss: 0.0948 - accuracy: 0.9715 - val_loss: 0.2362 - val_accuracy: 0.9040\n",
      "Epoch 29/30\n",
      "2000/2000 [==============================] - 1s 471us/sample - loss: 0.0877 - accuracy: 0.9755 - val_loss: 0.2395 - val_accuracy: 0.9030\n",
      "Epoch 30/30\n",
      "2000/2000 [==============================] - 1s 471us/sample - loss: 0.0923 - accuracy: 0.9705 - val_loss: 0.2343 - val_accuracy: 0.9010\n"
     ]
    }
   ],
   "source": [
    "from tensorflow.keras import models, layers, optimizers\n",
    "\n",
    "model = models.Sequential()\n",
    "model.add(layers.Dense(256, activation='relu', input_dim=4*4*512))\n",
    "model.add(layers.Dropout(0.5))\n",
    "model.add(layers.Dense(1, activation='sigmoid'))\n",
    "\n",
    "model.compile(\n",
    "    loss='binary_crossentropy',\n",
    "    optimizer=optimizers.RMSprop(lr=2e-5),\n",
    "    metrics=['accuracy']\n",
    ")\n",
    "\n",
    "history = model.fit(\n",
    "    train_features,\n",
    "    train_labels,\n",
    "    epochs=30,\n",
    "    batch_size=20,\n",
    "    validation_data=(validation_features, validation_labels)\n",
    ")"
   ]
  },
  {
   "cell_type": "markdown",
   "metadata": {},
   "source": [
    "#### Plot loss and accuracy"
   ]
  },
  {
   "cell_type": "code",
   "execution_count": 14,
   "metadata": {},
   "outputs": [
    {
     "data": {
      "image/png": "[encoded data removed]",
      "text/plain": [
       "<Figure size 432x288 with 1 Axes>"
      ]
     },
     "metadata": {
      "needs_background": "light"
     },
     "output_type": "display_data"
    },
    {
     "data": {
      "image/png": "[encoded data removed]",
      "text/plain": [
       "<Figure size 432x288 with 1 Axes>"
      ]
     },
     "metadata": {
      "needs_background": "light"
     },
     "output_type": "display_data"
    }
   ],
   "source": [
    "import matplotlib.pyplot as plt\n",
    "\n",
    "acc = history.history['accuracy']\n",
    "val_acc = history.history['val_accuracy']\n",
    "loss = history.history['loss']\n",
    "val_loss = history.history['val_loss']\n",
    "\n",
    "epochs = range(len(acc))\n",
    "\n",
    "plt.plot(epochs, acc, 'bo', label='Training accuracy')\n",
    "plt.plot(epochs, val_acc, 'b', label='Validation accuracy')\n",
    "plt.title('Training and validation accuracy')\n",
    "plt.legend()\n",
    "\n",
    "plt.figure()\n",
    "\n",
    "plt.plot(epochs, loss, 'bo', label='Training loss')\n",
    "plt.plot(epochs, val_loss, 'b', label='Validation loss')\n",
    "plt.title('Training and validation loss')\n",
    "plt.legend()\n",
    "\n",
    "plt.show()"
   ]
  },
  {
   "cell_type": "markdown",
   "metadata": {},
   "source": [
    "We obtain a good 90% validation accuracy, which outperforms the CNN from scratch we built in the previous notebook. On the other hand, due to the impossibility to add data augmentation we start also to overfit quite early, despite of using `Dropout` with a fairly large rate."
   ]
  },
  {
   "cell_type": "markdown",
   "metadata": {},
   "source": [
    "### Feature extraction _with_ data augmentation\n",
    "\n",
    "This technique allows data augmentation during training, but is also expensive. Absolutely not recommended without at least one GPU, since we'll have to do with more than 16 millions parameters."
   ]
  },
  {
   "cell_type": "markdown",
   "metadata": {},
   "source": [
    "#### Add a densely connected classifier on top of the convolutional base\n",
    "\n",
    "By _freezing_ the `conv_base` we will reduce the amount of weights that will be trained: only those who belong the classifier on top."
   ]
  },
  {
   "cell_type": "code",
   "execution_count": 74,
   "metadata": {},
   "outputs": [
    {
     "name": "stdout",
     "output_type": "stream",
     "text": [
      "Model: \"sequential_15\"\n",
      "_________________________________________________________________\n",
      "Layer (type)                 Output Shape              Param #   \n",
      "=================================================================\n",
      "vgg16 (Model)                (None, 4, 4, 512)         14714688  \n",
      "_________________________________________________________________\n",
      "flatten_12 (Flatten)         (None, 8192)              0         \n",
      "_________________________________________________________________\n",
      "dense_31 (Dense)             (None, 256)               2097408   \n",
      "_________________________________________________________________\n",
      "dense_32 (Dense)             (None, 1)                 257       \n",
      "=================================================================\n",
      "Total params: 16,812,353\n",
      "Trainable params: 2,097,665\n",
      "Non-trainable params: 14,714,688\n",
      "_________________________________________________________________\n"
     ]
    }
   ],
   "source": [
    "conv_base = VGG16(\n",
    "    weights='imagenet',        # checkpoints from when to initialize the model\n",
    "    include_top=False,         # when True, includes the fully connected classifier network\n",
    "    input_shape=(150, 150, 3)  # shape of the image tensors to feed the network with\n",
    ")\n",
    "\n",
    "conv_base.trainable = False\n",
    "\n",
    "model = models.Sequential()\n",
    "model.add(conv_base)\n",
    "model.add(layers.Flatten())\n",
    "model.add(layers.Dense(256, activation='relu'))\n",
    "model.add(layers.Dense(1, activation='sigmoid'))\n",
    "          \n",
    "model.summary()"
   ]
  },
  {
   "cell_type": "markdown",
   "metadata": {},
   "source": [
    "#### Setup generators with data augmentation"
   ]
  },
  {
   "cell_type": "code",
   "execution_count": 75,
   "metadata": {},
   "outputs": [
    {
     "name": "stdout",
     "output_type": "stream",
     "text": [
      "Found 2000 images belonging to 2 classes.\n",
      "Found 1000 images belonging to 2 classes.\n"
     ]
    }
   ],
   "source": [
    "train_datagen = ImageDataGenerator(\n",
    "    rescale=1./255,\n",
    "    rotation_range=40,\n",
    "    width_shift_range=0.2,\n",
    "    height_shift_range=0.2,\n",
    "    shear_range=0.2,\n",
    "    zoom_range=0.2,\n",
    "    horizontal_flip=True,\n",
    "    fill_mode='nearest'\n",
    ")\n",
    "# Do not apply data augmentation on validation\n",
    "validation_datagen = ImageDataGenerator(rescale=1./255)\n",
    "\n",
    "train_generator = train_datagen.flow_from_directory(\n",
    "    TRAIN_DIR, \n",
    "    target_size=(150, 150),\n",
    "    batch_size=20,\n",
    "    class_mode='binary'\n",
    ")\n",
    "validation_generator = validation_datagen.flow_from_directory(\n",
    "    VALIDATION_DIR,\n",
    "    target_size=(150, 150),\n",
    "    batch_size=20,\n",
    "    class_mode='binary'\n",
    ")"
   ]
  },
  {
   "cell_type": "markdown",
   "metadata": {},
   "source": [
    "#### Compile and train the model"
   ]
  },
  {
   "cell_type": "code",
   "execution_count": 76,
   "metadata": {},
   "outputs": [
    {
     "name": "stdout",
     "output_type": "stream",
     "text": [
      "WARNING:tensorflow:sample_weight modes were coerced from\n",
      "  ...\n",
      "    to  \n",
      "  ['...']\n",
      "WARNING:tensorflow:sample_weight modes were coerced from\n",
      "  ...\n",
      "    to  \n",
      "  ['...']\n",
      "Train for 100 steps, validate for 50 steps\n",
      "Epoch 1/30\n",
      "100/100 [==============================] - 187s 2s/step - loss: 0.6156 - accuracy: 0.6785 - val_loss: 0.4712 - val_accuracy: 0.8140\n",
      "Epoch 2/30\n",
      "100/100 [==============================] - 191s 2s/step - loss: 0.4978 - accuracy: 0.7765 - val_loss: 0.3822 - val_accuracy: 0.8530\n",
      "Epoch 3/30\n",
      "100/100 [==============================] - 191s 2s/step - loss: 0.4560 - accuracy: 0.7955 - val_loss: 0.3407 - val_accuracy: 0.8650\n",
      "Epoch 4/30\n",
      "100/100 [==============================] - 192s 2s/step - loss: 0.4126 - accuracy: 0.8200 - val_loss: 0.3232 - val_accuracy: 0.8790\n",
      "Epoch 5/30\n",
      "100/100 [==============================] - 192s 2s/step - loss: 0.3893 - accuracy: 0.8255 - val_loss: 0.2985 - val_accuracy: 0.8780\n",
      "Epoch 6/30\n",
      "100/100 [==============================] - 193s 2s/step - loss: 0.3792 - accuracy: 0.8330 - val_loss: 0.2906 - val_accuracy: 0.8870\n",
      "Epoch 7/30\n",
      "100/100 [==============================] - 192s 2s/step - loss: 0.3540 - accuracy: 0.8445 - val_loss: 0.2790 - val_accuracy: 0.8870\n",
      "Epoch 8/30\n",
      "100/100 [==============================] - 193s 2s/step - loss: 0.3587 - accuracy: 0.8450 - val_loss: 0.2779 - val_accuracy: 0.8870\n",
      "Epoch 9/30\n",
      "100/100 [==============================] - 193s 2s/step - loss: 0.3399 - accuracy: 0.8530 - val_loss: 0.2708 - val_accuracy: 0.8960\n",
      "Epoch 10/30\n",
      "100/100 [==============================] - 194s 2s/step - loss: 0.3500 - accuracy: 0.8485 - val_loss: 0.2729 - val_accuracy: 0.8890\n",
      "Epoch 11/30\n",
      "100/100 [==============================] - 193s 2s/step - loss: 0.3417 - accuracy: 0.8555 - val_loss: 0.2575 - val_accuracy: 0.8990\n",
      "Epoch 12/30\n",
      "100/100 [==============================] - 193s 2s/step - loss: 0.3363 - accuracy: 0.8495 - val_loss: 0.2670 - val_accuracy: 0.8850\n",
      "Epoch 13/30\n",
      "100/100 [==============================] - 193s 2s/step - loss: 0.3132 - accuracy: 0.8665 - val_loss: 0.2554 - val_accuracy: 0.8950\n",
      "Epoch 14/30\n",
      "100/100 [==============================] - 193s 2s/step - loss: 0.3190 - accuracy: 0.8670 - val_loss: 0.2515 - val_accuracy: 0.9030\n",
      "Epoch 15/30\n",
      "100/100 [==============================] - 193s 2s/step - loss: 0.3287 - accuracy: 0.8615 - val_loss: 0.2523 - val_accuracy: 0.9040\n",
      "Epoch 16/30\n",
      "100/100 [==============================] - 193s 2s/step - loss: 0.3129 - accuracy: 0.8640 - val_loss: 0.2492 - val_accuracy: 0.9000\n",
      "Epoch 17/30\n",
      "100/100 [==============================] - 193s 2s/step - loss: 0.3127 - accuracy: 0.8665 - val_loss: 0.2626 - val_accuracy: 0.8920\n",
      "Epoch 18/30\n",
      "100/100 [==============================] - 194s 2s/step - loss: 0.3098 - accuracy: 0.8720 - val_loss: 0.2483 - val_accuracy: 0.9040\n",
      "Epoch 19/30\n",
      "100/100 [==============================] - 193s 2s/step - loss: 0.2975 - accuracy: 0.8710 - val_loss: 0.2492 - val_accuracy: 0.9030\n",
      "Epoch 20/30\n",
      "100/100 [==============================] - 194s 2s/step - loss: 0.2961 - accuracy: 0.8705 - val_loss: 0.2479 - val_accuracy: 0.8990\n",
      "Epoch 21/30\n",
      "100/100 [==============================] - 193s 2s/step - loss: 0.3054 - accuracy: 0.8690 - val_loss: 0.2501 - val_accuracy: 0.8970\n",
      "Epoch 22/30\n",
      "100/100 [==============================] - 193s 2s/step - loss: 0.2862 - accuracy: 0.8795 - val_loss: 0.2519 - val_accuracy: 0.9010\n",
      "Epoch 23/30\n",
      "100/100 [==============================] - 193s 2s/step - loss: 0.3095 - accuracy: 0.8650 - val_loss: 0.2450 - val_accuracy: 0.9010\n",
      "Epoch 24/30\n",
      "100/100 [==============================] - 193s 2s/step - loss: 0.2965 - accuracy: 0.8735 - val_loss: 0.2585 - val_accuracy: 0.8940\n",
      "Epoch 25/30\n",
      "100/100 [==============================] - 193s 2s/step - loss: 0.2976 - accuracy: 0.8700 - val_loss: 0.2479 - val_accuracy: 0.9040\n",
      "Epoch 26/30\n",
      "100/100 [==============================] - 193s 2s/step - loss: 0.2958 - accuracy: 0.8765 - val_loss: 0.2414 - val_accuracy: 0.9020\n",
      "Epoch 27/30\n",
      "100/100 [==============================] - 195s 2s/step - loss: 0.2912 - accuracy: 0.8760 - val_loss: 0.2480 - val_accuracy: 0.9000\n",
      "Epoch 28/30\n",
      "100/100 [==============================] - 192s 2s/step - loss: 0.3008 - accuracy: 0.8710 - val_loss: 0.2457 - val_accuracy: 0.9020\n",
      "Epoch 29/30\n",
      "100/100 [==============================] - 193s 2s/step - loss: 0.2947 - accuracy: 0.8720 - val_loss: 0.2461 - val_accuracy: 0.9010\n",
      "Epoch 30/30\n",
      "100/100 [==============================] - 192s 2s/step - loss: 0.2849 - accuracy: 0.8770 - val_loss: 0.2417 - val_accuracy: 0.9020\n"
     ]
    }
   ],
   "source": [
    "model.compile(\n",
    "    optimizer=optimizers.RMSprop(lr=2e-5),\n",
    "    loss='binary_crossentropy',\n",
    "    metrics=['accuracy']\n",
    ")\n",
    "\n",
    "history = model.fit(\n",
    "      train_generator,\n",
    "      steps_per_epoch=100,\n",
    "      epochs=30,\n",
    "      validation_data=validation_generator,\n",
    "      validation_steps=50\n",
    ")"
   ]
  },
  {
   "cell_type": "code",
   "execution_count": 77,
   "metadata": {},
   "outputs": [],
   "source": [
    "model.save('./models/cats_and_dogs_small_3.h5')"
   ]
  },
  {
   "cell_type": "code",
   "execution_count": 78,
   "metadata": {},
   "outputs": [
    {
     "data": {
      "image/png": "[encoded data removed]",
      "text/plain": [
       "<Figure size 432x288 with 1 Axes>"
      ]
     },
     "metadata": {
      "needs_background": "light"
     },
     "output_type": "display_data"
    },
    {
     "data": {
      "image/png": "[encoded data removed]",
      "text/plain": [
       "<Figure size 432x288 with 1 Axes>"
      ]
     },
     "metadata": {
      "needs_background": "light"
     },
     "output_type": "display_data"
    }
   ],
   "source": [
    "acc = history.history['accuracy']\n",
    "val_acc = history.history['val_accuracy']\n",
    "loss = history.history['loss']\n",
    "val_loss = history.history['val_loss']\n",
    "\n",
    "epochs = range(len(acc))\n",
    "\n",
    "plt.plot(epochs, acc, 'bo', label='Training accuracy')\n",
    "plt.plot(epochs, val_acc, 'b', label='Validation accuracy')\n",
    "plt.title('Training and validation accuracy')\n",
    "plt.legend()\n",
    "\n",
    "plt.figure()\n",
    "\n",
    "plt.plot(epochs, loss, 'bo', label='Training loss')\n",
    "plt.plot(epochs, val_loss, 'b', label='Validation loss')\n",
    "plt.title('Training and validation loss')\n",
    "plt.legend()\n",
    "\n",
    "plt.show()"
   ]
  },
  {
   "cell_type": "markdown",
   "metadata": {},
   "source": [
    "We obtain again a good 90% validation accuracy, which outperforms the CNN from scratch. Please note also how, thanks to data augmentation, the model does not overfit the same way it does in the previous example."
   ]
  },
  {
   "cell_type": "markdown",
   "metadata": {},
   "source": [
    "### Fine tuning\n",
    "Fine tuning consists of unfreezing a few of the top layers of a frozen model base used for feature extraction, and jointly training both the new added part of the model (the densely connected classifier in our case) and these top layers.\n",
    "\n",
    "The steps for fine-tuning a network are as follow:\n",
    "\n",
    "- Add your custom network on top of an already trained base network.\n",
    "- Freeze the base network.\n",
    "- Train the part you added.\n",
    "- Unfreeze some layers in the base network.\n",
    "- Jointly train both these layers and the part you added.\n",
    "\n",
    "We have already completed the first 3 steps when doing feature extraction. Let's proceed with the 4th step: we will unfreeze our `conv_base`, and then freeze individual layers inside of it."
   ]
  },
  {
   "cell_type": "markdown",
   "metadata": {},
   "source": [
    "#### Unfreeze selected layers"
   ]
  },
  {
   "cell_type": "code",
   "execution_count": 79,
   "metadata": {},
   "outputs": [
    {
     "name": "stdout",
     "output_type": "stream",
     "text": [
      "Model: \"vgg16\"\n",
      "_________________________________________________________________\n",
      "Layer (type)                 Output Shape              Param #   \n",
      "=================================================================\n",
      "input_10 (InputLayer)        [(None, 150, 150, 3)]     0         \n",
      "_________________________________________________________________\n",
      "block1_conv1 (Conv2D)        (None, 150, 150, 64)      1792      \n",
      "_________________________________________________________________\n",
      "block1_conv2 (Conv2D)        (None, 150, 150, 64)      36928     \n",
      "_________________________________________________________________\n",
      "block1_pool (MaxPooling2D)   (None, 75, 75, 64)        0         \n",
      "_________________________________________________________________\n",
      "block2_conv1 (Conv2D)        (None, 75, 75, 128)       73856     \n",
      "_________________________________________________________________\n",
      "block2_conv2 (Conv2D)        (None, 75, 75, 128)       147584    \n",
      "_________________________________________________________________\n",
      "block2_pool (MaxPooling2D)   (None, 37, 37, 128)       0         \n",
      "_________________________________________________________________\n",
      "block3_conv1 (Conv2D)        (None, 37, 37, 256)       295168    \n",
      "_________________________________________________________________\n",
      "block3_conv2 (Conv2D)        (None, 37, 37, 256)       590080    \n",
      "_________________________________________________________________\n",
      "block3_conv3 (Conv2D)        (None, 37, 37, 256)       590080    \n",
      "_________________________________________________________________\n",
      "block3_pool (MaxPooling2D)   (None, 18, 18, 256)       0         \n",
      "_________________________________________________________________\n",
      "block4_conv1 (Conv2D)        (None, 18, 18, 512)       1180160   \n",
      "_________________________________________________________________\n",
      "block4_conv2 (Conv2D)        (None, 18, 18, 512)       2359808   \n",
      "_________________________________________________________________\n",
      "block4_conv3 (Conv2D)        (None, 18, 18, 512)       2359808   \n",
      "_________________________________________________________________\n",
      "block4_pool (MaxPooling2D)   (None, 9, 9, 512)         0         \n",
      "_________________________________________________________________\n",
      "block5_conv1 (Conv2D)        (None, 9, 9, 512)         2359808   \n",
      "_________________________________________________________________\n",
      "block5_conv2 (Conv2D)        (None, 9, 9, 512)         2359808   \n",
      "_________________________________________________________________\n",
      "block5_conv3 (Conv2D)        (None, 9, 9, 512)         2359808   \n",
      "_________________________________________________________________\n",
      "block5_pool (MaxPooling2D)   (None, 4, 4, 512)         0         \n",
      "=================================================================\n",
      "Total params: 14,714,688\n",
      "Trainable params: 7,079,424\n",
      "Non-trainable params: 7,635,264\n",
      "_________________________________________________________________\n"
     ]
    }
   ],
   "source": [
    "# Unfreeze the last 3 layers\n",
    "conv_base.trainable = True \n",
    "set_trainable = False\n",
    "\n",
    "for layer in conv_base.layers:\n",
    "    if layer.name == \"block5_conv1\":\n",
    "        set_trainable = True\n",
    "    if set_trainable:\n",
    "        layer.trainable = True\n",
    "    else:\n",
    "        layer.trainable = False\n",
    "\n",
    "        \n",
    "conv_base.summary()"
   ]
  },
  {
   "cell_type": "markdown",
   "metadata": {},
   "source": [
    "#### Compile and fine-tune the network"
   ]
  },
  {
   "cell_type": "markdown",
   "metadata": {},
   "source": [
    "Now we can start fine-tuning our network. We will do this with the RMSprop optimizer, using a very low learning rate. The reason for using a low learning rate is that we want to limit the magnitude of the modifications we make to the representations of the 3 layers that we are fine-tuning. Updates that are too large may harm these representations."
   ]
  },
  {
   "cell_type": "code",
   "execution_count": 80,
   "metadata": {},
   "outputs": [
    {
     "name": "stdout",
     "output_type": "stream",
     "text": [
      "WARNING:tensorflow:sample_weight modes were coerced from\n",
      "  ...\n",
      "    to  \n",
      "  ['...']\n",
      "WARNING:tensorflow:sample_weight modes were coerced from\n",
      "  ...\n",
      "    to  \n",
      "  ['...']\n",
      "Train for 100 steps, validate for 50 steps\n",
      "Epoch 1/100\n",
      "100/100 [==============================] - 220s 2s/step - loss: 0.2879 - accuracy: 0.8805 - val_loss: 0.2179 - val_accuracy: 0.9070\n",
      "Epoch 2/100\n",
      "100/100 [==============================] - 219s 2s/step - loss: 0.2638 - accuracy: 0.8885 - val_loss: 0.2115 - val_accuracy: 0.9180\n",
      "Epoch 3/100\n",
      "100/100 [==============================] - 219s 2s/step - loss: 0.2624 - accuracy: 0.8925 - val_loss: 0.1986 - val_accuracy: 0.9250\n",
      "Epoch 4/100\n",
      "100/100 [==============================] - 218s 2s/step - loss: 0.2249 - accuracy: 0.9005 - val_loss: 0.2031 - val_accuracy: 0.9260\n",
      "Epoch 5/100\n",
      "100/100 [==============================] - 218s 2s/step - loss: 0.2105 - accuracy: 0.9080 - val_loss: 0.1926 - val_accuracy: 0.9270\n",
      "Epoch 6/100\n",
      "100/100 [==============================] - 219s 2s/step - loss: 0.1959 - accuracy: 0.9210 - val_loss: 0.1946 - val_accuracy: 0.9270\n",
      "Epoch 7/100\n",
      "100/100 [==============================] - 219s 2s/step - loss: 0.1899 - accuracy: 0.9210 - val_loss: 0.1819 - val_accuracy: 0.9310\n",
      "Epoch 8/100\n",
      "100/100 [==============================] - 219s 2s/step - loss: 0.1690 - accuracy: 0.9270 - val_loss: 0.1813 - val_accuracy: 0.9340\n",
      "Epoch 9/100\n",
      "100/100 [==============================] - 219s 2s/step - loss: 0.1633 - accuracy: 0.9335 - val_loss: 0.2011 - val_accuracy: 0.9270\n",
      "Epoch 10/100\n",
      "100/100 [==============================] - 219s 2s/step - loss: 0.1478 - accuracy: 0.9470 - val_loss: 0.2109 - val_accuracy: 0.9280\n",
      "Epoch 11/100\n",
      "100/100 [==============================] - 219s 2s/step - loss: 0.1439 - accuracy: 0.9450 - val_loss: 0.2081 - val_accuracy: 0.9230\n",
      "Epoch 12/100\n",
      "100/100 [==============================] - 219s 2s/step - loss: 0.1411 - accuracy: 0.9420 - val_loss: 0.1934 - val_accuracy: 0.9330\n",
      "Epoch 13/100\n",
      "100/100 [==============================] - 218s 2s/step - loss: 0.1460 - accuracy: 0.9410 - val_loss: 0.1853 - val_accuracy: 0.9350\n",
      "Epoch 14/100\n",
      "100/100 [==============================] - 219s 2s/step - loss: 0.1299 - accuracy: 0.9485 - val_loss: 0.1923 - val_accuracy: 0.9340\n",
      "Epoch 15/100\n",
      "100/100 [==============================] - 219s 2s/step - loss: 0.1296 - accuracy: 0.9460 - val_loss: 0.1837 - val_accuracy: 0.9280\n",
      "Epoch 16/100\n",
      "100/100 [==============================] - 220s 2s/step - loss: 0.1244 - accuracy: 0.9480 - val_loss: 0.2215 - val_accuracy: 0.9260\n",
      "Epoch 17/100\n",
      "100/100 [==============================] - 220s 2s/step - loss: 0.1162 - accuracy: 0.9555 - val_loss: 0.2140 - val_accuracy: 0.9290\n",
      "Epoch 18/100\n",
      "100/100 [==============================] - 218s 2s/step - loss: 0.1232 - accuracy: 0.9515 - val_loss: 0.1764 - val_accuracy: 0.9260\n",
      "Epoch 19/100\n",
      "100/100 [==============================] - 219s 2s/step - loss: 0.1239 - accuracy: 0.9540 - val_loss: 0.1857 - val_accuracy: 0.9240\n",
      "Epoch 20/100\n",
      "100/100 [==============================] - 251s 3s/step - loss: 0.0935 - accuracy: 0.9650 - val_loss: 0.2183 - val_accuracy: 0.9290\n",
      "Epoch 21/100\n",
      "100/100 [==============================] - 270s 3s/step - loss: 0.0910 - accuracy: 0.9645 - val_loss: 0.1941 - val_accuracy: 0.9270\n",
      "Epoch 22/100\n",
      "100/100 [==============================] - 270s 3s/step - loss: 0.0887 - accuracy: 0.9665 - val_loss: 0.1866 - val_accuracy: 0.9370\n",
      "Epoch 23/100\n",
      "100/100 [==============================] - 274s 3s/step - loss: 0.0763 - accuracy: 0.9745 - val_loss: 0.2253 - val_accuracy: 0.9300\n",
      "Epoch 24/100\n",
      "100/100 [==============================] - 275s 3s/step - loss: 0.0836 - accuracy: 0.9665 - val_loss: 0.1780 - val_accuracy: 0.9410\n",
      "Epoch 25/100\n",
      "100/100 [==============================] - 273s 3s/step - loss: 0.0907 - accuracy: 0.9675 - val_loss: 0.1810 - val_accuracy: 0.9430\n",
      "Epoch 26/100\n",
      "100/100 [==============================] - 259s 3s/step - loss: 0.0860 - accuracy: 0.9685 - val_loss: 0.2899 - val_accuracy: 0.9210\n",
      "Epoch 27/100\n",
      "100/100 [==============================] - 219s 2s/step - loss: 0.0819 - accuracy: 0.9705 - val_loss: 0.1980 - val_accuracy: 0.9400\n",
      "Epoch 28/100\n",
      "100/100 [==============================] - 219s 2s/step - loss: 0.0913 - accuracy: 0.9640 - val_loss: 0.1828 - val_accuracy: 0.9400\n",
      "Epoch 29/100\n",
      "100/100 [==============================] - 219s 2s/step - loss: 0.0617 - accuracy: 0.9785 - val_loss: 0.1992 - val_accuracy: 0.9330\n",
      "Epoch 30/100\n",
      "100/100 [==============================] - 218s 2s/step - loss: 0.0710 - accuracy: 0.9690 - val_loss: 0.1860 - val_accuracy: 0.9390\n",
      "Epoch 31/100\n",
      "100/100 [==============================] - 218s 2s/step - loss: 0.0644 - accuracy: 0.9745 - val_loss: 0.2894 - val_accuracy: 0.9230\n",
      "Epoch 32/100\n",
      "100/100 [==============================] - 219s 2s/step - loss: 0.0656 - accuracy: 0.9775 - val_loss: 0.2254 - val_accuracy: 0.9340\n",
      "Epoch 33/100\n",
      "100/100 [==============================] - 219s 2s/step - loss: 0.0556 - accuracy: 0.9825 - val_loss: 0.1986 - val_accuracy: 0.9380\n",
      "Epoch 34/100\n",
      "100/100 [==============================] - 219s 2s/step - loss: 0.0602 - accuracy: 0.9720 - val_loss: 0.1845 - val_accuracy: 0.9340\n",
      "Epoch 35/100\n",
      "100/100 [==============================] - 219s 2s/step - loss: 0.0587 - accuracy: 0.9775 - val_loss: 0.1829 - val_accuracy: 0.9400\n",
      "Epoch 36/100\n",
      "100/100 [==============================] - 218s 2s/step - loss: 0.0546 - accuracy: 0.9810 - val_loss: 0.1848 - val_accuracy: 0.9380\n",
      "Epoch 37/100\n",
      "100/100 [==============================] - 218s 2s/step - loss: 0.0509 - accuracy: 0.9805 - val_loss: 0.2196 - val_accuracy: 0.9330\n",
      "Epoch 38/100\n",
      "100/100 [==============================] - 218s 2s/step - loss: 0.0707 - accuracy: 0.9780 - val_loss: 0.1938 - val_accuracy: 0.9390\n",
      "Epoch 39/100\n",
      "100/100 [==============================] - 218s 2s/step - loss: 0.0540 - accuracy: 0.9820 - val_loss: 0.1943 - val_accuracy: 0.9340\n",
      "Epoch 40/100\n",
      "100/100 [==============================] - 219s 2s/step - loss: 0.0501 - accuracy: 0.9795 - val_loss: 0.2037 - val_accuracy: 0.9380\n",
      "Epoch 41/100\n",
      "100/100 [==============================] - 219s 2s/step - loss: 0.0501 - accuracy: 0.9835 - val_loss: 0.1868 - val_accuracy: 0.9390\n",
      "Epoch 42/100\n",
      "100/100 [==============================] - 218s 2s/step - loss: 0.0413 - accuracy: 0.9845 - val_loss: 0.2397 - val_accuracy: 0.9320\n",
      "Epoch 43/100\n",
      "100/100 [==============================] - 219s 2s/step - loss: 0.0580 - accuracy: 0.9790 - val_loss: 0.2064 - val_accuracy: 0.9370\n",
      "Epoch 44/100\n",
      "100/100 [==============================] - 219s 2s/step - loss: 0.0436 - accuracy: 0.9835 - val_loss: 0.2074 - val_accuracy: 0.9400\n",
      "Epoch 45/100\n",
      "100/100 [==============================] - 218s 2s/step - loss: 0.0545 - accuracy: 0.9770 - val_loss: 0.2176 - val_accuracy: 0.9320\n",
      "Epoch 46/100\n",
      "100/100 [==============================] - 219s 2s/step - loss: 0.0359 - accuracy: 0.9885 - val_loss: 0.2133 - val_accuracy: 0.9410\n",
      "Epoch 47/100\n",
      "100/100 [==============================] - 219s 2s/step - loss: 0.0533 - accuracy: 0.9775 - val_loss: 0.2159 - val_accuracy: 0.9360\n",
      "Epoch 48/100\n",
      "100/100 [==============================] - 219s 2s/step - loss: 0.0333 - accuracy: 0.9890 - val_loss: 0.2169 - val_accuracy: 0.9300\n",
      "Epoch 49/100\n",
      "100/100 [==============================] - 219s 2s/step - loss: 0.0392 - accuracy: 0.9875 - val_loss: 0.1866 - val_accuracy: 0.9450\n",
      "Epoch 50/100\n",
      "100/100 [==============================] - 220s 2s/step - loss: 0.0339 - accuracy: 0.9895 - val_loss: 0.2272 - val_accuracy: 0.9360\n",
      "Epoch 51/100\n",
      "100/100 [==============================] - 219s 2s/step - loss: 0.0356 - accuracy: 0.9880 - val_loss: 0.2998 - val_accuracy: 0.9260\n",
      "Epoch 52/100\n",
      "100/100 [==============================] - 219s 2s/step - loss: 0.0555 - accuracy: 0.9805 - val_loss: 0.2116 - val_accuracy: 0.9370\n",
      "Epoch 53/100\n",
      "100/100 [==============================] - 219s 2s/step - loss: 0.0347 - accuracy: 0.9870 - val_loss: 0.2093 - val_accuracy: 0.9420\n",
      "Epoch 54/100\n",
      "100/100 [==============================] - 219s 2s/step - loss: 0.0359 - accuracy: 0.9890 - val_loss: 0.1908 - val_accuracy: 0.9410\n",
      "Epoch 55/100\n",
      "100/100 [==============================] - 220s 2s/step - loss: 0.0362 - accuracy: 0.9860 - val_loss: 0.1844 - val_accuracy: 0.9500\n",
      "Epoch 56/100\n"
     ]
    },
    {
     "name": "stdout",
     "output_type": "stream",
     "text": [
      "100/100 [==============================] - 219s 2s/step - loss: 0.0344 - accuracy: 0.9880 - val_loss: 0.2150 - val_accuracy: 0.9460\n",
      "Epoch 57/100\n",
      "100/100 [==============================] - 219s 2s/step - loss: 0.0370 - accuracy: 0.9875 - val_loss: 0.2135 - val_accuracy: 0.9470\n",
      "Epoch 58/100\n",
      "100/100 [==============================] - 219s 2s/step - loss: 0.0323 - accuracy: 0.9885 - val_loss: 0.2142 - val_accuracy: 0.9420\n",
      "Epoch 59/100\n",
      "100/100 [==============================] - 220s 2s/step - loss: 0.0346 - accuracy: 0.9875 - val_loss: 0.2042 - val_accuracy: 0.9440\n",
      "Epoch 60/100\n",
      "100/100 [==============================] - 220s 2s/step - loss: 0.0315 - accuracy: 0.9870 - val_loss: 0.2109 - val_accuracy: 0.9430\n",
      "Epoch 61/100\n",
      "100/100 [==============================] - 219s 2s/step - loss: 0.0325 - accuracy: 0.9910 - val_loss: 0.2080 - val_accuracy: 0.9430\n",
      "Epoch 62/100\n",
      "100/100 [==============================] - 220s 2s/step - loss: 0.0414 - accuracy: 0.9850 - val_loss: 0.2402 - val_accuracy: 0.9380\n",
      "Epoch 63/100\n",
      "100/100 [==============================] - 220s 2s/step - loss: 0.0266 - accuracy: 0.9895 - val_loss: 0.2844 - val_accuracy: 0.9330\n",
      "Epoch 64/100\n",
      "100/100 [==============================] - 220s 2s/step - loss: 0.0353 - accuracy: 0.9885 - val_loss: 0.2263 - val_accuracy: 0.9440\n",
      "Epoch 65/100\n",
      "100/100 [==============================] - 219s 2s/step - loss: 0.0424 - accuracy: 0.9865 - val_loss: 0.3412 - val_accuracy: 0.9280\n",
      "Epoch 66/100\n",
      "100/100 [==============================] - 219s 2s/step - loss: 0.0289 - accuracy: 0.9890 - val_loss: 0.2910 - val_accuracy: 0.9340\n",
      "Epoch 67/100\n",
      "100/100 [==============================] - 221s 2s/step - loss: 0.0218 - accuracy: 0.9945 - val_loss: 0.2828 - val_accuracy: 0.9370\n",
      "Epoch 68/100\n",
      "100/100 [==============================] - 220s 2s/step - loss: 0.0280 - accuracy: 0.9890 - val_loss: 0.2817 - val_accuracy: 0.9350\n",
      "Epoch 69/100\n",
      "100/100 [==============================] - 219s 2s/step - loss: 0.0268 - accuracy: 0.9915 - val_loss: 0.3878 - val_accuracy: 0.9260\n",
      "Epoch 70/100\n",
      "100/100 [==============================] - 219s 2s/step - loss: 0.0295 - accuracy: 0.9885 - val_loss: 0.2414 - val_accuracy: 0.9360\n",
      "Epoch 71/100\n",
      "100/100 [==============================] - 219s 2s/step - loss: 0.0337 - accuracy: 0.9915 - val_loss: 0.2729 - val_accuracy: 0.9400\n",
      "Epoch 72/100\n",
      "100/100 [==============================] - 220s 2s/step - loss: 0.0222 - accuracy: 0.9920 - val_loss: 0.2882 - val_accuracy: 0.9410\n",
      "Epoch 73/100\n",
      "100/100 [==============================] - 220s 2s/step - loss: 0.0239 - accuracy: 0.9910 - val_loss: 0.2444 - val_accuracy: 0.9380\n",
      "Epoch 74/100\n",
      "100/100 [==============================] - 220s 2s/step - loss: 0.0357 - accuracy: 0.9875 - val_loss: 0.2812 - val_accuracy: 0.9330\n",
      "Epoch 75/100\n",
      "100/100 [==============================] - 220s 2s/step - loss: 0.0222 - accuracy: 0.9915 - val_loss: 0.2080 - val_accuracy: 0.9420\n",
      "Epoch 76/100\n",
      "100/100 [==============================] - 220s 2s/step - loss: 0.0226 - accuracy: 0.9930 - val_loss: 0.2396 - val_accuracy: 0.9450\n",
      "Epoch 77/100\n",
      "100/100 [==============================] - 219s 2s/step - loss: 0.0292 - accuracy: 0.9895 - val_loss: 0.2095 - val_accuracy: 0.9450\n",
      "Epoch 78/100\n",
      "100/100 [==============================] - 220s 2s/step - loss: 0.0234 - accuracy: 0.9915 - val_loss: 0.2404 - val_accuracy: 0.9430\n",
      "Epoch 79/100\n",
      "100/100 [==============================] - 219s 2s/step - loss: 0.0349 - accuracy: 0.9905 - val_loss: 0.2028 - val_accuracy: 0.9490\n",
      "Epoch 80/100\n",
      "100/100 [==============================] - 220s 2s/step - loss: 0.0263 - accuracy: 0.9900 - val_loss: 0.2681 - val_accuracy: 0.9360\n",
      "Epoch 81/100\n",
      "100/100 [==============================] - 220s 2s/step - loss: 0.0203 - accuracy: 0.9925 - val_loss: 0.2223 - val_accuracy: 0.9430\n",
      "Epoch 82/100\n",
      "100/100 [==============================] - 219s 2s/step - loss: 0.0183 - accuracy: 0.9930 - val_loss: 0.2255 - val_accuracy: 0.9460\n",
      "Epoch 83/100\n",
      "100/100 [==============================] - 221s 2s/step - loss: 0.0182 - accuracy: 0.9955 - val_loss: 0.3061 - val_accuracy: 0.9310\n",
      "Epoch 84/100\n",
      "100/100 [==============================] - 219s 2s/step - loss: 0.0231 - accuracy: 0.9920 - val_loss: 0.2238 - val_accuracy: 0.9420\n",
      "Epoch 85/100\n",
      "100/100 [==============================] - 220s 2s/step - loss: 0.0164 - accuracy: 0.9930 - val_loss: 0.2323 - val_accuracy: 0.9440\n",
      "Epoch 86/100\n",
      "100/100 [==============================] - 219s 2s/step - loss: 0.0169 - accuracy: 0.9945 - val_loss: 0.2077 - val_accuracy: 0.9480\n",
      "Epoch 87/100\n",
      "100/100 [==============================] - 219s 2s/step - loss: 0.0334 - accuracy: 0.9900 - val_loss: 0.2276 - val_accuracy: 0.9440\n",
      "Epoch 88/100\n",
      "100/100 [==============================] - 220s 2s/step - loss: 0.0187 - accuracy: 0.9930 - val_loss: 0.2689 - val_accuracy: 0.9400\n",
      "Epoch 89/100\n",
      "100/100 [==============================] - 221s 2s/step - loss: 0.0201 - accuracy: 0.9930 - val_loss: 0.4366 - val_accuracy: 0.9130\n",
      "Epoch 90/100\n",
      "100/100 [==============================] - 220s 2s/step - loss: 0.0150 - accuracy: 0.9940 - val_loss: 0.2543 - val_accuracy: 0.9450\n",
      "Epoch 91/100\n",
      "100/100 [==============================] - 220s 2s/step - loss: 0.0180 - accuracy: 0.9940 - val_loss: 0.2510 - val_accuracy: 0.9430\n",
      "Epoch 92/100\n",
      "100/100 [==============================] - 219s 2s/step - loss: 0.0191 - accuracy: 0.9940 - val_loss: 0.2587 - val_accuracy: 0.9420\n",
      "Epoch 93/100\n",
      "100/100 [==============================] - 219s 2s/step - loss: 0.0173 - accuracy: 0.9930 - val_loss: 0.2488 - val_accuracy: 0.9370\n",
      "Epoch 94/100\n",
      "100/100 [==============================] - 220s 2s/step - loss: 0.0183 - accuracy: 0.9930 - val_loss: 0.2643 - val_accuracy: 0.9360\n",
      "Epoch 95/100\n",
      "100/100 [==============================] - 220s 2s/step - loss: 0.0106 - accuracy: 0.9965 - val_loss: 0.2531 - val_accuracy: 0.9470\n",
      "Epoch 96/100\n",
      "100/100 [==============================] - 222s 2s/step - loss: 0.0178 - accuracy: 0.9950 - val_loss: 0.4544 - val_accuracy: 0.9230\n",
      "Epoch 97/100\n",
      "100/100 [==============================] - 222s 2s/step - loss: 0.0131 - accuracy: 0.9960 - val_loss: 0.2694 - val_accuracy: 0.9440\n",
      "Epoch 98/100\n",
      "100/100 [==============================] - 220s 2s/step - loss: 0.0269 - accuracy: 0.9910 - val_loss: 0.3022 - val_accuracy: 0.9380\n",
      "Epoch 99/100\n",
      "100/100 [==============================] - 220s 2s/step - loss: 0.0283 - accuracy: 0.9935 - val_loss: 0.5542 - val_accuracy: 0.9030\n",
      "Epoch 100/100\n",
      "100/100 [==============================] - 226s 2s/step - loss: 0.0171 - accuracy: 0.9940 - val_loss: 0.2196 - val_accuracy: 0.9450\n"
     ]
    }
   ],
   "source": [
    "model.compile(\n",
    "    optimizer=optimizers.RMSprop(lr=1e-5),\n",
    "    loss='binary_crossentropy',\n",
    "    metrics=['accuracy']\n",
    ")\n",
    "\n",
    "history = model.fit(\n",
    "      train_generator,\n",
    "      steps_per_epoch=100,\n",
    "      epochs=100,\n",
    "      validation_data=validation_generator,\n",
    "      validation_steps=50\n",
    ")"
   ]
  },
  {
   "cell_type": "code",
   "execution_count": 81,
   "metadata": {},
   "outputs": [],
   "source": [
    "model.save('models/cats_and_dogs_small_4.h5')"
   ]
  },
  {
   "cell_type": "markdown",
   "metadata": {},
   "source": [
    "#### Plot metrics"
   ]
  },
  {
   "cell_type": "code",
   "execution_count": 85,
   "metadata": {},
   "outputs": [
    {
     "data": {
      "image/png": "[encoded data removed]",
      "text/plain": [
       "<Figure size 432x288 with 1 Axes>"
      ]
     },
     "metadata": {
      "needs_background": "light"
     },
     "output_type": "display_data"
    },
    {
     "data": {
      "image/png": "[encoded data removed]",
      "text/plain": [
       "<Figure size 432x288 with 1 Axes>"
      ]
     },
     "metadata": {
      "needs_background": "light"
     },
     "output_type": "display_data"
    }
   ],
   "source": [
    "acc = history.history['accuracy']\n",
    "val_acc = history.history['val_accuracy']\n",
    "loss = history.history['loss']\n",
    "val_loss = history.history['val_loss']\n",
    "\n",
    "epochs = range(len(acc))\n",
    "\n",
    "plt.plot(epochs, acc, 'bo', label='Training accuracy')\n",
    "plt.plot(epochs, val_acc, 'b', label='Validation accuracy')\n",
    "plt.title('Training and validation accuracy')\n",
    "plt.legend()\n",
    "\n",
    "plt.figure()\n",
    "\n",
    "plt.plot(epochs, loss, 'bo', label='Training loss')\n",
    "plt.plot(epochs, val_loss, 'b', label='Validation loss')\n",
    "plt.title('Training and validation loss')\n",
    "plt.legend()\n",
    "\n",
    "plt.show()"
   ]
  },
  {
   "cell_type": "markdown",
   "metadata": {},
   "source": [
    "These curves look very noisy. To make them more readable, we can smooth them by replacing every loss and accuracy with exponential moving averages of these quantities. Here's a trivial utility function to do this:"
   ]
  },
  {
   "cell_type": "code",
   "execution_count": 86,
   "metadata": {},
   "outputs": [
    {
     "data": {
      "image/png": "[encoded data removed]",
      "text/plain": [
       "<Figure size 432x288 with 1 Axes>"
      ]
     },
     "metadata": {
      "needs_background": "light"
     },
     "output_type": "display_data"
    },
    {
     "data": {
      "image/png": "[encoded data removed]",
      "text/plain": [
       "<Figure size 432x288 with 1 Axes>"
      ]
     },
     "metadata": {
      "needs_background": "light"
     },
     "output_type": "display_data"
    }
   ],
   "source": [
    "def smooth_curve(points, factor=0.8):\n",
    "    smoothed_points = []\n",
    "    for point in points:\n",
    "        if smoothed_points:\n",
    "            previous = smoothed_points[-1]\n",
    "            smoothed_points.append(previous * factor + point * (1 - factor))\n",
    "        else:\n",
    "            smoothed_points.append(point)\n",
    "    return smoothed_points\n",
    "\n",
    "plt.plot(epochs, smooth_curve(acc), 'bo', label='Smoothed training acc')\n",
    "plt.plot(epochs, smooth_curve(val_acc), 'b', label='Smoothed validation acc')\n",
    "plt.title('Training and validation accuracy')\n",
    "plt.legend()\n",
    "\n",
    "plt.figure()\n",
    "\n",
    "plt.plot(epochs, smooth_curve(loss), 'bo', label='Smoothed training loss')\n",
    "plt.plot(epochs, smooth_curve(val_loss), 'b', label='Smoothed validation loss')\n",
    "plt.title('Training and validation loss')\n",
    "plt.legend()\n",
    "\n",
    "plt.show()"
   ]
  },
  {
   "cell_type": "markdown",
   "metadata": {},
   "source": [
    "These curves look much cleaner and more stable. We are seeing a nice 4% absolute improvement.\n",
    "\n",
    "Note that **the loss curve does not show any real improvement** (in fact, it is deteriorating). How could accuracy improve if the loss isn't decreasing? The answer is simple: what we display is an average of pointwise loss values, but what actually matters for accuracy is the distribution of the loss values, not their average, since accuracy is the result of a binary thresholding of the class probability prediced by the model. The model may still be improving even if this isn't reflected in the average loss."
   ]
  },
  {
   "cell_type": "markdown",
   "metadata": {},
   "source": [
    "#### Evaluate the model on test data"
   ]
  },
  {
   "cell_type": "code",
   "execution_count": 87,
   "metadata": {},
   "outputs": [
    {
     "name": "stdout",
     "output_type": "stream",
     "text": [
      "Found 1000 images belonging to 2 classes.\n",
      "WARNING:tensorflow:sample_weight modes were coerced from\n",
      "  ...\n",
      "    to  \n",
      "  ['...']\n",
      "50/50 [==============================] - 59s 1s/step - loss: 0.3198 - accuracy: 0.9430\n",
      "test accuracy: 0.943\n"
     ]
    }
   ],
   "source": [
    "test_datagen = ImageDataGenerator(rescale=1./255)\n",
    "\n",
    "test_generator = test_datagen.flow_from_directory(\n",
    "    TEST_DIR,\n",
    "    target_size=(150, 150),\n",
    "    batch_size=20,\n",
    "    class_mode='binary'\n",
    ")\n",
    "\n",
    "test_loss, test_accuracy = model.evaluate(test_generator, steps=50)\n",
    "print('test accuracy:', test_accuracy)"
   ]
  },
  {
   "cell_type": "code",
   "execution_count": null,
   "metadata": {},
   "outputs": [],
   "source": []
  }
 ],
 "metadata": {
  "kernelspec": {
   "display_name": "Python 3",
   "language": "python",
   "name": "python3"
  },
  "language_info": {
   "codemirror_mode": {
    "name": "ipython",
    "version": 3
   },
   "file_extension": ".py",
   "mimetype": "text/x-python",
   "name": "python",
   "nbconvert_exporter": "python",
   "pygments_lexer": "ipython3",
   "version": "3.6.10"
  }
 },
 "nbformat": 4,
 "nbformat_minor": 4
}
