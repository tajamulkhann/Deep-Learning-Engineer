{
 "cells": [
  {
   "cell_type": "markdown",
   "metadata": {},
   "source": [
    "## About GANs\n",
    "\n",
    "Since GANs are quite advanced, diving deeply into the technical details would be out of scope for us. This specific implementation will be a **deep convolutional GAN, or DCGAN**: a GAN where the generator and discriminator are deep convnets.\n",
    "In particular, it leverages a `Conv2DTranspose` layer for image upsampling in the generator.\n",
    "\n",
    "We will train our GAN on images from **CIFAR10**, a dataset of 50,000 32x32 RGB images belong to 10 classes (5,000 images per class). To make things even easier, we will only use images belonging to the class \"frog\".\n",
    "\n",
    "Schematically, our GAN looks like this:\n",
    "\n",
    "- A generator network maps vectors of shape (latent_dim,) to images of shape (32, 32, 3).\n",
    "- A discriminator network maps images of shape (32, 32, 3) to a binary score estimating the probability that the image is real.\n",
    "- A gan network chains the generator and the discriminator together: `gan(x) = discriminator(generator(x))`. Thus this gan network maps latent space vectors to the discriminator's assessment of the realism of these latent vectors as decoded by the generator.\n",
    "- We train the discriminator using examples of real and fake images along with \"real\"/\"fake\" labels, as we would train any regular image classification model.\n",
    "- To train the generator, we use the gradients of the generator's weights with regard to the loss of the gan model. This means that, at every step, we move the weights of the generator in a direction that will make the discriminator more likely to classify as \"real\" the images decoded by the generator. I.e. we train the generator to fool the discriminator."
   ]
  },
  {
   "cell_type": "markdown",
   "metadata": {},
   "source": [
    "### A bag of tricks\n",
    "\n",
    "Here are a few of the tricks that we leverage in our own implementation of a GAN generator and discriminator below.\n",
    "\n",
    "- We use `tanh` as the last activation in the generator, instead of `sigmoid`, which would be more commonly found in other types of models.\n",
    "- We sample points from the latent space using a normal distribution (Gaussian distribution), not a uniform distribution.\n",
    "- Stochasticity is good to induce robustness. Since GAN training results in a dynamic equilibrium, GANs are likely to get \"stuck\" in all sorts of ways. Introducing randomness during training helps prevent this. We introduce randomness in two ways: \n",
    "    1. we use dropout in the discriminator;\n",
    "    2. we add some random noise to the labels for the discriminator.\n",
    "- Sparse gradients can hinder GAN training. In deep learning, sparsity is often a desirable property, but not in GANs. There are two things that can induce gradient sparsity: \n",
    "    1. max pooling operations;\n",
    "    2. ReLU activations. Instead of max pooling, we recommend using strided convolutions for downsampling, and we recommend using a LeakyReLU layer instead of a ReLU activation. It is similar to ReLU but it relaxes sparsity constraints by allowing small negative activation values.\n",
    "- In generated images, it is common to see \"checkerboard artifacts\" caused by unequal coverage of the pixel space in the generator. To fix this, we use a kernel size that is divisible by the stride size, whenever we use a strided Conv2DTranpose or Conv2D in both the generator and discriminator."
   ]
  },
  {
   "cell_type": "markdown",
   "metadata": {},
   "source": [
    "### The generator\n",
    "\n",
    "First, we develop a `generator` model, which turns a vector (from the latent space -- during training it will sampled at random) into a candidate image. One of the many issues that commonly arise with GANs is that the generator gets stuck with generated images that look like noise. A possible solution is to use dropout on both the discriminator and generator."
   ]
  },
  {
   "cell_type": "code",
   "execution_count": 1,
   "metadata": {
    "scrolled": true
   },
   "outputs": [
    {
     "name": "stdout",
     "output_type": "stream",
     "text": [
      "Model: \"model\"\n",
      "_________________________________________________________________\n",
      "Layer (type)                 Output Shape              Param #   \n",
      "=================================================================\n",
      "input_1 (InputLayer)         [(None, 32)]              0         \n",
      "_________________________________________________________________\n",
      "dense (Dense)                (None, 32768)             1081344   \n",
      "_________________________________________________________________\n",
      "leaky_re_lu (LeakyReLU)      (None, 32768)             0         \n",
      "_________________________________________________________________\n",
      "reshape (Reshape)            (None, 16, 16, 128)       0         \n",
      "_________________________________________________________________\n",
      "conv2d (Conv2D)              (None, 16, 16, 256)       819456    \n",
      "_________________________________________________________________\n",
      "leaky_re_lu_1 (LeakyReLU)    (None, 16, 16, 256)       0         \n",
      "_________________________________________________________________\n",
      "conv2d_transpose (Conv2DTran (None, 32, 32, 256)       1048832   \n",
      "_________________________________________________________________\n",
      "leaky_re_lu_2 (LeakyReLU)    (None, 32, 32, 256)       0         \n",
      "_________________________________________________________________\n",
      "conv2d_1 (Conv2D)            (None, 32, 32, 256)       1638656   \n",
      "_________________________________________________________________\n",
      "leaky_re_lu_3 (LeakyReLU)    (None, 32, 32, 256)       0         \n",
      "_________________________________________________________________\n",
      "conv2d_2 (Conv2D)            (None, 32, 32, 256)       1638656   \n",
      "_________________________________________________________________\n",
      "leaky_re_lu_4 (LeakyReLU)    (None, 32, 32, 256)       0         \n",
      "_________________________________________________________________\n",
      "conv2d_3 (Conv2D)            (None, 32, 32, 3)         37635     \n",
      "=================================================================\n",
      "Total params: 6,264,579\n",
      "Trainable params: 6,264,579\n",
      "Non-trainable params: 0\n",
      "_________________________________________________________________\n"
     ]
    }
   ],
   "source": [
    "import tensorflow as tf\n",
    "import numpy as np\n",
    "\n",
    "from tensorflow.keras import layers\n",
    "\n",
    "latent_dim = 32\n",
    "height = 32\n",
    "width = 32\n",
    "channels = 3\n",
    "\n",
    "generator_input = tf.keras.Input(shape=(latent_dim,))\n",
    "\n",
    "# First, transform the input into a 16x16 128-channels feature map\n",
    "x = layers.Dense(128 * 16 * 16)(generator_input)\n",
    "x = layers.LeakyReLU()(x)\n",
    "x = layers.Reshape((16, 16, 128))(x)\n",
    "\n",
    "# Then, add a convolution layer\n",
    "x = layers.Conv2D(256, 5, padding='same')(x)\n",
    "x = layers.LeakyReLU()(x)\n",
    "\n",
    "# Upsample to 32x32\n",
    "x = layers.Conv2DTranspose(256, 4, strides=2, padding='same')(x)\n",
    "x = layers.LeakyReLU()(x)\n",
    "\n",
    "# Few more conv layers\n",
    "x = layers.Conv2D(256, 5, padding='same')(x)\n",
    "x = layers.LeakyReLU()(x)\n",
    "x = layers.Conv2D(256, 5, padding='same')(x)\n",
    "x = layers.LeakyReLU()(x)\n",
    "\n",
    "# Produce a 32x32 1-channel feature map\n",
    "x = layers.Conv2D(channels, 7, activation='tanh', padding='same')(x)\n",
    "generator = tf.keras.models.Model(generator_input, x)\n",
    "\n",
    "generator.summary()"
   ]
  },
  {
   "cell_type": "markdown",
   "metadata": {},
   "source": [
    "### The discriminator\n",
    "\n",
    "Then, we develop a `discriminator` model, that takes as input a candidate image (real or synthetic) and classifies it into one of two classes, either \"generated image\" or \"real image that comes from the training set\"."
   ]
  },
  {
   "cell_type": "code",
   "execution_count": 2,
   "metadata": {
    "scrolled": true
   },
   "outputs": [
    {
     "name": "stdout",
     "output_type": "stream",
     "text": [
      "Model: \"model_1\"\n",
      "_________________________________________________________________\n",
      "Layer (type)                 Output Shape              Param #   \n",
      "=================================================================\n",
      "input_2 (InputLayer)         [(None, 32, 32, 3)]       0         \n",
      "_________________________________________________________________\n",
      "conv2d_4 (Conv2D)            (None, 30, 30, 128)       3584      \n",
      "_________________________________________________________________\n",
      "leaky_re_lu_5 (LeakyReLU)    (None, 30, 30, 128)       0         \n",
      "_________________________________________________________________\n",
      "conv2d_5 (Conv2D)            (None, 14, 14, 128)       262272    \n",
      "_________________________________________________________________\n",
      "leaky_re_lu_6 (LeakyReLU)    (None, 14, 14, 128)       0         \n",
      "_________________________________________________________________\n",
      "conv2d_6 (Conv2D)            (None, 6, 6, 128)         262272    \n",
      "_________________________________________________________________\n",
      "leaky_re_lu_7 (LeakyReLU)    (None, 6, 6, 128)         0         \n",
      "_________________________________________________________________\n",
      "conv2d_7 (Conv2D)            (None, 2, 2, 128)         262272    \n",
      "_________________________________________________________________\n",
      "leaky_re_lu_8 (LeakyReLU)    (None, 2, 2, 128)         0         \n",
      "_________________________________________________________________\n",
      "flatten (Flatten)            (None, 512)               0         \n",
      "_________________________________________________________________\n",
      "dropout (Dropout)            (None, 512)               0         \n",
      "_________________________________________________________________\n",
      "dense_1 (Dense)              (None, 1)                 513       \n",
      "=================================================================\n",
      "Total params: 790,913\n",
      "Trainable params: 790,913\n",
      "Non-trainable params: 0\n",
      "_________________________________________________________________\n"
     ]
    }
   ],
   "source": [
    "discriminator_input = layers.Input(shape=(height, width, channels))\n",
    "x = layers.Conv2D(128, 3)(discriminator_input)\n",
    "x = layers.LeakyReLU()(x)\n",
    "x = layers.Conv2D(128, 4, strides=2)(x)\n",
    "x = layers.LeakyReLU()(x)\n",
    "x = layers.Conv2D(128, 4, strides=2)(x)\n",
    "x = layers.LeakyReLU()(x)\n",
    "x = layers.Conv2D(128, 4, strides=2)(x)\n",
    "x = layers.LeakyReLU()(x)\n",
    "x = layers.Flatten()(x)\n",
    "\n",
    "# One dropout layer - important trick!\n",
    "x = layers.Dropout(0.4)(x)\n",
    "\n",
    "# Classification layer\n",
    "x = layers.Dense(1, activation='sigmoid')(x)\n",
    "\n",
    "discriminator = tf.keras.models.Model(discriminator_input, x)\n",
    "\n",
    "discriminator.summary()\n",
    "\n",
    "# To stabilize training, we use learning rate decay\n",
    "# and gradient clipping (by value) in the optimizer.\n",
    "discriminator_optimizer = tf.keras.optimizers.RMSprop(lr=0.0008, clipvalue=1.0, decay=1e-8)\n",
    "discriminator.compile(optimizer=discriminator_optimizer, loss='binary_crossentropy')"
   ]
  },
  {
   "cell_type": "markdown",
   "metadata": {},
   "source": [
    "### The adversarial network\n",
    "\n",
    "Finally, we setup the GAN, which chains the generator and the discriminator. This is the model that, when trained, will move the generator in a direction that improves its ability to fool the discriminator. This model turns latent space points into a classification decision, \"fake\" or \"real\", and it is meant to be trained with labels that are always \"these are real images\". So training `gan` will updates the weights of `generator` in a way that makes `discriminator` more likely to predict \"real\" when looking at fake images. Very importantly, we set the discriminator to be frozen during training (non-trainable): its weights will not be updated when training `gan`. If the discriminator weights could be updated during this process, then we would be training the discriminator to always predict \"real\", which is not what we want!"
   ]
  },
  {
   "cell_type": "code",
   "execution_count": 3,
   "metadata": {
    "scrolled": true
   },
   "outputs": [],
   "source": [
    "# Set discriminator weights to non-trainable\n",
    "# (will only apply to the `gan` model)\n",
    "discriminator.trainable = False\n",
    "\n",
    "gan_input = tf.keras.Input(shape=(latent_dim,))\n",
    "gan_output = discriminator(generator(gan_input))\n",
    "gan = tf.keras.models.Model(gan_input, gan_output)\n",
    "\n",
    "gan_optimizer = tf.keras.optimizers.RMSprop(lr=0.0004, clipvalue=1.0, decay=1e-8)\n",
    "gan.compile(optimizer=gan_optimizer, loss='binary_crossentropy')"
   ]
  },
  {
   "cell_type": "markdown",
   "metadata": {},
   "source": [
    "### Train the GAN\n",
    "\n",
    "Now we can start training. To recapitulate, this is schematically what the training loop looks like:\n",
    "\n",
    "for each epoch:\n",
    "- Draw random points in the latent space (random noise).\n",
    "- Generate images with `generator` using this random noise.\n",
    "- Mix the generated images with real ones.\n",
    "- Train `discriminator` using these mixed images, with corresponding targets, either \"real\" (for the real images) or \"fake\" (for the generated images).\n",
    "- Draw new random points in the latent space.\n",
    "- Train `gan` using these random vectors, with targets that all say \"these are real images\". This will update the weights of the generator (only, since discriminator is frozen inside `gan`) to move them towards getting the discriminator to predict \"these are real images\" for generated images, i.e. this trains the generator to fool the discriminator."
   ]
  },
  {
   "cell_type": "code",
   "execution_count": 4,
   "metadata": {
    "scrolled": false
   },
   "outputs": [
    {
     "name": "stdout",
     "output_type": "stream",
     "text": [
      "discriminator loss at step 0: 0.6778590083122253\n",
      "adversarial loss at step 0: 0.6921756267547607\n",
      "discriminator loss at step 100: 0.6909359097480774\n",
      "adversarial loss at step 100: 0.7232593297958374\n",
      "discriminator loss at step 200: 0.7348566055297852\n",
      "adversarial loss at step 200: 0.7360358834266663\n",
      "discriminator loss at step 300: 0.6915746927261353\n",
      "adversarial loss at step 300: 0.7531574368476868\n",
      "discriminator loss at step 400: 0.6916146874427795\n",
      "adversarial loss at step 400: 0.7307637929916382\n",
      "discriminator loss at step 500: 0.6944142580032349\n",
      "adversarial loss at step 500: 0.7515280842781067\n",
      "discriminator loss at step 600: 0.7076152563095093\n",
      "adversarial loss at step 600: 0.7389554381370544\n",
      "discriminator loss at step 700: 0.6973960995674133\n",
      "adversarial loss at step 700: 0.7396218180656433\n",
      "discriminator loss at step 800: 0.7043560743331909\n",
      "adversarial loss at step 800: 0.7644603848457336\n",
      "discriminator loss at step 900: 0.6983610391616821\n",
      "adversarial loss at step 900: 0.7599353790283203\n",
      "discriminator loss at step 1000: 0.6604564785957336\n",
      "adversarial loss at step 1000: 1.0948461294174194\n",
      "discriminator loss at step 1100: 0.6915992498397827\n",
      "adversarial loss at step 1100: 0.7560330033302307\n",
      "discriminator loss at step 1200: 0.7402322292327881\n",
      "adversarial loss at step 1200: 0.781981348991394\n",
      "discriminator loss at step 1300: 0.6984463930130005\n",
      "adversarial loss at step 1300: 0.8005400896072388\n",
      "discriminator loss at step 1400: 0.6942706108093262\n",
      "adversarial loss at step 1400: 0.7470855712890625\n",
      "discriminator loss at step 1500: 0.6934496164321899\n",
      "adversarial loss at step 1500: 0.7374321818351746\n",
      "discriminator loss at step 1600: 0.7100178599357605\n",
      "adversarial loss at step 1600: 0.7399117350578308\n",
      "discriminator loss at step 1700: 0.6666063070297241\n",
      "adversarial loss at step 1700: 0.8585618734359741\n",
      "discriminator loss at step 1800: 0.7241682410240173\n",
      "adversarial loss at step 1800: 0.7761653065681458\n",
      "discriminator loss at step 1900: 0.6823721528053284\n",
      "adversarial loss at step 1900: 0.7394989728927612\n",
      "discriminator loss at step 2000: 0.6899019479751587\n",
      "adversarial loss at step 2000: 0.760367751121521\n",
      "discriminator loss at step 2100: 0.7057534456253052\n",
      "adversarial loss at step 2100: 0.7540478110313416\n",
      "discriminator loss at step 2200: 0.7046432495117188\n",
      "adversarial loss at step 2200: 0.7378937602043152\n",
      "discriminator loss at step 2300: 0.6872519254684448\n",
      "adversarial loss at step 2300: 0.7519232034683228\n",
      "discriminator loss at step 2400: 0.6937800049781799\n",
      "adversarial loss at step 2400: 0.7615062594413757\n",
      "discriminator loss at step 2500: 0.6933615803718567\n",
      "adversarial loss at step 2500: 0.600437581539154\n",
      "discriminator loss at step 2600: 0.6794348955154419\n",
      "adversarial loss at step 2600: 0.7602338790893555\n",
      "discriminator loss at step 2700: 0.6938766837120056\n",
      "adversarial loss at step 2700: 0.7341712713241577\n",
      "discriminator loss at step 2800: 0.6820650100708008\n",
      "adversarial loss at step 2800: 0.7613245248794556\n",
      "discriminator loss at step 2900: 0.6948167085647583\n",
      "adversarial loss at step 2900: 0.764464259147644\n",
      "discriminator loss at step 3000: 0.7136386632919312\n",
      "adversarial loss at step 3000: 0.7398979663848877\n",
      "discriminator loss at step 3100: 0.7916512489318848\n",
      "adversarial loss at step 3100: 0.7699298858642578\n",
      "discriminator loss at step 3200: 0.6865180134773254\n",
      "adversarial loss at step 3200: 0.7760629653930664\n",
      "discriminator loss at step 3300: 0.6743766069412231\n",
      "adversarial loss at step 3300: 0.6999596953392029\n",
      "discriminator loss at step 3400: 0.6923761367797852\n",
      "adversarial loss at step 3400: 0.8001443147659302\n",
      "discriminator loss at step 3500: 0.7045294046401978\n",
      "adversarial loss at step 3500: 0.7855002880096436\n",
      "discriminator loss at step 3600: 0.684561550617218\n",
      "adversarial loss at step 3600: 0.5478525161743164\n",
      "discriminator loss at step 3700: 0.7120552062988281\n",
      "adversarial loss at step 3700: 0.7256332635879517\n",
      "discriminator loss at step 3800: 0.692017674446106\n",
      "adversarial loss at step 3800: 0.7316322326660156\n",
      "discriminator loss at step 3900: 0.7161163091659546\n",
      "adversarial loss at step 3900: 0.7588232755661011\n",
      "discriminator loss at step 4000: 0.6953740119934082\n",
      "adversarial loss at step 4000: 0.7575713992118835\n",
      "discriminator loss at step 4100: 0.7161322832107544\n",
      "adversarial loss at step 4100: 0.7404390573501587\n",
      "discriminator loss at step 4200: 0.6931121349334717\n",
      "adversarial loss at step 4200: 0.8234656453132629\n",
      "discriminator loss at step 4300: 0.6933884620666504\n",
      "adversarial loss at step 4300: 0.7672902345657349\n",
      "discriminator loss at step 4400: 0.6870468258857727\n",
      "adversarial loss at step 4400: 0.8066245317459106\n",
      "discriminator loss at step 4500: 0.7038675546646118\n",
      "adversarial loss at step 4500: 0.7506153583526611\n",
      "discriminator loss at step 4600: 0.7378366589546204\n",
      "adversarial loss at step 4600: 0.793296217918396\n",
      "discriminator loss at step 4700: 0.704311192035675\n",
      "adversarial loss at step 4700: 0.6991087198257446\n",
      "discriminator loss at step 4800: 0.6901472210884094\n",
      "adversarial loss at step 4800: 0.7494764924049377\n",
      "discriminator loss at step 4900: 0.7062457799911499\n",
      "adversarial loss at step 4900: 0.8139276504516602\n",
      "discriminator loss at step 5000: 0.6785241365432739\n",
      "adversarial loss at step 5000: 0.7340184450149536\n",
      "discriminator loss at step 5100: 0.6995220184326172\n",
      "adversarial loss at step 5100: 0.8298379778862\n",
      "discriminator loss at step 5200: 0.6959754824638367\n",
      "adversarial loss at step 5200: 0.706729531288147\n",
      "discriminator loss at step 5300: 0.682555079460144\n",
      "adversarial loss at step 5300: 1.4900400638580322\n",
      "discriminator loss at step 5400: 0.693299412727356\n",
      "adversarial loss at step 5400: 0.819563090801239\n",
      "discriminator loss at step 5500: 0.6903590559959412\n",
      "adversarial loss at step 5500: 0.8526564836502075\n",
      "discriminator loss at step 5600: 0.7191124558448792\n",
      "adversarial loss at step 5600: 0.7900956869125366\n",
      "discriminator loss at step 5700: 0.6815227270126343\n",
      "adversarial loss at step 5700: 0.7497392892837524\n",
      "discriminator loss at step 5800: 0.6751655340194702\n",
      "adversarial loss at step 5800: 0.7598960995674133\n",
      "discriminator loss at step 5900: 0.6923342943191528\n",
      "adversarial loss at step 5900: 0.8122521638870239\n",
      "discriminator loss at step 6000: 0.6919266581535339\n",
      "adversarial loss at step 6000: 0.7355332374572754\n",
      "discriminator loss at step 6100: 0.7285688519477844\n",
      "adversarial loss at step 6100: 0.8961042165756226\n",
      "discriminator loss at step 6200: 0.6937045454978943\n",
      "adversarial loss at step 6200: 0.8102605938911438\n",
      "discriminator loss at step 6300: 0.6830167174339294\n",
      "adversarial loss at step 6300: 0.7191219925880432\n",
      "discriminator loss at step 6400: 0.6995924711227417\n",
      "adversarial loss at step 6400: 0.8283789753913879\n",
      "discriminator loss at step 6500: 0.678104043006897\n",
      "adversarial loss at step 6500: 0.7392969131469727\n",
      "discriminator loss at step 6600: 0.6722562909126282\n",
      "adversarial loss at step 6600: 0.747785747051239\n",
      "discriminator loss at step 6700: 0.7277047038078308\n",
      "adversarial loss at step 6700: 0.8066657185554504\n",
      "discriminator loss at step 6800: 0.6564754247665405\n",
      "adversarial loss at step 6800: 0.7770302891731262\n",
      "discriminator loss at step 6900: 0.6471182107925415\n",
      "adversarial loss at step 6900: 0.7265607714653015\n",
      "discriminator loss at step 7000: 0.6762427687644958\n",
      "adversarial loss at step 7000: 1.0510435104370117\n",
      "discriminator loss at step 7100: 0.6755245327949524\n",
      "adversarial loss at step 7100: 0.8556197285652161\n",
      "discriminator loss at step 7200: 0.6616963148117065\n",
      "adversarial loss at step 7200: 1.1035858392715454\n",
      "discriminator loss at step 7300: 0.779595673084259\n",
      "adversarial loss at step 7300: 0.8863322138786316\n",
      "discriminator loss at step 7400: 0.7418298125267029\n",
      "adversarial loss at step 7400: 0.8954163789749146\n",
      "discriminator loss at step 7500: 0.6821805834770203\n",
      "adversarial loss at step 7500: 0.7995446920394897\n",
      "discriminator loss at step 7600: 0.6932834386825562\n",
      "adversarial loss at step 7600: 0.7285876870155334\n",
      "discriminator loss at step 7700: 0.7006130218505859\n",
      "adversarial loss at step 7700: 0.7259680032730103\n",
      "discriminator loss at step 7800: 0.6575964689254761\n",
      "adversarial loss at step 7800: 0.8425529599189758\n",
      "discriminator loss at step 7900: 0.6934231519699097\n",
      "adversarial loss at step 7900: 0.7954859733581543\n",
      "discriminator loss at step 8000: 0.6591410636901855\n",
      "adversarial loss at step 8000: 0.8270484805107117\n"
     ]
    },
    {
     "name": "stdout",
     "output_type": "stream",
     "text": [
      "discriminator loss at step 8100: 0.6654934287071228\n",
      "adversarial loss at step 8100: 0.7777467370033264\n",
      "discriminator loss at step 8200: 0.6844288110733032\n",
      "adversarial loss at step 8200: 0.8036285638809204\n",
      "discriminator loss at step 8300: 0.6586889028549194\n",
      "adversarial loss at step 8300: 0.8191455602645874\n",
      "discriminator loss at step 8400: 0.7079136371612549\n",
      "adversarial loss at step 8400: 0.8375943303108215\n",
      "discriminator loss at step 8500: 0.683200478553772\n",
      "adversarial loss at step 8500: 0.804570198059082\n",
      "discriminator loss at step 8600: 0.6572795510292053\n",
      "adversarial loss at step 8600: 0.8069583773612976\n",
      "discriminator loss at step 8700: 0.6725416779518127\n",
      "adversarial loss at step 8700: 0.7584900259971619\n",
      "discriminator loss at step 8800: 0.6498632431030273\n",
      "adversarial loss at step 8800: 0.7611643075942993\n",
      "discriminator loss at step 8900: 0.703307569026947\n",
      "adversarial loss at step 8900: 0.8380733728408813\n",
      "discriminator loss at step 9000: 0.6626173853874207\n",
      "adversarial loss at step 9000: 0.8375175595283508\n",
      "discriminator loss at step 9100: 0.6829817891120911\n",
      "adversarial loss at step 9100: 1.082000494003296\n",
      "discriminator loss at step 9200: 0.6876659393310547\n",
      "adversarial loss at step 9200: 1.210086464881897\n",
      "discriminator loss at step 9300: 0.6862452626228333\n",
      "adversarial loss at step 9300: 0.9315782785415649\n",
      "discriminator loss at step 9400: 0.7502065896987915\n",
      "adversarial loss at step 9400: 0.7455354928970337\n",
      "discriminator loss at step 9500: 0.676935076713562\n",
      "adversarial loss at step 9500: 1.0365252494812012\n",
      "discriminator loss at step 9600: 1.0199213027954102\n",
      "adversarial loss at step 9600: 1.092383861541748\n",
      "discriminator loss at step 9700: 0.6999235153198242\n",
      "adversarial loss at step 9700: 0.7779121398925781\n",
      "discriminator loss at step 9800: 0.6862936019897461\n",
      "adversarial loss at step 9800: 0.8106086850166321\n",
      "discriminator loss at step 9900: 0.7061524391174316\n",
      "adversarial loss at step 9900: 0.8262122869491577\n"
     ]
    }
   ],
   "source": [
    "import os\n",
    "from tensorflow.keras.preprocessing import image\n",
    "\n",
    "# Load CIFAR10 data\n",
    "(x_train, y_train), (_, _) = tf.keras.datasets.cifar10.load_data()\n",
    "\n",
    "# Select frog images (class 6)\n",
    "x_train = x_train[y_train.flatten() == 6]\n",
    "\n",
    "# Normalize data\n",
    "x_train = x_train.reshape(\n",
    "    (x_train.shape[0],) + (height, width, channels)).astype('float32') / 255.\n",
    "\n",
    "iterations = 10000\n",
    "batch_size = 20\n",
    "save_dir = './results/gan'\n",
    "\n",
    "# Start training loop\n",
    "start = 0\n",
    "for step in range(iterations):\n",
    "    # Sample random points in the latent space\n",
    "    random_latent_vectors = np.random.normal(size=(batch_size, latent_dim))\n",
    "\n",
    "    # Decode them to fake images\n",
    "    generated_images = generator.predict(random_latent_vectors)\n",
    "\n",
    "    # Combine them with real images\n",
    "    stop = start + batch_size\n",
    "    real_images = x_train[start: stop]\n",
    "    combined_images = np.concatenate([generated_images, real_images])\n",
    "\n",
    "    # Assemble labels discriminating real from fake images\n",
    "    labels = np.concatenate([np.ones((batch_size, 1)), np.zeros((batch_size, 1))])\n",
    "    # Add random noise to the labels - important trick!\n",
    "    labels += 0.05 * np.random.random(labels.shape)\n",
    "\n",
    "    # Train the discriminator\n",
    "    d_loss = discriminator.train_on_batch(combined_images, labels)\n",
    "\n",
    "    # sample random points in the latent space\n",
    "    random_latent_vectors = np.random.normal(size=(batch_size, latent_dim))\n",
    "\n",
    "    # Assemble labels that say \"all real images\"\n",
    "    misleading_targets = np.zeros((batch_size, 1))\n",
    "\n",
    "    # Train the generator (via the gan model,\n",
    "    # where the discriminator weights are frozen)\n",
    "    a_loss = gan.train_on_batch(random_latent_vectors, misleading_targets)\n",
    "    \n",
    "    start += batch_size\n",
    "    if start > len(x_train) - batch_size:\n",
    "        start = 0\n",
    "\n",
    "    # Occasionally save / plot\n",
    "    if step % 100 == 0:\n",
    "        # Save model weights\n",
    "        gan.save_weights('./results/gan/gan.h5')\n",
    "\n",
    "        # Print metrics\n",
    "        print('discriminator loss at step %s: %s' % (step, d_loss))\n",
    "        print('adversarial loss at step %s: %s' % (step, a_loss))\n",
    "\n",
    "        # Save one generated image\n",
    "        img = image.array_to_img(generated_images[0] * 255., scale=False)\n",
    "        img.save(os.path.join(save_dir, 'generated_frog' + str(step) + '.png'))\n",
    "\n",
    "        # Save one real image, for comparison\n",
    "        img = image.array_to_img(real_images[0] * 255., scale=False)\n",
    "        img.save(os.path.join(save_dir, 'real_frog' + str(step) + '.png'))"
   ]
  },
  {
   "cell_type": "markdown",
   "metadata": {},
   "source": [
    "Let's display a few of our fake images:"
   ]
  },
  {
   "cell_type": "code",
   "execution_count": 10,
   "metadata": {
    "scrolled": false
   },
   "outputs": [
    {
     "data": {
      "image/png": "[encoded data removed]",
      "text/plain": [
       "<Figure size 432x288 with 1 Axes>"
      ]
     },
     "metadata": {
      "needs_background": "light"
     },
     "output_type": "display_data"
    },
    {
     "data": {
      "image/png": "[encoded data removed]",
      "text/plain": [
       "<Figure size 432x288 with 1 Axes>"
      ]
     },
     "metadata": {
      "needs_background": "light"
     },
     "output_type": "display_data"
    },
    {
     "data": {
      "image/png": "[encoded data removed]",
      "text/plain": [
       "<Figure size 432x288 with 1 Axes>"
      ]
     },
     "metadata": {
      "needs_background": "light"
     },
     "output_type": "display_data"
    },
    {
     "data": {
      "image/png": "[encoded data removed]",
      "text/plain": [
       "<Figure size 432x288 with 1 Axes>"
      ]
     },
     "metadata": {
      "needs_background": "light"
     },
     "output_type": "display_data"
    },
    {
     "data": {
      "image/png": "[encoded data removed]",
      "text/plain": [
       "<Figure size 432x288 with 1 Axes>"
      ]
     },
     "metadata": {
      "needs_background": "light"
     },
     "output_type": "display_data"
    },
    {
     "data": {
      "image/png": "[encoded data removed]",
      "text/plain": [
       "<Figure size 432x288 with 1 Axes>"
      ]
     },
     "metadata": {
      "needs_background": "light"
     },
     "output_type": "display_data"
    },
    {
     "data": {
      "image/png": "[encoded data removed]",
      "text/plain": [
       "<Figure size 432x288 with 1 Axes>"
      ]
     },
     "metadata": {
      "needs_background": "light"
     },
     "output_type": "display_data"
    },
    {
     "data": {
      "image/png": "[encoded data removed]",
      "text/plain": [
       "<Figure size 432x288 with 1 Axes>"
      ]
     },
     "metadata": {
      "needs_background": "light"
     },
     "output_type": "display_data"
    },
    {
     "data": {
      "image/png": "[encoded data removed]",
      "text/plain": [
       "<Figure size 432x288 with 1 Axes>"
      ]
     },
     "metadata": {
      "needs_background": "light"
     },
     "output_type": "display_data"
    },
    {
     "data": {
      "image/png": "[encoded data removed]",
      "text/plain": [
       "<Figure size 432x288 with 1 Axes>"
      ]
     },
     "metadata": {
      "needs_background": "light"
     },
     "output_type": "display_data"
    }
   ],
   "source": [
    "import matplotlib.pyplot as plt\n",
    "\n",
    "# Sample random points in the latent space\n",
    "random_latent_vectors = np.random.normal(size=(10, latent_dim))\n",
    "\n",
    "# Decode them to fake images\n",
    "generated_images = generator.predict(random_latent_vectors)\n",
    "\n",
    "for i in range(generated_images.shape[0]):\n",
    "    img = image.array_to_img(generated_images[i] * 255., scale=False)\n",
    "    plt.figure()\n",
    "    plt.imshow(img)\n",
    "    \n",
    "plt.show()"
   ]
  },
  {
   "cell_type": "code",
   "execution_count": null,
   "metadata": {
    "scrolled": false
   },
   "outputs": [],
   "source": []
  }
 ],
 "metadata": {
  "kernelspec": {
   "display_name": "Python 3.6.10 64-bit ('dl-python': conda)",
   "language": "python",
   "name": "python361064bitdlpythoncondad344b632c0d143ada03beb1bf0544059"
  },
  "language_info": {
   "codemirror_mode": {
    "name": "ipython",
    "version": 3
   },
   "file_extension": ".py",
   "mimetype": "text/x-python",
   "name": "python",
   "nbconvert_exporter": "python",
   "pygments_lexer": "ipython3",
   "version": "3.6.10"
  }
 },
 "nbformat": 4,
 "nbformat_minor": 4
}
